{
 "cells": [
  {
   "cell_type": "markdown",
   "metadata": {},
   "source": [
    "# Описание проекта"
   ]
  },
  {
   "cell_type": "markdown",
   "metadata": {},
   "source": [
    "Допустим, вы работаете в добывающей компании «ГлавРосГосНефть». Нужно решить, где бурить новую скважину.\n",
    "\n",
    "Вам предоставлены пробы нефти в трёх регионах: в каждом 10 000 месторождений, где измерили качество нефти и объём её запасов. Постройте модель машинного обучения, которая поможет определить регион, где добыча принесёт наибольшую прибыль. Проанализируйте возможную прибыль и риски техникой *Bootstrap.*\n",
    "\n",
    "Шаги для выбора локации:\n",
    "\n",
    "- В избранном регионе ищут месторождения, для каждого определяют значения признаков;\n",
    "- Строят модель и оценивают объём запасов;\n",
    "- Выбирают месторождения с самым высокими оценками значений. Количество месторождений зависит от бюджета компании и стоимости разработки одной скважины;\n",
    "- Прибыль равна суммарной прибыли отобранных месторождений."
   ]
  },
  {
   "cell_type": "code",
   "execution_count": 1,
   "metadata": {},
   "outputs": [],
   "source": [
    "import pandas as pd\n",
    "import plotly.express as px\n",
    "import numpy as np\n",
    "from sklearn.model_selection import train_test_split\n",
    "from sklearn.linear_model import LinearRegression\n",
    "from sklearn.metrics import mean_squared_error"
   ]
  },
  {
   "cell_type": "markdown",
   "metadata": {},
   "source": [
    "# 1. Загрузка и подготовка данных"
   ]
  },
  {
   "cell_type": "code",
   "execution_count": 2,
   "metadata": {},
   "outputs": [],
   "source": [
    "df0 = pd.read_csv('/datasets/geo_data_0.csv')\n",
    "df1 = pd.read_csv('/datasets/geo_data_1.csv')\n",
    "df2 = pd.read_csv('/datasets/geo_data_2.csv')"
   ]
  },
  {
   "cell_type": "code",
   "execution_count": 3,
   "metadata": {
    "scrolled": true
   },
   "outputs": [
    {
     "name": "stdout",
     "output_type": "stream",
     "text": [
      "      id        f0        f1        f2     product\n",
      "0  txEyH  0.705745 -0.497823  1.221170  105.280062\n",
      "1  2acmU  1.334711 -0.340164  4.365080   73.037750\n",
      "2  409Wp  1.022732  0.151990  1.419926   85.265647\n",
      "3  iJLyR -0.032172  0.139033  2.978566  168.620776\n",
      "4  Xdl7t  1.988431  0.155413  4.751769  154.036647\n",
      "\n",
      "<class 'pandas.core.frame.DataFrame'>\n",
      "RangeIndex: 100000 entries, 0 to 99999\n",
      "Data columns (total 5 columns):\n",
      "id         100000 non-null object\n",
      "f0         100000 non-null float64\n",
      "f1         100000 non-null float64\n",
      "f2         100000 non-null float64\n",
      "product    100000 non-null float64\n",
      "dtypes: float64(4), object(1)\n",
      "memory usage: 3.8+ MB\n",
      "None\n",
      "\n",
      "                  f0             f1             f2        product\n",
      "count  100000.000000  100000.000000  100000.000000  100000.000000\n",
      "mean        0.500419       0.250143       2.502647      92.500000\n",
      "std         0.871832       0.504433       3.248248      44.288691\n",
      "min        -1.408605      -0.848218     -12.088328       0.000000\n",
      "25%        -0.072580      -0.200881       0.287748      56.497507\n",
      "50%         0.502360       0.250252       2.515969      91.849972\n",
      "75%         1.073581       0.700646       4.715088     128.564089\n",
      "max         2.362331       1.343769      16.003790     185.364347\n",
      "\n",
      "------------------------------------------------------------------------------------------------------------------\n",
      "      id         f0         f1        f2     product\n",
      "0  kBEdx -15.001348  -8.276000 -0.005876    3.179103\n",
      "1  62mP7  14.272088  -3.475083  0.999183   26.953261\n",
      "2  vyE1P   6.263187  -5.948386  5.001160  134.766305\n",
      "3  KcrkZ -13.081196 -11.506057  4.999415  137.945408\n",
      "4  AHL4O  12.702195  -8.147433  5.004363  134.766305\n",
      "\n",
      "<class 'pandas.core.frame.DataFrame'>\n",
      "RangeIndex: 100000 entries, 0 to 99999\n",
      "Data columns (total 5 columns):\n",
      "id         100000 non-null object\n",
      "f0         100000 non-null float64\n",
      "f1         100000 non-null float64\n",
      "f2         100000 non-null float64\n",
      "product    100000 non-null float64\n",
      "dtypes: float64(4), object(1)\n",
      "memory usage: 3.8+ MB\n",
      "None\n",
      "\n",
      "                  f0             f1             f2        product\n",
      "count  100000.000000  100000.000000  100000.000000  100000.000000\n",
      "mean        1.141296      -4.796579       2.494541      68.825000\n",
      "std         8.965932       5.119872       1.703572      45.944423\n",
      "min       -31.609576     -26.358598      -0.018144       0.000000\n",
      "25%        -6.298551      -8.267985       1.000021      26.953261\n",
      "50%         1.153055      -4.813172       2.011479      57.085625\n",
      "75%         8.621015      -1.332816       3.999904     107.813044\n",
      "max        29.421755      18.734063       5.019721     137.945408\n",
      "\n",
      "------------------------------------------------------------------------------------------------------------------\n",
      "      id        f0        f1        f2     product\n",
      "0  fwXo0 -1.146987  0.963328 -0.828965   27.758673\n",
      "1  WJtFt  0.262778  0.269839 -2.530187   56.069697\n",
      "2  ovLUW  0.194587  0.289035 -5.586433   62.871910\n",
      "3  q6cA6  2.236060 -0.553760  0.930038  114.572842\n",
      "4  WPMUX -0.515993  1.716266  5.899011  149.600746\n",
      "\n",
      "<class 'pandas.core.frame.DataFrame'>\n",
      "RangeIndex: 100000 entries, 0 to 99999\n",
      "Data columns (total 5 columns):\n",
      "id         100000 non-null object\n",
      "f0         100000 non-null float64\n",
      "f1         100000 non-null float64\n",
      "f2         100000 non-null float64\n",
      "product    100000 non-null float64\n",
      "dtypes: float64(4), object(1)\n",
      "memory usage: 3.8+ MB\n",
      "None\n",
      "\n",
      "                  f0             f1             f2        product\n",
      "count  100000.000000  100000.000000  100000.000000  100000.000000\n",
      "mean        0.002023      -0.002081       2.495128      95.000000\n",
      "std         1.732045       1.730417       3.473445      44.749921\n",
      "min        -8.760004      -7.084020     -11.970335       0.000000\n",
      "25%        -1.162288      -1.174820       0.130359      59.450441\n",
      "50%         0.009424      -0.009482       2.484236      94.925613\n",
      "75%         1.158535       1.163678       4.858794     130.595027\n",
      "max         7.238262       7.844801      16.739402     190.029838\n",
      "\n",
      "------------------------------------------------------------------------------------------------------------------\n"
     ]
    }
   ],
   "source": [
    "for i in df0, df1, df2:\n",
    "    head = i.head()\n",
    "    print(head)\n",
    "    print()\n",
    "    \n",
    "    info = i.info()\n",
    "    print(info)\n",
    "    print()\n",
    "    \n",
    "    describe = i.describe()\n",
    "    print(describe)\n",
    "    print()\n",
    "    \n",
    "    print('------------------------------------------------------------------------------------------------------------------')"
   ]
  },
  {
   "cell_type": "code",
   "execution_count": 4,
   "metadata": {},
   "outputs": [],
   "source": [
    "# Функция пробегает по признакам датафрейма и если тип у признака float64 оценивается распределени\n",
    "def unique(data):\n",
    "    for column in data.columns:\n",
    "        if data[column].dtype == 'float64':\n",
    "            print(column)\n",
    "            fig = px.histogram(data, x = column, marginal = 'box', title = ''+ column)\n",
    "            fig.show()"
   ]
  },
  {
   "cell_type": "markdown",
   "metadata": {},
   "source": [
    "Когда формирую данные функции юпитер отказывается сохранять проект. Пришлось закомментировать."
   ]
  },
  {
   "cell_type": "code",
   "execution_count": 5,
   "metadata": {
    "scrolled": true
   },
   "outputs": [],
   "source": [
    "#unique(df0)"
   ]
  },
  {
   "cell_type": "markdown",
   "metadata": {},
   "source": [
    "---"
   ]
  },
  {
   "cell_type": "code",
   "execution_count": 6,
   "metadata": {
    "scrolled": true
   },
   "outputs": [],
   "source": [
    "#unique(df1)"
   ]
  },
  {
   "cell_type": "markdown",
   "metadata": {},
   "source": [
    "---"
   ]
  },
  {
   "cell_type": "code",
   "execution_count": 7,
   "metadata": {
    "scrolled": true
   },
   "outputs": [],
   "source": [
    "#unique(df2)"
   ]
  },
  {
   "cell_type": "markdown",
   "metadata": {},
   "source": [
    "---"
   ]
  },
  {
   "cell_type": "markdown",
   "metadata": {},
   "source": [
    "#### Вывод"
   ]
  },
  {
   "cell_type": "markdown",
   "metadata": {},
   "source": [
    "Данные были загружены и подготовлены для дальнейшей работы. Предобработки не требуют."
   ]
  },
  {
   "cell_type": "markdown",
   "metadata": {},
   "source": [
    "# 2. Обучение и проверка модели"
   ]
  },
  {
   "cell_type": "markdown",
   "metadata": {},
   "source": [
    "Целевой признак это **product**.\n",
    "Признаки для обудения модели: **f0, f1, f2**.\n",
    "\n",
    "Разделим данные на 2 выборки:\n",
    "- 75% обучающую\n",
    "- 25% валидационную"
   ]
  },
  {
   "cell_type": "markdown",
   "metadata": {},
   "source": [
    "----"
   ]
  },
  {
   "cell_type": "markdown",
   "metadata": {},
   "source": [
    "## df0"
   ]
  },
  {
   "cell_type": "code",
   "execution_count": 8,
   "metadata": {},
   "outputs": [],
   "source": [
    "target_df0 = df1['product']\n",
    "features_df0 = df1.drop(['product','id'],axis=1)"
   ]
  },
  {
   "cell_type": "code",
   "execution_count": 9,
   "metadata": {},
   "outputs": [],
   "source": [
    "# Разделение на обучающую и валидационную выборки\n",
    "features_train_df0, features_valid_df0, target_train_df0, target_valid_df0 = train_test_split(features_df0, \n",
    "                                                                              target_df0,\n",
    "                                                                              test_size=0.25, \n",
    "                                                                              random_state=12345)"
   ]
  },
  {
   "cell_type": "code",
   "execution_count": 10,
   "metadata": {
    "scrolled": true
   },
   "outputs": [],
   "source": [
    "# Обучем модель\n",
    "model_df0 = LinearRegression()\n",
    "model_df0.fit(features_train_df0,target_train_df0)\n",
    "predict_df0 = model_df0.predict(features_valid_df0)"
   ]
  },
  {
   "cell_type": "code",
   "execution_count": 11,
   "metadata": {},
   "outputs": [
    {
     "name": "stdout",
     "output_type": "stream",
     "text": [
      "Cредний запас предсказанного сырья 68.728546895446\n",
      "RMSE модели 0.893099286775616\n"
     ]
    }
   ],
   "source": [
    "#Расчёт среднего запаса предсказанного сырья и RMSE модели\n",
    "MEAN_df0 = predict_df0.mean()\n",
    "RMSE_df0 = mean_squared_error(target_valid_df0, predict_df0)**0.5\n",
    "\n",
    "print('Cредний запас предсказанного сырья',MEAN_df0)\n",
    "print('RMSE модели',RMSE_df0)"
   ]
  },
  {
   "cell_type": "code",
   "execution_count": 41,
   "metadata": {},
   "outputs": [
    {
     "data": {
      "text/plain": [
       "array([ 82.66331365,  54.43178616,  29.74875995, ..., 137.87934053,\n",
       "        83.76196568,  53.95846638])"
      ]
     },
     "execution_count": 41,
     "metadata": {},
     "output_type": "execute_result"
    }
   ],
   "source": [
    "predict_df0"
   ]
  },
  {
   "cell_type": "markdown",
   "metadata": {},
   "source": [
    "---"
   ]
  },
  {
   "cell_type": "code",
   "execution_count": 12,
   "metadata": {},
   "outputs": [
    {
     "data": {
      "text/plain": [
       "array([[<matplotlib.axes._subplots.AxesSubplot object at 0x7f789e271a90>,\n",
       "        <matplotlib.axes._subplots.AxesSubplot object at 0x7f789e78e8d0>],\n",
       "       [<matplotlib.axes._subplots.AxesSubplot object at 0x7f789df42dd0>,\n",
       "        <matplotlib.axes._subplots.AxesSubplot object at 0x7f789df77a90>]],\n",
       "      dtype=object)"
      ]
     },
     "execution_count": 12,
     "metadata": {},
     "output_type": "execute_result"
    },
    {
     "data": {
      "image/png": "[encoded data removed]",
      "text/plain": [
       "<Figure size 432x288 with 4 Axes>"
      ]
     },
     "metadata": {
      "needs_background": "light"
     },
     "output_type": "display_data"
    }
   ],
   "source": [
    "df1.hist(bins=150)"
   ]
  },
  {
   "cell_type": "markdown",
   "metadata": {},
   "source": [
    "## df1"
   ]
  },
  {
   "cell_type": "code",
   "execution_count": 13,
   "metadata": {},
   "outputs": [],
   "source": [
    "target_df1 = df1['product']\n",
    "features_df1 = df1.drop(['product','id'],axis=1)"
   ]
  },
  {
   "cell_type": "code",
   "execution_count": 14,
   "metadata": {},
   "outputs": [],
   "source": [
    "# Разделение на обучающую и валидационную выборки\n",
    "features_train_df1, features_valid_df1, target_train_df1, target_valid_df1 = train_test_split(features_df1, \n",
    "                                                                              target_df1,\n",
    "                                                                              test_size=0.25, \n",
    "                                                                              random_state=12345)"
   ]
  },
  {
   "cell_type": "code",
   "execution_count": 15,
   "metadata": {},
   "outputs": [],
   "source": [
    "# Обучем модель\n",
    "model_df1 = LinearRegression()\n",
    "model_df1.fit(features_train_df1, target_train_df1)\n",
    "predict_df1 = model_df1.predict(features_valid_df1)"
   ]
  },
  {
   "cell_type": "code",
   "execution_count": 16,
   "metadata": {},
   "outputs": [
    {
     "name": "stdout",
     "output_type": "stream",
     "text": [
      "Cредний запас предсказанного сырья 68.728546895446\n",
      "RMSE модели 0.893099286775616\n"
     ]
    }
   ],
   "source": [
    "#Расчёт среднего запаса предсказанного сырья и RMSE модели\n",
    "MEAN_df1 = predict_df1.mean()\n",
    "RMSE_df1 = mean_squared_error(target_valid_df1, predict_df1)**0.5\n",
    "\n",
    "print('Cредний запас предсказанного сырья',MEAN_df1)\n",
    "print('RMSE модели',RMSE_df1)"
   ]
  },
  {
   "cell_type": "markdown",
   "metadata": {},
   "source": [
    "----"
   ]
  },
  {
   "cell_type": "markdown",
   "metadata": {},
   "source": [
    "## df2"
   ]
  },
  {
   "cell_type": "code",
   "execution_count": 17,
   "metadata": {},
   "outputs": [],
   "source": [
    "target_df2 = df2['product']\n",
    "features_df2 = df2.drop(['product','id'],axis=1)"
   ]
  },
  {
   "cell_type": "code",
   "execution_count": 18,
   "metadata": {},
   "outputs": [],
   "source": [
    "# Разделение на обучающую и валидационную выборки\n",
    "features_train_df2, features_valid_df2, target_train_df2, target_valid_df2 = train_test_split(features_df2, \n",
    "                                                                              target_df2,\n",
    "                                                                              test_size=0.25, \n",
    "                                                                              random_state=12345)"
   ]
  },
  {
   "cell_type": "code",
   "execution_count": 19,
   "metadata": {},
   "outputs": [],
   "source": [
    "# Обучем модель\n",
    "model_df2 = LinearRegression()\n",
    "model_df2.fit(features_train_df2, target_train_df2)\n",
    "predict_df2 = model_df2.predict(features_valid_df2)"
   ]
  },
  {
   "cell_type": "code",
   "execution_count": 20,
   "metadata": {},
   "outputs": [
    {
     "name": "stdout",
     "output_type": "stream",
     "text": [
      "Cредний запас предсказанного сырья 94.96504596800489\n",
      "RMSE модели 40.02970873393434\n"
     ]
    }
   ],
   "source": [
    "#Расчёт среднего запаса предсказанного сырья и RMSE модели\n",
    "MEAN_df2 = predict_df2.mean()\n",
    "RMSE_df2 = mean_squared_error(target_valid_df2, predict_df2)**0.5\n",
    "\n",
    "print('Cредний запас предсказанного сырья',MEAN_df2)\n",
    "print('RMSE модели',RMSE_df2)"
   ]
  },
  {
   "cell_type": "markdown",
   "metadata": {},
   "source": [
    "#### Вывод"
   ]
  },
  {
   "cell_type": "markdown",
   "metadata": {},
   "source": [
    "Самые большие средние запасы сырья находятся в регионе **df2**, значение rmse самое высокое. Большое значение rmse региона говорит о большом разбросе ошибок."
   ]
  },
  {
   "cell_type": "markdown",
   "metadata": {},
   "source": [
    "# 3. Подготовка к расчёту прибыли"
   ]
  },
  {
   "cell_type": "markdown",
   "metadata": {},
   "source": [
    " Значения для расчётов сохраним в отдельных переменных."
   ]
  },
  {
   "cell_type": "markdown",
   "metadata": {},
   "source": [
    "**all_field** - Общее кол-во месторождений для исследования (500)\n",
    "\n",
    "**budget** - Бюджет на разработку скважин в регионе — (10 000 000 000)\n",
    "\n",
    "**budget_of_one** - бюджет одного месторождения месторождений (10 000 000 000/200 = 50 000 000) \n",
    "\n",
    "**barrel_income** - Доход бареля нефти (450)\n",
    "\n",
    "**income_from_each_unit** -Доход с каждой единицы продукта (450 000)\n",
    "\n",
    "**minimum_probability_losses** - Минимальная вероятность убытков (0.025)"
   ]
  },
  {
   "cell_type": "code",
   "execution_count": 21,
   "metadata": {},
   "outputs": [],
   "source": [
    "all_field = 500\n",
    "budget = 10000000000\n",
    "budget_of_one = 50000000 \n",
    "barrel_income = 450\n",
    "income_from_each_unit = 450000\n",
    "minimum_probability_losses = 0.025"
   ]
  },
  {
   "cell_type": "code",
   "execution_count": 22,
   "metadata": {},
   "outputs": [
    {
     "name": "stdout",
     "output_type": "stream",
     "text": [
      "Объём сырья для безубыточной разработки новой скважины 111.11111111111111\n"
     ]
    }
   ],
   "source": [
    "print('Объём сырья для безубыточной разработки новой скважины',budget_of_one/income_from_each_unit)"
   ]
  },
  {
   "cell_type": "code",
   "execution_count": 23,
   "metadata": {},
   "outputs": [
    {
     "name": "stdout",
     "output_type": "stream",
     "text": [
      "Средний объём сырья в регионе df0: -19072153.8970493\n",
      "Средний объём сырья в регионе df1: -19072153.8970493\n",
      "Средний объём сырья в регионе df2: -7265729.314397804\n"
     ]
    }
   ],
   "source": [
    "print('Средний объём сырья в регионе df0:',(predict_df0.mean() * income_from_each_unit)-budget_of_one)\n",
    "print('Средний объём сырья в регионе df1:',(predict_df1.mean() * income_from_each_unit)-budget_of_one)\n",
    "print('Средний объём сырья в регионе df2:',(predict_df2.mean() * income_from_each_unit)-budget_of_one)"
   ]
  },
  {
   "cell_type": "markdown",
   "metadata": {},
   "source": [
    "#### Вывод\n",
    "\n",
    "* Объём безубыточной разработки новой скважины равен 111 тыс.\n",
    "* Если смотреть средний объём сырья все регионы убыточны. "
   ]
  },
  {
   "cell_type": "markdown",
   "metadata": {},
   "source": [
    "# 4. Расчёт прибыли и рисков "
   ]
  },
  {
   "cell_type": "code",
   "execution_count": 24,
   "metadata": {},
   "outputs": [],
   "source": [
    "#Напишите функцию revenue(), которая подсчитывает доход. Она получает на вход:\n",
    "\n",
    "#список ответов (target) — объёма запасов в новых скважинах;\n",
    "#список вероятностей (probabilities) — модель оценивает объёма запасов в новых скважинах;\n",
    "#лучшие скважины для разработки (count).\n",
    "\n",
    "#def revenue(target, probabilities, count):\n",
    "#    probs_sorted = probabilities.sort_values(ascending=False).head(count)\n",
    "#    selected = (target[probs_sorted.index][:count]*income_from_each_unit).sum()\n",
    "#    return selected"
   ]
  },
  {
   "cell_type": "code",
   "execution_count": 25,
   "metadata": {},
   "outputs": [],
   "source": [
    "def revenue(target, probabilities, count):\n",
    "    probs_sorted = probabilities.sort_values(ascending=False).head(count)\n",
    "    selected = (target[probs_sorted.index][:count]*income_from_each_unit).sum() \n",
    "    return selected - budget"
   ]
  },
  {
   "cell_type": "markdown",
   "metadata": {},
   "source": [
    "Напишем функцию для расчета дохода:\n",
    "- сначала она сортирует 200 значений\n",
    "- далее умножаем на цену бареля(450000) и суммируем"
   ]
  },
  {
   "cell_type": "markdown",
   "metadata": {},
   "source": [
    "---"
   ]
  },
  {
   "cell_type": "markdown",
   "metadata": {},
   "source": [
    "Бутстреп для каждого региона по очереди: Вычислим средний доход по регионам и 95% доверительный интервал и риск убытков:"
   ]
  },
  {
   "cell_type": "code",
   "execution_count": 26,
   "metadata": {},
   "outputs": [
    {
     "name": "stdout",
     "output_type": "stream",
     "text": [
      "Средний доход для скважин региона df0: 515222773.4432912\n",
      "5%-квантиль: 68873225.37050366\n",
      "95%-квантиль: 931547591.2570513\n",
      "Риск оценки не окупаемости для региона df2: 1.00%\n"
     ]
    }
   ],
   "source": [
    "state = np.random.RandomState(12345) \n",
    "\n",
    "target_valid_df0 = target_valid_df0.reset_index(drop=True)\n",
    "\n",
    "values = []\n",
    "for i in range(1000):\n",
    "    target_subsample = target_valid_df0.sample(n=500, replace=True, random_state=state)\n",
    "    probs_subsample =  pd.Series(predict_df0)[target_subsample.index] \n",
    "    values.append(revenue(target_subsample,probs_subsample,200))\n",
    "      \n",
    "values_df0 = pd.Series(values)\n",
    "lower_df0 = values_df0.quantile(0.025)\n",
    "upper_df0 = values_df0.quantile(0.975)\n",
    "mean_df0 = values_df0.mean()\n",
    "print(\"Средний доход для скважин региона df0:\", mean_df0)\n",
    "print(\"5%-квантиль:\", lower_df0)\n",
    "print(\"95%-квантиль:\", upper_df0)\n",
    "print(\"Риск оценки не окупаемости для региона df2: {:.2%}\".format((values_df0 < 0).mean()))"
   ]
  },
  {
   "cell_type": "markdown",
   "metadata": {},
   "source": [
    "#### df0\n",
    "Средняя прибыль с региона df0 состовляет 425938526 рублей. С вероятностью в 95% доход может быть не менее -102090094 рублей.\n",
    "\n",
    "Риск оценки не окупаемости для региона 6%"
   ]
  },
  {
   "cell_type": "markdown",
   "metadata": {},
   "source": [
    "---"
   ]
  },
  {
   "cell_type": "code",
   "execution_count": 27,
   "metadata": {},
   "outputs": [
    {
     "name": "stdout",
     "output_type": "stream",
     "text": [
      "Средний доход для скважин региона df1: 518259493.6973262\n",
      "5%-квантиль: 128123231.4330864\n",
      "95%-квантиль: 953612982.0669086\n",
      "Риск оценки не окупаемости для региона df2: 0.30%\n"
     ]
    }
   ],
   "source": [
    "target_valid_df1 = target_valid_df1.reset_index(drop=True)\n",
    "\n",
    "values1 = []\n",
    "\n",
    "for i in range(1000):\n",
    "    target_subsample = target_valid_df1.sample(n=500, replace=True, random_state=state)\n",
    "    probs_subsample =  pd.Series(predict_df1)[target_subsample.index] \n",
    "    values1.append(revenue(target_subsample,probs_subsample,200))\n",
    "\n",
    "values_df1 = pd.Series(values1)\n",
    "lower_df1 = values_df1.quantile(0.025)\n",
    "upper_df1 = values_df1.quantile(0.975)\n",
    "mean_df1 = values_df1.mean()\n",
    "print(\"Средний доход для скважин региона df1:\", mean_df1)\n",
    "print(\"5%-квантиль:\", lower_df1)\n",
    "print(\"95%-квантиль:\", upper_df1)\n",
    "print(\"Риск оценки не окупаемости для региона df2: {:.2%}\".format((values_df1 < 0).mean()))"
   ]
  },
  {
   "cell_type": "markdown",
   "metadata": {},
   "source": [
    "#### df1\n",
    "Средняя прибыль с региона df0 состовляет 518259493 рублей. С вероятностью в 95% доход может быть не менее 128123231 рублей.\n",
    "\n",
    "Риск оценки не окупаемости для региона 0.30%"
   ]
  },
  {
   "cell_type": "markdown",
   "metadata": {},
   "source": [
    "---"
   ]
  },
  {
   "cell_type": "code",
   "execution_count": 28,
   "metadata": {},
   "outputs": [
    {
     "name": "stdout",
     "output_type": "stream",
     "text": [
      "Средний доход для скважин региона df2: 435008362.7827556\n",
      "5%-квантиль: -128880547.32978901\n",
      "95%-квантиль: 969706954.1802661\n",
      "Риск оценки не окупаемости для региона df2: 6.40%\n"
     ]
    }
   ],
   "source": [
    "target_valid_df2 = target_valid_df2.reset_index(drop=True)\n",
    "state = np.random.RandomState(12345) \n",
    "values2 = []\n",
    "for i in range(1000):\n",
    "    target_subsample = target_valid_df2.sample(n=500, replace=True, random_state=state)\n",
    "    probs_subsample =  pd.Series(predict_df2)[target_subsample.index] \n",
    "    values2.append(revenue(target_subsample,probs_subsample,200))\n",
    "    \n",
    "values_df2 = pd.Series(values2)\n",
    "lower_df2 = values_df2.quantile(0.025)\n",
    "upper_df2 = values_df2.quantile(0.975)\n",
    "mean_df2 = values_df2.mean()\n",
    "print(\"Средний доход для скважин региона df2:\", mean_df2)\n",
    "print(\"5%-квантиль:\", lower_df2)\n",
    "print(\"95%-квантиль:\", upper_df2)\n",
    "print(\"Риск оценки не окупаемости для региона df2: {:.2%}\".format((values_df2 < 0).mean()))"
   ]
  },
  {
   "cell_type": "markdown",
   "metadata": {},
   "source": [
    "#### df2\n",
    "Средний доход для региона df2 состовляет  420194005 рублей. С вероятностью в 95% доход может быть не менее -115852609 рублей.\n",
    "\n",
    "Риск оценки не окупаемости для региона 6.20%"
   ]
  },
  {
   "cell_type": "markdown",
   "metadata": {},
   "source": [
    "---"
   ]
  },
  {
   "cell_type": "markdown",
   "metadata": {},
   "source": [
    "Если смотреть значения по среденему, то все районы окупаются. Однако с вероятностью в 95% полностью окупается регион **df1**,у данного региона риск оценки не окупаемост 0%.\n",
    "\n",
    "Оценим плотность убыточности наших регионов в процентах:\n",
    "\n",
    "Для этого создадим таблицу с доходностью из списка из бутстрепа, потом отсортируем те, которые приносят менее 10 млрд рублей. Затем вычитаем их кол-во из общего кол-ва и делим на общее и выражаем в процентах."
   ]
  },
  {
   "cell_type": "markdown",
   "metadata": {},
   "source": [
    "Район **df1** показал самый маленький процент убыточных скважин 0.30%, с вероятностью в 95% полностью окупается. Предлогаю данный регион для разработки скважин."
   ]
  },
  {
   "cell_type": "markdown",
   "metadata": {},
   "source": [
    "#### Вывод\n",
    "\n",
    "\n",
    "В данном проекте было 3 датасета с данными о трех регионах с месторождениями нефти. Провели предварительный анализ исходных данных, затем разделили датасет на 2 выборки, обучающую и вариационную 75 и 25 %. затем обучили модель линейной регрессии на обучающих данных и сделали предсказания на валидных. Далее вычислили для каждого региона средний доход и 95% доверительный интервал. В результате выяснили, что самый высокий средний доход у региона df1. На последнем этапе посчитали процент убыточности каждого региона, df1 является неимением убыточным, процент убыточных скважин 0.30, при условии задачи не более 2.5%. В итоге выбираем для разработки регион df1."
   ]
  }
 ],
 "metadata": {
  "kernelspec": {
   "display_name": "Python 3",
   "language": "python",
   "name": "python3"
  },
  "language_info": {
   "codemirror_mode": {
    "name": "ipython",
    "version": 3
   },
   "file_extension": ".py",
   "mimetype": "text/x-python",
   "name": "python",
   "nbconvert_exporter": "python",
   "pygments_lexer": "ipython3",
   "version": "3.7.8"
  },
  "toc": {
   "base_numbering": 1,
   "nav_menu": {},
   "number_sections": true,
   "sideBar": true,
   "skip_h1_title": true,
   "title_cell": "Table of Contents",
   "title_sidebar": "Contents",
   "toc_cell": false,
   "toc_position": {},
   "toc_section_display": true,
   "toc_window_display": false
  }
 },
 "nbformat": 4,
 "nbformat_minor": 2
}
