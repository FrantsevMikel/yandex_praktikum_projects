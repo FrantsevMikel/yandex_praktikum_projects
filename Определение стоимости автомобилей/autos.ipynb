{
 "cells": [
  {
   "cell_type": "markdown",
   "metadata": {},
   "source": [
    "# Определение стоимости автомобилей"
   ]
  },
  {
   "cell_type": "markdown",
   "metadata": {},
   "source": [
    "Сервис по продаже автомобилей с пробегом «Не бит, не крашен» разрабатывает приложение для привлечения новых клиентов. В нём можно быстро узнать рыночную стоимость своего автомобиля. В вашем распоряжении исторические данные: технические характеристики, комплектации и цены автомобилей. Вам нужно построить модель для определения стоимости. \n",
    "\n",
    "Заказчику важны:\n",
    "\n",
    "- качество предсказания;\n",
    "- скорость предсказания;\n",
    "- время обучения."
   ]
  },
  {
   "cell_type": "markdown",
   "metadata": {},
   "source": [
    "Признаки\n",
    "- DateCrawled — дата скачивания анкеты из базы\n",
    "- VehicleType — тип автомобильного кузова\n",
    "- RegistrationYear — год регистрации автомобиля\n",
    "- Gearbox — тип коробки передач\n",
    "- Power — мощность (л. с.)\n",
    "- Model — модель автомобиля\n",
    "- Kilometer — пробег (км)\n",
    "- RegistrationMonth — месяц регистрации автомобиля\n",
    "- FuelType — тип топлива\n",
    "- Brand — марка автомобиля\n",
    "- NotRepaired — была машина в ремонте или нет\n",
    "- DateCreated — дата создания анкеты\n",
    "- NumberOfPictures — количество фотографий автомобиля\n",
    "- PostalCode — почтовый индекс владельца анкеты (пользователя)\n",
    "- LastSeen — дата последней активности пользователя\n",
    "\n",
    "\n",
    "Целевой признак\n",
    "- Price — цена (евро)"
   ]
  },
  {
   "cell_type": "markdown",
   "metadata": {},
   "source": []
  },
  {
   "cell_type": "markdown",
   "metadata": {},
   "source": [
    "## Подготовка данных"
   ]
  },
  {
   "cell_type": "code",
   "execution_count": 66,
   "metadata": {},
   "outputs": [],
   "source": [
    "import pandas as pd\n",
    "import numpy as np\n",
    "import seaborn as sns\n",
    "import matplotlib.pyplot as plt\n",
    "from sklearn.model_selection import train_test_split\n",
    "from sklearn.preprocessing import StandardScaler\n",
    "from sklearn.linear_model import LinearRegression\n",
    "from sklearn.metrics import mean_squared_error\n",
    "from sklearn.metrics import accuracy_score, f1_score, roc_auc_score, r2_score, mean_squared_error"
   ]
  },
  {
   "cell_type": "code",
   "execution_count": 67,
   "metadata": {},
   "outputs": [],
   "source": [
    "df = pd.read_csv('/datasets/autos.csv')"
   ]
  },
  {
   "cell_type": "code",
   "execution_count": 68,
   "metadata": {},
   "outputs": [
    {
     "data": {
      "text/html": [
       "<div>\n",
       "<style scoped>\n",
       "    .dataframe tbody tr th:only-of-type {\n",
       "        vertical-align: middle;\n",
       "    }\n",
       "\n",
       "    .dataframe tbody tr th {\n",
       "        vertical-align: top;\n",
       "    }\n",
       "\n",
       "    .dataframe thead th {\n",
       "        text-align: right;\n",
       "    }\n",
       "</style>\n",
       "<table border=\"1\" class=\"dataframe\">\n",
       "  <thead>\n",
       "    <tr style=\"text-align: right;\">\n",
       "      <th></th>\n",
       "      <th>DateCrawled</th>\n",
       "      <th>Price</th>\n",
       "      <th>VehicleType</th>\n",
       "      <th>RegistrationYear</th>\n",
       "      <th>Gearbox</th>\n",
       "      <th>Power</th>\n",
       "      <th>Model</th>\n",
       "      <th>Kilometer</th>\n",
       "      <th>RegistrationMonth</th>\n",
       "      <th>FuelType</th>\n",
       "      <th>Brand</th>\n",
       "      <th>NotRepaired</th>\n",
       "      <th>DateCreated</th>\n",
       "      <th>NumberOfPictures</th>\n",
       "      <th>PostalCode</th>\n",
       "      <th>LastSeen</th>\n",
       "    </tr>\n",
       "  </thead>\n",
       "  <tbody>\n",
       "    <tr>\n",
       "      <td>0</td>\n",
       "      <td>2016-03-24 11:52:17</td>\n",
       "      <td>480</td>\n",
       "      <td>NaN</td>\n",
       "      <td>1993</td>\n",
       "      <td>manual</td>\n",
       "      <td>0</td>\n",
       "      <td>golf</td>\n",
       "      <td>150000</td>\n",
       "      <td>0</td>\n",
       "      <td>petrol</td>\n",
       "      <td>volkswagen</td>\n",
       "      <td>NaN</td>\n",
       "      <td>2016-03-24 00:00:00</td>\n",
       "      <td>0</td>\n",
       "      <td>70435</td>\n",
       "      <td>2016-04-07 03:16:57</td>\n",
       "    </tr>\n",
       "    <tr>\n",
       "      <td>1</td>\n",
       "      <td>2016-03-24 10:58:45</td>\n",
       "      <td>18300</td>\n",
       "      <td>coupe</td>\n",
       "      <td>2011</td>\n",
       "      <td>manual</td>\n",
       "      <td>190</td>\n",
       "      <td>NaN</td>\n",
       "      <td>125000</td>\n",
       "      <td>5</td>\n",
       "      <td>gasoline</td>\n",
       "      <td>audi</td>\n",
       "      <td>yes</td>\n",
       "      <td>2016-03-24 00:00:00</td>\n",
       "      <td>0</td>\n",
       "      <td>66954</td>\n",
       "      <td>2016-04-07 01:46:50</td>\n",
       "    </tr>\n",
       "    <tr>\n",
       "      <td>2</td>\n",
       "      <td>2016-03-14 12:52:21</td>\n",
       "      <td>9800</td>\n",
       "      <td>suv</td>\n",
       "      <td>2004</td>\n",
       "      <td>auto</td>\n",
       "      <td>163</td>\n",
       "      <td>grand</td>\n",
       "      <td>125000</td>\n",
       "      <td>8</td>\n",
       "      <td>gasoline</td>\n",
       "      <td>jeep</td>\n",
       "      <td>NaN</td>\n",
       "      <td>2016-03-14 00:00:00</td>\n",
       "      <td>0</td>\n",
       "      <td>90480</td>\n",
       "      <td>2016-04-05 12:47:46</td>\n",
       "    </tr>\n",
       "    <tr>\n",
       "      <td>3</td>\n",
       "      <td>2016-03-17 16:54:04</td>\n",
       "      <td>1500</td>\n",
       "      <td>small</td>\n",
       "      <td>2001</td>\n",
       "      <td>manual</td>\n",
       "      <td>75</td>\n",
       "      <td>golf</td>\n",
       "      <td>150000</td>\n",
       "      <td>6</td>\n",
       "      <td>petrol</td>\n",
       "      <td>volkswagen</td>\n",
       "      <td>no</td>\n",
       "      <td>2016-03-17 00:00:00</td>\n",
       "      <td>0</td>\n",
       "      <td>91074</td>\n",
       "      <td>2016-03-17 17:40:17</td>\n",
       "    </tr>\n",
       "    <tr>\n",
       "      <td>4</td>\n",
       "      <td>2016-03-31 17:25:20</td>\n",
       "      <td>3600</td>\n",
       "      <td>small</td>\n",
       "      <td>2008</td>\n",
       "      <td>manual</td>\n",
       "      <td>69</td>\n",
       "      <td>fabia</td>\n",
       "      <td>90000</td>\n",
       "      <td>7</td>\n",
       "      <td>gasoline</td>\n",
       "      <td>skoda</td>\n",
       "      <td>no</td>\n",
       "      <td>2016-03-31 00:00:00</td>\n",
       "      <td>0</td>\n",
       "      <td>60437</td>\n",
       "      <td>2016-04-06 10:17:21</td>\n",
       "    </tr>\n",
       "  </tbody>\n",
       "</table>\n",
       "</div>"
      ],
      "text/plain": [
       "           DateCrawled  Price VehicleType  RegistrationYear Gearbox  Power  \\\n",
       "0  2016-03-24 11:52:17    480         NaN              1993  manual      0   \n",
       "1  2016-03-24 10:58:45  18300       coupe              2011  manual    190   \n",
       "2  2016-03-14 12:52:21   9800         suv              2004    auto    163   \n",
       "3  2016-03-17 16:54:04   1500       small              2001  manual     75   \n",
       "4  2016-03-31 17:25:20   3600       small              2008  manual     69   \n",
       "\n",
       "   Model  Kilometer  RegistrationMonth  FuelType       Brand NotRepaired  \\\n",
       "0   golf     150000                  0    petrol  volkswagen         NaN   \n",
       "1    NaN     125000                  5  gasoline        audi         yes   \n",
       "2  grand     125000                  8  gasoline        jeep         NaN   \n",
       "3   golf     150000                  6    petrol  volkswagen          no   \n",
       "4  fabia      90000                  7  gasoline       skoda          no   \n",
       "\n",
       "           DateCreated  NumberOfPictures  PostalCode             LastSeen  \n",
       "0  2016-03-24 00:00:00                 0       70435  2016-04-07 03:16:57  \n",
       "1  2016-03-24 00:00:00                 0       66954  2016-04-07 01:46:50  \n",
       "2  2016-03-14 00:00:00                 0       90480  2016-04-05 12:47:46  \n",
       "3  2016-03-17 00:00:00                 0       91074  2016-03-17 17:40:17  \n",
       "4  2016-03-31 00:00:00                 0       60437  2016-04-06 10:17:21  "
      ]
     },
     "execution_count": 68,
     "metadata": {},
     "output_type": "execute_result"
    }
   ],
   "source": [
    "df.head()"
   ]
  },
  {
   "cell_type": "code",
   "execution_count": 69,
   "metadata": {},
   "outputs": [
    {
     "data": {
      "text/plain": [
       "(354369, 16)"
      ]
     },
     "execution_count": 69,
     "metadata": {},
     "output_type": "execute_result"
    }
   ],
   "source": [
    "df.shape"
   ]
  },
  {
   "cell_type": "code",
   "execution_count": 70,
   "metadata": {},
   "outputs": [
    {
     "name": "stdout",
     "output_type": "stream",
     "text": [
      "<class 'pandas.core.frame.DataFrame'>\n",
      "RangeIndex: 354369 entries, 0 to 354368\n",
      "Data columns (total 16 columns):\n",
      "DateCrawled          354369 non-null object\n",
      "Price                354369 non-null int64\n",
      "VehicleType          316879 non-null object\n",
      "RegistrationYear     354369 non-null int64\n",
      "Gearbox              334536 non-null object\n",
      "Power                354369 non-null int64\n",
      "Model                334664 non-null object\n",
      "Kilometer            354369 non-null int64\n",
      "RegistrationMonth    354369 non-null int64\n",
      "FuelType             321474 non-null object\n",
      "Brand                354369 non-null object\n",
      "NotRepaired          283215 non-null object\n",
      "DateCreated          354369 non-null object\n",
      "NumberOfPictures     354369 non-null int64\n",
      "PostalCode           354369 non-null int64\n",
      "LastSeen             354369 non-null object\n",
      "dtypes: int64(7), object(9)\n",
      "memory usage: 43.3+ MB\n"
     ]
    }
   ],
   "source": [
    "df.info()"
   ]
  },
  {
   "cell_type": "code",
   "execution_count": 71,
   "metadata": {},
   "outputs": [
    {
     "data": {
      "text/html": [
       "<div>\n",
       "<style scoped>\n",
       "    .dataframe tbody tr th:only-of-type {\n",
       "        vertical-align: middle;\n",
       "    }\n",
       "\n",
       "    .dataframe tbody tr th {\n",
       "        vertical-align: top;\n",
       "    }\n",
       "\n",
       "    .dataframe thead th {\n",
       "        text-align: right;\n",
       "    }\n",
       "</style>\n",
       "<table border=\"1\" class=\"dataframe\">\n",
       "  <thead>\n",
       "    <tr style=\"text-align: right;\">\n",
       "      <th></th>\n",
       "      <th>Price</th>\n",
       "      <th>RegistrationYear</th>\n",
       "      <th>Power</th>\n",
       "      <th>Kilometer</th>\n",
       "      <th>RegistrationMonth</th>\n",
       "      <th>NumberOfPictures</th>\n",
       "      <th>PostalCode</th>\n",
       "    </tr>\n",
       "  </thead>\n",
       "  <tbody>\n",
       "    <tr>\n",
       "      <td>count</td>\n",
       "      <td>354369.000000</td>\n",
       "      <td>354369.000000</td>\n",
       "      <td>354369.000000</td>\n",
       "      <td>354369.000000</td>\n",
       "      <td>354369.000000</td>\n",
       "      <td>354369.0</td>\n",
       "      <td>354369.000000</td>\n",
       "    </tr>\n",
       "    <tr>\n",
       "      <td>mean</td>\n",
       "      <td>4416.656776</td>\n",
       "      <td>2004.234448</td>\n",
       "      <td>110.094337</td>\n",
       "      <td>128211.172535</td>\n",
       "      <td>5.714645</td>\n",
       "      <td>0.0</td>\n",
       "      <td>50508.689087</td>\n",
       "    </tr>\n",
       "    <tr>\n",
       "      <td>std</td>\n",
       "      <td>4514.158514</td>\n",
       "      <td>90.227958</td>\n",
       "      <td>189.850405</td>\n",
       "      <td>37905.341530</td>\n",
       "      <td>3.726421</td>\n",
       "      <td>0.0</td>\n",
       "      <td>25783.096248</td>\n",
       "    </tr>\n",
       "    <tr>\n",
       "      <td>min</td>\n",
       "      <td>0.000000</td>\n",
       "      <td>1000.000000</td>\n",
       "      <td>0.000000</td>\n",
       "      <td>5000.000000</td>\n",
       "      <td>0.000000</td>\n",
       "      <td>0.0</td>\n",
       "      <td>1067.000000</td>\n",
       "    </tr>\n",
       "    <tr>\n",
       "      <td>25%</td>\n",
       "      <td>1050.000000</td>\n",
       "      <td>1999.000000</td>\n",
       "      <td>69.000000</td>\n",
       "      <td>125000.000000</td>\n",
       "      <td>3.000000</td>\n",
       "      <td>0.0</td>\n",
       "      <td>30165.000000</td>\n",
       "    </tr>\n",
       "    <tr>\n",
       "      <td>50%</td>\n",
       "      <td>2700.000000</td>\n",
       "      <td>2003.000000</td>\n",
       "      <td>105.000000</td>\n",
       "      <td>150000.000000</td>\n",
       "      <td>6.000000</td>\n",
       "      <td>0.0</td>\n",
       "      <td>49413.000000</td>\n",
       "    </tr>\n",
       "    <tr>\n",
       "      <td>75%</td>\n",
       "      <td>6400.000000</td>\n",
       "      <td>2008.000000</td>\n",
       "      <td>143.000000</td>\n",
       "      <td>150000.000000</td>\n",
       "      <td>9.000000</td>\n",
       "      <td>0.0</td>\n",
       "      <td>71083.000000</td>\n",
       "    </tr>\n",
       "    <tr>\n",
       "      <td>max</td>\n",
       "      <td>20000.000000</td>\n",
       "      <td>9999.000000</td>\n",
       "      <td>20000.000000</td>\n",
       "      <td>150000.000000</td>\n",
       "      <td>12.000000</td>\n",
       "      <td>0.0</td>\n",
       "      <td>99998.000000</td>\n",
       "    </tr>\n",
       "  </tbody>\n",
       "</table>\n",
       "</div>"
      ],
      "text/plain": [
       "               Price  RegistrationYear          Power      Kilometer  \\\n",
       "count  354369.000000     354369.000000  354369.000000  354369.000000   \n",
       "mean     4416.656776       2004.234448     110.094337  128211.172535   \n",
       "std      4514.158514         90.227958     189.850405   37905.341530   \n",
       "min         0.000000       1000.000000       0.000000    5000.000000   \n",
       "25%      1050.000000       1999.000000      69.000000  125000.000000   \n",
       "50%      2700.000000       2003.000000     105.000000  150000.000000   \n",
       "75%      6400.000000       2008.000000     143.000000  150000.000000   \n",
       "max     20000.000000       9999.000000   20000.000000  150000.000000   \n",
       "\n",
       "       RegistrationMonth  NumberOfPictures     PostalCode  \n",
       "count      354369.000000          354369.0  354369.000000  \n",
       "mean            5.714645               0.0   50508.689087  \n",
       "std             3.726421               0.0   25783.096248  \n",
       "min             0.000000               0.0    1067.000000  \n",
       "25%             3.000000               0.0   30165.000000  \n",
       "50%             6.000000               0.0   49413.000000  \n",
       "75%             9.000000               0.0   71083.000000  \n",
       "max            12.000000               0.0   99998.000000  "
      ]
     },
     "execution_count": 71,
     "metadata": {},
     "output_type": "execute_result"
    }
   ],
   "source": [
    "df.describe()"
   ]
  },
  {
   "cell_type": "code",
   "execution_count": 72,
   "metadata": {
    "scrolled": true
   },
   "outputs": [
    {
     "data": {
      "text/plain": [
       "DateCrawled              0\n",
       "Price                    0\n",
       "VehicleType          37490\n",
       "RegistrationYear         0\n",
       "Gearbox              19833\n",
       "Power                    0\n",
       "Model                19705\n",
       "Kilometer                0\n",
       "RegistrationMonth        0\n",
       "FuelType             32895\n",
       "Brand                    0\n",
       "NotRepaired          71154\n",
       "DateCreated              0\n",
       "NumberOfPictures         0\n",
       "PostalCode               0\n",
       "LastSeen                 0\n",
       "dtype: int64"
      ]
     },
     "execution_count": 72,
     "metadata": {},
     "output_type": "execute_result"
    }
   ],
   "source": [
    "df.isna().sum()"
   ]
  },
  {
   "cell_type": "code",
   "execution_count": 73,
   "metadata": {},
   "outputs": [],
   "source": [
    "df = df.drop(['DateCrawled','DateCreated','LastSeen', 'PostalCode'], axis=1)"
   ]
  },
  {
   "cell_type": "markdown",
   "metadata": {},
   "source": [
    "#### Целевой признак"
   ]
  },
  {
   "cell_type": "code",
   "execution_count": 74,
   "metadata": {
    "scrolled": false
   },
   "outputs": [
    {
     "data": {
      "image/png": "[encoded data removed]",
      "text/plain": [
       "<Figure size 1224x504 with 1 Axes>"
      ]
     },
     "metadata": {},
     "output_type": "display_data"
    }
   ],
   "source": [
    "fig = plt.figure(figsize=(17, 7))\n",
    "sns.set_style('whitegrid')\n",
    "sns.distplot(df['Price'], bins=100, axlabel='цена (евро)')\n",
    "plt.title(\"Целевой признак Price\", fontsize=22)\n",
    "plt.show()"
   ]
  },
  {
   "cell_type": "code",
   "execution_count": 75,
   "metadata": {
    "scrolled": true
   },
   "outputs": [
    {
     "data": {
      "image/png": "[encoded data removed]",
      "text/plain": [
       "<Figure size 1224x144 with 1 Axes>"
      ]
     },
     "metadata": {},
     "output_type": "display_data"
    }
   ],
   "source": [
    "fig = plt.figure(figsize=(17,2))\n",
    "sns.boxplot(df['Price'])\n",
    "plt.show()"
   ]
  },
  {
   "cell_type": "code",
   "execution_count": 76,
   "metadata": {},
   "outputs": [
    {
     "data": {
      "text/plain": [
       "10772"
      ]
     },
     "execution_count": 76,
     "metadata": {},
     "output_type": "execute_result"
    }
   ],
   "source": [
    "df[df['Price']==0].shape[0]"
   ]
  },
  {
   "cell_type": "markdown",
   "metadata": {},
   "source": [
    "У 10772 автомобилей стоимость  равна 0 евро. Данных очень много, если их оставить, наша модель научится присваивать нулевую стоимость. Отсечем выбросов по доверительному интервалу 0.95"
   ]
  },
  {
   "cell_type": "code",
   "execution_count": 77,
   "metadata": {},
   "outputs": [],
   "source": [
    "#df = df[(df['Price'] < df['Price'].quantile(0.95)) & (df['Price'] > df['Price'].quantile(0.05))]\n",
    "df = df[df['Price'].between(df['Price'].quantile(0.05), \n",
    "                      df['Price'].quantile(0.95), inclusive=False)]"
   ]
  },
  {
   "cell_type": "markdown",
   "metadata": {},
   "source": [
    "После отсечки выбросов по доверительному интервалу, распределение выглядит следующим образом."
   ]
  },
  {
   "cell_type": "code",
   "execution_count": 78,
   "metadata": {},
   "outputs": [
    {
     "data": {
      "image/png": "[encoded data removed]",
      "text/plain": [
       "<Figure size 1224x504 with 1 Axes>"
      ]
     },
     "metadata": {},
     "output_type": "display_data"
    }
   ],
   "source": [
    "fig = plt.figure(figsize=(17, 7))\n",
    "sns.set_style('whitegrid')\n",
    "sns.distplot(df['Price'], bins=100, axlabel='цена (евро)')\n",
    "plt.title(\"Целевой признак Price\", fontsize=22)\n",
    "plt.show()"
   ]
  },
  {
   "cell_type": "code",
   "execution_count": 79,
   "metadata": {
    "scrolled": false
   },
   "outputs": [
    {
     "data": {
      "image/png": "[encoded data removed]",
      "text/plain": [
       "<Figure size 1224x144 with 1 Axes>"
      ]
     },
     "metadata": {},
     "output_type": "display_data"
    }
   ],
   "source": [
    "fig = plt.figure(figsize=(17,2))\n",
    "sns.boxplot(df['Price'])\n",
    "plt.show()"
   ]
  },
  {
   "cell_type": "markdown",
   "metadata": {},
   "source": [
    "---"
   ]
  },
  {
   "cell_type": "markdown",
   "metadata": {},
   "source": [
    "#### Категориальные данные"
   ]
  },
  {
   "cell_type": "markdown",
   "metadata": {},
   "source": [
    "**VehicleType** — тип автомобильного кузова"
   ]
  },
  {
   "cell_type": "code",
   "execution_count": 80,
   "metadata": {},
   "outputs": [
    {
     "data": {
      "text/plain": [
       "array([nan, 'suv', 'small', 'sedan', 'convertible', 'bus', 'wagon',\n",
       "       'coupe', 'other'], dtype=object)"
      ]
     },
     "execution_count": 80,
     "metadata": {},
     "output_type": "execute_result"
    }
   ],
   "source": [
    "df['VehicleType'].unique()"
   ]
  },
  {
   "cell_type": "code",
   "execution_count": 81,
   "metadata": {},
   "outputs": [
    {
     "data": {
      "text/plain": [
       "sedan          83487\n",
       "small          74075\n",
       "wagon          59475\n",
       "bus            26545\n",
       "convertible    17520\n",
       "coupe          13466\n",
       "suv             9405\n",
       "other           2880\n",
       "Name: VehicleType, dtype: int64"
      ]
     },
     "execution_count": 81,
     "metadata": {},
     "output_type": "execute_result"
    }
   ],
   "source": [
    "df['VehicleType'].value_counts()"
   ]
  },
  {
   "cell_type": "markdown",
   "metadata": {},
   "source": [
    "other(другие), говорит нам о неизвестном типе кузова. Пусть наша модель будет знать данный параметр."
   ]
  },
  {
   "cell_type": "code",
   "execution_count": 82,
   "metadata": {},
   "outputs": [
    {
     "data": {
      "text/plain": [
       "0.09558026030368763"
      ]
     },
     "execution_count": 82,
     "metadata": {},
     "output_type": "execute_result"
    }
   ],
   "source": [
    "df['VehicleType'].isna().mean()"
   ]
  },
  {
   "cell_type": "markdown",
   "metadata": {},
   "source": [
    "Почти у 9% данных не заполнен тип кузова.  Удалим пустые значения т.к. данных много. Заполнить можно, например, по моде по модели автомобиля, но это будет не точно."
   ]
  },
  {
   "cell_type": "code",
   "execution_count": 83,
   "metadata": {},
   "outputs": [],
   "source": [
    "df.dropna(subset=['VehicleType'],inplace=True)"
   ]
  },
  {
   "cell_type": "markdown",
   "metadata": {},
   "source": [
    "**Model** — модель автомобиля"
   ]
  },
  {
   "cell_type": "code",
   "execution_count": 84,
   "metadata": {},
   "outputs": [
    {
     "data": {
      "text/plain": [
       "array(['grand', 'golf', 'fabia', '3er', '2_reihe', 'c_max', '3_reihe',\n",
       "       'passat', 'ka', 'twingo', 'a_klasse', 'scirocco', '5er', 'arosa',\n",
       "       'other', 'civic', 'transporter', 'punto', 'e_klasse', 'kadett',\n",
       "       'one', 'fortwo', 'clio', '1er', 'b_klasse', 'signum', 'astra',\n",
       "       'a8', 'jetta', 'polo', 'fiesta', 'c_klasse', 'micra', 'vito',\n",
       "       'sprinter', '156', nan, 'escort', 'forester', 'xc_reihe', 'scenic',\n",
       "       'a4', 'a1', 'combo', 'focus', 'tt', 'corsa', 'a6', 'jazz', 'omega',\n",
       "       'slk', '7er', '80', '147', 'z_reihe', 'sorento', 'v40', 'ibiza',\n",
       "       'eos', 'touran', 'getz', 'insignia', 'a3', 'megane', 'lupo', 'r19',\n",
       "       'mondeo', 'cordoba', 'colt', 'impreza', 'vectra', 'berlingo',\n",
       "       'tiguan', 'sharan', '6_reihe', 'c4', 'panda', 'up', 'i_reihe',\n",
       "       'ceed', 'kangoo', 'yeti', 'octavia', 'zafira', 'mii', 'rx_reihe',\n",
       "       'fox', 'matiz', 'beetle', 'rio', 'logan', 'caddy', 'spider',\n",
       "       'cuore', 's_max', 'modus', 'a2', 'c3', '1_reihe', 'avensis',\n",
       "       'viano', 'roomster', 'sl', 'kaefer', 'santa', 'cooper', 'leon',\n",
       "       '4_reihe', 'sportage', 'laguna', 'ptcruiser', 'clk', 'primera',\n",
       "       'espace', 's_klasse', 'galaxy', '159', 'transit', 'juke',\n",
       "       'x_reihe', 'carisma', 'accord', 'corolla', 'phaeton', 'verso',\n",
       "       'swift', 'rav', 'picanto', 'boxster', 'kalos', 'stilo', 'alhambra',\n",
       "       'touareg', 'roadster', 'ypsilon', 'galant', 'justy', '90',\n",
       "       'sirion', 'crossfire', 'agila', 'duster', 'v50', 'mx_reihe', '500',\n",
       "       'meriva', 'c_reihe', 'v_klasse', 'm_klasse', 'yaris', 'c5', 'aygo',\n",
       "       'almera', 'cc', 'bora', 'forfour', 'a5', '100', 'cl', 'tigra',\n",
       "       '300c', 'cr_reihe', 'spark', '5_reihe', 'ducato', 's_type',\n",
       "       'x_trail', 'toledo', 'altea', 'qashqai', 'voyager', 'carnival',\n",
       "       'v70', 'bravo', 'antara', 'tucson', 'x_type', 'c1', 'citigo',\n",
       "       'jimny', 'wrangler', 'lybra', 'q7', 'lancer', 'captiva', 'fusion',\n",
       "       'discovery', 'sandero', 'note', 'kuga', 'seicento', 'navara',\n",
       "       '900', 'cherokee', 'defender', 'legacy', 'pajero', 'cayenne', 'c2',\n",
       "       'niva', 's60', 'clubman', 'm_reihe', 'nubira', 'vivaro', 'lanos',\n",
       "       'g_klasse', 'freelander', 'auris', 'lodgy', '850', '601', 'superb',\n",
       "       'serie_2', 'calibra', 'exeo', 'charade', 'croma', 'outlander',\n",
       "       'doblo', 'musa', '6er', 'move', '9000', 'v60', '200', '145',\n",
       "       'b_max', 'cx_reihe', 'mustang', 'range_rover_sport', 'aveo',\n",
       "       'terios', 'range_rover', '911', 'rangerover', 'q5',\n",
       "       'range_rover_evoque', 'materia', 'glk', 'kalina', 'samara',\n",
       "       'elefantino', 'delta', 'i3', 'kappa', 'amarok', 'serie_3',\n",
       "       'serie_1', 'gl', 'q3'], dtype=object)"
      ]
     },
     "execution_count": 84,
     "metadata": {},
     "output_type": "execute_result"
    }
   ],
   "source": [
    "df['Model'].unique()"
   ]
  },
  {
   "cell_type": "markdown",
   "metadata": {},
   "source": [
    "Т.к. модель автомобиля не определить, удалим пустые значения."
   ]
  },
  {
   "cell_type": "code",
   "execution_count": 85,
   "metadata": {},
   "outputs": [],
   "source": [
    "df.dropna(subset=['Model'],inplace=True)"
   ]
  },
  {
   "cell_type": "markdown",
   "metadata": {},
   "source": [
    "**Brand** — марка автомобиля"
   ]
  },
  {
   "cell_type": "code",
   "execution_count": 86,
   "metadata": {},
   "outputs": [
    {
     "data": {
      "text/plain": [
       "array(['jeep', 'volkswagen', 'skoda', 'bmw', 'peugeot', 'ford', 'mazda',\n",
       "       'renault', 'mercedes_benz', 'seat', 'honda', 'fiat', 'opel',\n",
       "       'mini', 'smart', 'audi', 'nissan', 'alfa_romeo', 'subaru', 'volvo',\n",
       "       'mitsubishi', 'kia', 'hyundai', 'suzuki', 'lancia', 'citroen',\n",
       "       'toyota', 'chevrolet', 'dacia', 'daihatsu', 'chrysler', 'jaguar',\n",
       "       'rover', 'porsche', 'daewoo', 'saab', 'land_rover', 'trabant',\n",
       "       'lada'], dtype=object)"
      ]
     },
     "execution_count": 86,
     "metadata": {},
     "output_type": "execute_result"
    }
   ],
   "source": [
    "df['Brand'].unique()"
   ]
  },
  {
   "cell_type": "code",
   "execution_count": 87,
   "metadata": {},
   "outputs": [
    {
     "data": {
      "text/plain": [
       "volkswagen       59134\n",
       "opel             31260\n",
       "bmw              28944\n",
       "mercedes_benz    25478\n",
       "audi             22706\n",
       "ford             19764\n",
       "renault          14052\n",
       "peugeot           8994\n",
       "fiat              7554\n",
       "seat              5492\n",
       "skoda             4702\n",
       "smart             4550\n",
       "mazda             4535\n",
       "citroen           4231\n",
       "toyota            3967\n",
       "nissan            3864\n",
       "hyundai           2929\n",
       "volvo             2682\n",
       "mini              2447\n",
       "mitsubishi        2360\n",
       "honda             2232\n",
       "kia               1961\n",
       "suzuki            1883\n",
       "alfa_romeo        1857\n",
       "chevrolet         1407\n",
       "chrysler          1142\n",
       "dacia              810\n",
       "daihatsu           612\n",
       "subaru             588\n",
       "jeep               520\n",
       "saab               461\n",
       "daewoo             411\n",
       "porsche            403\n",
       "land_rover         397\n",
       "jaguar             394\n",
       "lancia             359\n",
       "rover              332\n",
       "trabant            325\n",
       "lada               176\n",
       "Name: Brand, dtype: int64"
      ]
     },
     "execution_count": 87,
     "metadata": {},
     "output_type": "execute_result"
    }
   ],
   "source": [
    "df['Brand'].value_counts()"
   ]
  },
  {
   "cell_type": "markdown",
   "metadata": {},
   "source": [
    "**FuelType** — тип топлива"
   ]
  },
  {
   "cell_type": "code",
   "execution_count": 88,
   "metadata": {},
   "outputs": [
    {
     "data": {
      "text/plain": [
       "array(['gasoline', 'petrol', nan, 'lpg', 'other', 'hybrid', 'cng',\n",
       "       'electric'], dtype=object)"
      ]
     },
     "execution_count": 88,
     "metadata": {},
     "output_type": "execute_result"
    }
   ],
   "source": [
    "df['FuelType'].unique()"
   ]
  },
  {
   "cell_type": "code",
   "execution_count": 89,
   "metadata": {},
   "outputs": [
    {
     "data": {
      "text/plain": [
       "petrol      178505\n",
       "gasoline     81144\n",
       "lpg           4497\n",
       "cng            489\n",
       "hybrid         150\n",
       "other           93\n",
       "electric        54\n",
       "Name: FuelType, dtype: int64"
      ]
     },
     "execution_count": 89,
     "metadata": {},
     "output_type": "execute_result"
    }
   ],
   "source": [
    "df['FuelType'].value_counts()"
   ]
  },
  {
   "cell_type": "markdown",
   "metadata": {},
   "source": [
    "Допустим petrol и gasoline синонимы(бензин). Объеденим."
   ]
  },
  {
   "cell_type": "code",
   "execution_count": 90,
   "metadata": {},
   "outputs": [],
   "source": [
    "df['FuelType'].where(df['FuelType'] != 'gasoline', 'petrol', inplace=True)"
   ]
  },
  {
   "cell_type": "code",
   "execution_count": 91,
   "metadata": {},
   "outputs": [
    {
     "data": {
      "text/plain": [
       "petrol      259649\n",
       "lpg           4497\n",
       "cng            489\n",
       "hybrid         150\n",
       "other           93\n",
       "electric        54\n",
       "Name: FuelType, dtype: int64"
      ]
     },
     "execution_count": 91,
     "metadata": {},
     "output_type": "execute_result"
    }
   ],
   "source": [
    "df['FuelType'].value_counts()"
   ]
  },
  {
   "cell_type": "markdown",
   "metadata": {},
   "source": [
    "**NotRepaired** — была машина в ремонте или нет"
   ]
  },
  {
   "cell_type": "code",
   "execution_count": 92,
   "metadata": {},
   "outputs": [
    {
     "data": {
      "text/plain": [
       "array([nan, 'no', 'yes'], dtype=object)"
      ]
     },
     "execution_count": 92,
     "metadata": {},
     "output_type": "execute_result"
    }
   ],
   "source": [
    "df['NotRepaired'].unique()"
   ]
  },
  {
   "cell_type": "code",
   "execution_count": 93,
   "metadata": {},
   "outputs": [
    {
     "data": {
      "text/plain": [
       "0.14828479785441168"
      ]
     },
     "execution_count": 93,
     "metadata": {},
     "output_type": "execute_result"
    }
   ],
   "source": [
    "df['NotRepaired'].isna().mean()"
   ]
  },
  {
   "cell_type": "code",
   "execution_count": 94,
   "metadata": {},
   "outputs": [
    {
     "data": {
      "text/plain": [
       "Text(0.5, 0, 'Была машина в ремонте или нет')"
      ]
     },
     "execution_count": 94,
     "metadata": {},
     "output_type": "execute_result"
    },
    {
     "data": {
      "image/png": "[encoded data removed]",
      "text/plain": [
       "<Figure size 864x432 with 1 Axes>"
      ]
     },
     "metadata": {},
     "output_type": "display_data"
    }
   ],
   "source": [
    "df.pivot_table(index='NotRepaired', values='Price', aggfunc=('sum')).plot(grid=True, figsize=(12, 6), kind='bar')\n",
    "plt.title('Зависимость цены от, была машина в ремонте или нет')\n",
    "plt.ylabel('Цена за машину')\n",
    "plt.xlabel('Была машина в ремонте или нет')"
   ]
  },
  {
   "cell_type": "markdown",
   "metadata": {},
   "source": [
    "Цена на прямую зависит от была ли машина в ремонте или нет. Т.к. данный признак очень важен удалим пустые признаки."
   ]
  },
  {
   "cell_type": "code",
   "execution_count": 95,
   "metadata": {},
   "outputs": [],
   "source": [
    "df.dropna(subset=['NotRepaired'],inplace=True)"
   ]
  },
  {
   "cell_type": "markdown",
   "metadata": {},
   "source": [
    "**Gearbox** — тип коробки передач"
   ]
  },
  {
   "cell_type": "code",
   "execution_count": 96,
   "metadata": {},
   "outputs": [
    {
     "data": {
      "text/plain": [
       "array(['manual', 'auto', nan], dtype=object)"
      ]
     },
     "execution_count": 96,
     "metadata": {},
     "output_type": "execute_result"
    }
   ],
   "source": [
    "df['Gearbox'].unique()"
   ]
  },
  {
   "cell_type": "code",
   "execution_count": 97,
   "metadata": {
    "scrolled": true
   },
   "outputs": [
    {
     "data": {
      "text/plain": [
       "manual    186012\n",
       "auto       44277\n",
       "Name: Gearbox, dtype: int64"
      ]
     },
     "execution_count": 97,
     "metadata": {},
     "output_type": "execute_result"
    }
   ],
   "source": [
    "df['Gearbox'].value_counts()"
   ]
  },
  {
   "cell_type": "markdown",
   "metadata": {},
   "source": [
    "----"
   ]
  },
  {
   "cell_type": "markdown",
   "metadata": {},
   "source": [
    "#### Количественные признаки"
   ]
  },
  {
   "cell_type": "markdown",
   "metadata": {},
   "source": [
    "**RegistrationYear** — год регистрации автомобиля"
   ]
  },
  {
   "cell_type": "code",
   "execution_count": 98,
   "metadata": {},
   "outputs": [
    {
     "data": {
      "text/plain": [
       "array([1910, 1923, 1929, 1931, 1932, 1934, 1935, 1936, 1937, 1938, 1942,\n",
       "       1943, 1945, 1950, 1951, 1952, 1953, 1954, 1955, 1956, 1957, 1958,\n",
       "       1959, 1960, 1961, 1962, 1963, 1964, 1965, 1966, 1967, 1968, 1969,\n",
       "       1970, 1971, 1972, 1973, 1974, 1975, 1976, 1977, 1978, 1979, 1980,\n",
       "       1981, 1982, 1983, 1984, 1985, 1986, 1987, 1988, 1989, 1990, 1991,\n",
       "       1992, 1993, 1994, 1995, 1996, 1997, 1998, 1999, 2000, 2001, 2002,\n",
       "       2003, 2004, 2005, 2006, 2007, 2008, 2009, 2010, 2011, 2012, 2013,\n",
       "       2014, 2015, 2016, 2017, 2018])"
      ]
     },
     "execution_count": 98,
     "metadata": {},
     "output_type": "execute_result"
    }
   ],
   "source": [
    "df['RegistrationYear'].sort_values().unique()"
   ]
  },
  {
   "cell_type": "code",
   "execution_count": 99,
   "metadata": {
    "scrolled": false
   },
   "outputs": [
    {
     "data": {
      "text/plain": [
       "Text(0.5, 0, 'год регистрации автомобиля')"
      ]
     },
     "execution_count": 99,
     "metadata": {},
     "output_type": "execute_result"
    },
    {
     "data": {
      "image/png": "[encoded data removed]",
      "text/plain": [
       "<Figure size 1080x432 with 1 Axes>"
      ]
     },
     "metadata": {},
     "output_type": "display_data"
    }
   ],
   "source": [
    "df.pivot_table(index='RegistrationYear', values='Price', aggfunc='sum').plot(grid=True, figsize=(15, 6), kind='bar')\n",
    "plt.title('Зависимость цены от, года регистрации автомобиля')\n",
    "plt.ylabel('Цена за машину')\n",
    "plt.xlabel('год регистрации автомобиля')"
   ]
  },
  {
   "cell_type": "code",
   "execution_count": 100,
   "metadata": {
    "scrolled": true
   },
   "outputs": [
    {
     "data": {
      "image/png": "[encoded data removed]",
      "text/plain": [
       "<Figure size 1224x144 with 1 Axes>"
      ]
     },
     "metadata": {},
     "output_type": "display_data"
    }
   ],
   "source": [
    "fig = plt.figure(figsize=(17,2))\n",
    "sns.boxplot(df['RegistrationYear'])\n",
    "plt.show()"
   ]
  },
  {
   "cell_type": "markdown",
   "metadata": {},
   "source": [
    "Отсечем выбросов по доверительному интервалу 0.95"
   ]
  },
  {
   "cell_type": "code",
   "execution_count": 101,
   "metadata": {},
   "outputs": [],
   "source": [
    "df = df[df['RegistrationYear'].between(df['RegistrationYear'].quantile(0.05), \n",
    "                      df['RegistrationYear'].quantile(1), inclusive=False)]"
   ]
  },
  {
   "cell_type": "code",
   "execution_count": 102,
   "metadata": {
    "scrolled": false
   },
   "outputs": [
    {
     "data": {
      "text/plain": [
       "Text(0.5, 0, 'год регистрации автомобиля')"
      ]
     },
     "execution_count": 102,
     "metadata": {},
     "output_type": "execute_result"
    },
    {
     "data": {
      "image/png": "[encoded data removed]",
      "text/plain": [
       "<Figure size 1080x432 with 1 Axes>"
      ]
     },
     "metadata": {},
     "output_type": "display_data"
    }
   ],
   "source": [
    "df.pivot_table(index='RegistrationYear', values='Price', aggfunc='sum').plot(grid=True, figsize=(15, 6), kind='bar')\n",
    "plt.title('Зависимость цены от, года регистрации автомобиля')\n",
    "plt.ylabel('Цена за машину')\n",
    "plt.xlabel('год регистрации автомобиля')"
   ]
  },
  {
   "cell_type": "markdown",
   "metadata": {},
   "source": [
    "**Power** — мощность (л. с.)"
   ]
  },
  {
   "cell_type": "code",
   "execution_count": 103,
   "metadata": {},
   "outputs": [
    {
     "data": {
      "image/png": "[encoded data removed]",
      "text/plain": [
       "<Figure size 1224x504 with 1 Axes>"
      ]
     },
     "metadata": {},
     "output_type": "display_data"
    }
   ],
   "source": [
    "fig = plt.figure(figsize=(17, 7))\n",
    "sns.set_style('whitegrid')\n",
    "sns.distplot(df['Power'], bins=200, axlabel='мощность')\n",
    "plt.title(\"мощность\", fontsize=22)\n",
    "plt.show()"
   ]
  },
  {
   "cell_type": "code",
   "execution_count": 104,
   "metadata": {
    "scrolled": true
   },
   "outputs": [
    {
     "data": {
      "image/png": "[encoded data removed]",
      "text/plain": [
       "<Figure size 1224x144 with 1 Axes>"
      ]
     },
     "metadata": {},
     "output_type": "display_data"
    }
   ],
   "source": [
    "fig = plt.figure(figsize=(17,2))\n",
    "sns.boxplot(df['Power'])\n",
    "plt.show()"
   ]
  },
  {
   "cell_type": "markdown",
   "metadata": {},
   "source": [
    "Уберём мощность двигателя равную 0 и больше 1000."
   ]
  },
  {
   "cell_type": "code",
   "execution_count": 105,
   "metadata": {},
   "outputs": [],
   "source": [
    "df = df[df['Power']<1000]"
   ]
  },
  {
   "cell_type": "code",
   "execution_count": 106,
   "metadata": {},
   "outputs": [],
   "source": [
    "df = df[df['Power']!=0]"
   ]
  },
  {
   "cell_type": "markdown",
   "metadata": {},
   "source": [
    "**Kilometer** — пробег (км)"
   ]
  },
  {
   "cell_type": "code",
   "execution_count": 107,
   "metadata": {},
   "outputs": [
    {
     "data": {
      "image/png": "[encoded data removed]",
      "text/plain": [
       "<Figure size 1224x504 with 1 Axes>"
      ]
     },
     "metadata": {},
     "output_type": "display_data"
    }
   ],
   "source": [
    "fig = plt.figure(figsize=(17, 7))\n",
    "sns.set_style('whitegrid')\n",
    "sns.distplot(df['Kilometer'], bins=30, axlabel='пробег (км)')\n",
    "plt.title(\"пробег (км)\", fontsize=22)\n",
    "plt.show()"
   ]
  },
  {
   "cell_type": "code",
   "execution_count": 108,
   "metadata": {},
   "outputs": [
    {
     "data": {
      "image/png": "[encoded data removed]",
      "text/plain": [
       "<Figure size 1224x144 with 1 Axes>"
      ]
     },
     "metadata": {},
     "output_type": "display_data"
    }
   ],
   "source": [
    "fig = plt.figure(figsize=(17,2))\n",
    "sns.boxplot(df['Kilometer'])\n",
    "plt.show()"
   ]
  },
  {
   "cell_type": "markdown",
   "metadata": {},
   "source": [
    "**RegistrationMonth** — месяц регистрации автомобиля"
   ]
  },
  {
   "cell_type": "code",
   "execution_count": 109,
   "metadata": {},
   "outputs": [
    {
     "data": {
      "text/plain": [
       "array([ 0,  1,  2,  3,  4,  5,  6,  7,  8,  9, 10, 11, 12])"
      ]
     },
     "execution_count": 109,
     "metadata": {},
     "output_type": "execute_result"
    }
   ],
   "source": [
    "df['RegistrationMonth'].sort_values().unique()"
   ]
  },
  {
   "cell_type": "code",
   "execution_count": 110,
   "metadata": {
    "scrolled": false
   },
   "outputs": [
    {
     "data": {
      "text/plain": [
       "Text(0.5, 0, 'месяц регистрации автомобиля')"
      ]
     },
     "execution_count": 110,
     "metadata": {},
     "output_type": "execute_result"
    },
    {
     "data": {
      "image/png": "[encoded data removed]",
      "text/plain": [
       "<Figure size 1080x432 with 1 Axes>"
      ]
     },
     "metadata": {},
     "output_type": "display_data"
    }
   ],
   "source": [
    "df.pivot_table(index='RegistrationMonth', values='Price', aggfunc='sum').plot(grid=True, figsize=(15, 6), kind='bar')\n",
    "plt.title('Зависимость цены от, месяца регистрации автомобиля')\n",
    "plt.ylabel('Цена за машину')\n",
    "plt.xlabel('месяц регистрации автомобиля')"
   ]
  },
  {
   "cell_type": "markdown",
   "metadata": {},
   "source": [
    "Наблюдается сезонность, зависимость от месяца регистрации автомобиля.\n",
    "\n",
    "Уберём нулевой месяц.\n"
   ]
  },
  {
   "cell_type": "code",
   "execution_count": 111,
   "metadata": {},
   "outputs": [],
   "source": [
    "df = df[df['RegistrationMonth']!=0]"
   ]
  },
  {
   "cell_type": "code",
   "execution_count": 112,
   "metadata": {
    "scrolled": true
   },
   "outputs": [
    {
     "data": {
      "text/plain": [
       "Price                   0\n",
       "VehicleType             0\n",
       "RegistrationYear        0\n",
       "Gearbox              2034\n",
       "Power                   0\n",
       "Model                   0\n",
       "Kilometer               0\n",
       "RegistrationMonth       0\n",
       "FuelType             4021\n",
       "Brand                   0\n",
       "NotRepaired             0\n",
       "NumberOfPictures        0\n",
       "dtype: int64"
      ]
     },
     "execution_count": 112,
     "metadata": {},
     "output_type": "execute_result"
    }
   ],
   "source": [
    "df.isna().sum()"
   ]
  },
  {
   "cell_type": "code",
   "execution_count": 113,
   "metadata": {},
   "outputs": [],
   "source": [
    "df = df.dropna(inplace=False)"
   ]
  },
  {
   "cell_type": "code",
   "execution_count": 114,
   "metadata": {},
   "outputs": [
    {
     "data": {
      "text/plain": [
       "(200157, 12)"
      ]
     },
     "execution_count": 114,
     "metadata": {},
     "output_type": "execute_result"
    }
   ],
   "source": [
    "df.shape"
   ]
  },
  {
   "cell_type": "markdown",
   "metadata": {},
   "source": [
    "## Обучение моделей"
   ]
  },
  {
   "cell_type": "markdown",
   "metadata": {},
   "source": [
    "### Прямое кодирование"
   ]
  },
  {
   "cell_type": "code",
   "execution_count": 115,
   "metadata": {},
   "outputs": [],
   "source": [
    "df_ohe = pd.get_dummies(df,drop_first=True)"
   ]
  },
  {
   "cell_type": "code",
   "execution_count": 116,
   "metadata": {},
   "outputs": [
    {
     "data": {
      "text/html": [
       "<div>\n",
       "<style scoped>\n",
       "    .dataframe tbody tr th:only-of-type {\n",
       "        vertical-align: middle;\n",
       "    }\n",
       "\n",
       "    .dataframe tbody tr th {\n",
       "        vertical-align: top;\n",
       "    }\n",
       "\n",
       "    .dataframe thead th {\n",
       "        text-align: right;\n",
       "    }\n",
       "</style>\n",
       "<table border=\"1\" class=\"dataframe\">\n",
       "  <thead>\n",
       "    <tr style=\"text-align: right;\">\n",
       "      <th></th>\n",
       "      <th>Price</th>\n",
       "      <th>RegistrationYear</th>\n",
       "      <th>Power</th>\n",
       "      <th>Kilometer</th>\n",
       "      <th>RegistrationMonth</th>\n",
       "      <th>NumberOfPictures</th>\n",
       "      <th>VehicleType_convertible</th>\n",
       "      <th>VehicleType_coupe</th>\n",
       "      <th>VehicleType_other</th>\n",
       "      <th>VehicleType_sedan</th>\n",
       "      <th>...</th>\n",
       "      <th>Brand_seat</th>\n",
       "      <th>Brand_skoda</th>\n",
       "      <th>Brand_smart</th>\n",
       "      <th>Brand_subaru</th>\n",
       "      <th>Brand_suzuki</th>\n",
       "      <th>Brand_toyota</th>\n",
       "      <th>Brand_trabant</th>\n",
       "      <th>Brand_volkswagen</th>\n",
       "      <th>Brand_volvo</th>\n",
       "      <th>NotRepaired_yes</th>\n",
       "    </tr>\n",
       "  </thead>\n",
       "  <tbody>\n",
       "    <tr>\n",
       "      <td>3</td>\n",
       "      <td>1500</td>\n",
       "      <td>2001</td>\n",
       "      <td>75</td>\n",
       "      <td>150000</td>\n",
       "      <td>6</td>\n",
       "      <td>0</td>\n",
       "      <td>0</td>\n",
       "      <td>0</td>\n",
       "      <td>0</td>\n",
       "      <td>0</td>\n",
       "      <td>...</td>\n",
       "      <td>0</td>\n",
       "      <td>0</td>\n",
       "      <td>0</td>\n",
       "      <td>0</td>\n",
       "      <td>0</td>\n",
       "      <td>0</td>\n",
       "      <td>0</td>\n",
       "      <td>1</td>\n",
       "      <td>0</td>\n",
       "      <td>0</td>\n",
       "    </tr>\n",
       "    <tr>\n",
       "      <td>4</td>\n",
       "      <td>3600</td>\n",
       "      <td>2008</td>\n",
       "      <td>69</td>\n",
       "      <td>90000</td>\n",
       "      <td>7</td>\n",
       "      <td>0</td>\n",
       "      <td>0</td>\n",
       "      <td>0</td>\n",
       "      <td>0</td>\n",
       "      <td>0</td>\n",
       "      <td>...</td>\n",
       "      <td>0</td>\n",
       "      <td>1</td>\n",
       "      <td>0</td>\n",
       "      <td>0</td>\n",
       "      <td>0</td>\n",
       "      <td>0</td>\n",
       "      <td>0</td>\n",
       "      <td>0</td>\n",
       "      <td>0</td>\n",
       "      <td>0</td>\n",
       "    </tr>\n",
       "    <tr>\n",
       "      <td>5</td>\n",
       "      <td>650</td>\n",
       "      <td>1995</td>\n",
       "      <td>102</td>\n",
       "      <td>150000</td>\n",
       "      <td>10</td>\n",
       "      <td>0</td>\n",
       "      <td>0</td>\n",
       "      <td>0</td>\n",
       "      <td>0</td>\n",
       "      <td>1</td>\n",
       "      <td>...</td>\n",
       "      <td>0</td>\n",
       "      <td>0</td>\n",
       "      <td>0</td>\n",
       "      <td>0</td>\n",
       "      <td>0</td>\n",
       "      <td>0</td>\n",
       "      <td>0</td>\n",
       "      <td>0</td>\n",
       "      <td>0</td>\n",
       "      <td>1</td>\n",
       "    </tr>\n",
       "    <tr>\n",
       "      <td>6</td>\n",
       "      <td>2200</td>\n",
       "      <td>2004</td>\n",
       "      <td>109</td>\n",
       "      <td>150000</td>\n",
       "      <td>8</td>\n",
       "      <td>0</td>\n",
       "      <td>1</td>\n",
       "      <td>0</td>\n",
       "      <td>0</td>\n",
       "      <td>0</td>\n",
       "      <td>...</td>\n",
       "      <td>0</td>\n",
       "      <td>0</td>\n",
       "      <td>0</td>\n",
       "      <td>0</td>\n",
       "      <td>0</td>\n",
       "      <td>0</td>\n",
       "      <td>0</td>\n",
       "      <td>0</td>\n",
       "      <td>0</td>\n",
       "      <td>0</td>\n",
       "    </tr>\n",
       "    <tr>\n",
       "      <td>10</td>\n",
       "      <td>2000</td>\n",
       "      <td>2004</td>\n",
       "      <td>105</td>\n",
       "      <td>150000</td>\n",
       "      <td>12</td>\n",
       "      <td>0</td>\n",
       "      <td>0</td>\n",
       "      <td>0</td>\n",
       "      <td>0</td>\n",
       "      <td>1</td>\n",
       "      <td>...</td>\n",
       "      <td>0</td>\n",
       "      <td>0</td>\n",
       "      <td>0</td>\n",
       "      <td>0</td>\n",
       "      <td>0</td>\n",
       "      <td>0</td>\n",
       "      <td>0</td>\n",
       "      <td>0</td>\n",
       "      <td>0</td>\n",
       "      <td>0</td>\n",
       "    </tr>\n",
       "    <tr>\n",
       "      <td>...</td>\n",
       "      <td>...</td>\n",
       "      <td>...</td>\n",
       "      <td>...</td>\n",
       "      <td>...</td>\n",
       "      <td>...</td>\n",
       "      <td>...</td>\n",
       "      <td>...</td>\n",
       "      <td>...</td>\n",
       "      <td>...</td>\n",
       "      <td>...</td>\n",
       "      <td>...</td>\n",
       "      <td>...</td>\n",
       "      <td>...</td>\n",
       "      <td>...</td>\n",
       "      <td>...</td>\n",
       "      <td>...</td>\n",
       "      <td>...</td>\n",
       "      <td>...</td>\n",
       "      <td>...</td>\n",
       "      <td>...</td>\n",
       "      <td>...</td>\n",
       "    </tr>\n",
       "    <tr>\n",
       "      <td>354359</td>\n",
       "      <td>7900</td>\n",
       "      <td>2010</td>\n",
       "      <td>140</td>\n",
       "      <td>150000</td>\n",
       "      <td>7</td>\n",
       "      <td>0</td>\n",
       "      <td>0</td>\n",
       "      <td>0</td>\n",
       "      <td>0</td>\n",
       "      <td>1</td>\n",
       "      <td>...</td>\n",
       "      <td>0</td>\n",
       "      <td>0</td>\n",
       "      <td>0</td>\n",
       "      <td>0</td>\n",
       "      <td>0</td>\n",
       "      <td>0</td>\n",
       "      <td>0</td>\n",
       "      <td>1</td>\n",
       "      <td>0</td>\n",
       "      <td>0</td>\n",
       "    </tr>\n",
       "    <tr>\n",
       "      <td>354360</td>\n",
       "      <td>3999</td>\n",
       "      <td>2005</td>\n",
       "      <td>3</td>\n",
       "      <td>150000</td>\n",
       "      <td>5</td>\n",
       "      <td>0</td>\n",
       "      <td>0</td>\n",
       "      <td>0</td>\n",
       "      <td>0</td>\n",
       "      <td>0</td>\n",
       "      <td>...</td>\n",
       "      <td>0</td>\n",
       "      <td>0</td>\n",
       "      <td>0</td>\n",
       "      <td>0</td>\n",
       "      <td>0</td>\n",
       "      <td>0</td>\n",
       "      <td>0</td>\n",
       "      <td>0</td>\n",
       "      <td>0</td>\n",
       "      <td>0</td>\n",
       "    </tr>\n",
       "    <tr>\n",
       "      <td>354362</td>\n",
       "      <td>3200</td>\n",
       "      <td>2004</td>\n",
       "      <td>225</td>\n",
       "      <td>150000</td>\n",
       "      <td>5</td>\n",
       "      <td>0</td>\n",
       "      <td>0</td>\n",
       "      <td>0</td>\n",
       "      <td>0</td>\n",
       "      <td>1</td>\n",
       "      <td>...</td>\n",
       "      <td>1</td>\n",
       "      <td>0</td>\n",
       "      <td>0</td>\n",
       "      <td>0</td>\n",
       "      <td>0</td>\n",
       "      <td>0</td>\n",
       "      <td>0</td>\n",
       "      <td>0</td>\n",
       "      <td>0</td>\n",
       "      <td>1</td>\n",
       "    </tr>\n",
       "    <tr>\n",
       "      <td>354366</td>\n",
       "      <td>1199</td>\n",
       "      <td>2000</td>\n",
       "      <td>101</td>\n",
       "      <td>125000</td>\n",
       "      <td>3</td>\n",
       "      <td>0</td>\n",
       "      <td>1</td>\n",
       "      <td>0</td>\n",
       "      <td>0</td>\n",
       "      <td>0</td>\n",
       "      <td>...</td>\n",
       "      <td>0</td>\n",
       "      <td>0</td>\n",
       "      <td>1</td>\n",
       "      <td>0</td>\n",
       "      <td>0</td>\n",
       "      <td>0</td>\n",
       "      <td>0</td>\n",
       "      <td>0</td>\n",
       "      <td>0</td>\n",
       "      <td>0</td>\n",
       "    </tr>\n",
       "    <tr>\n",
       "      <td>354367</td>\n",
       "      <td>9200</td>\n",
       "      <td>1996</td>\n",
       "      <td>102</td>\n",
       "      <td>150000</td>\n",
       "      <td>3</td>\n",
       "      <td>0</td>\n",
       "      <td>0</td>\n",
       "      <td>0</td>\n",
       "      <td>0</td>\n",
       "      <td>0</td>\n",
       "      <td>...</td>\n",
       "      <td>0</td>\n",
       "      <td>0</td>\n",
       "      <td>0</td>\n",
       "      <td>0</td>\n",
       "      <td>0</td>\n",
       "      <td>0</td>\n",
       "      <td>0</td>\n",
       "      <td>1</td>\n",
       "      <td>0</td>\n",
       "      <td>0</td>\n",
       "    </tr>\n",
       "  </tbody>\n",
       "</table>\n",
       "<p>200157 rows × 301 columns</p>\n",
       "</div>"
      ],
      "text/plain": [
       "        Price  RegistrationYear  Power  Kilometer  RegistrationMonth  \\\n",
       "3        1500              2001     75     150000                  6   \n",
       "4        3600              2008     69      90000                  7   \n",
       "5         650              1995    102     150000                 10   \n",
       "6        2200              2004    109     150000                  8   \n",
       "10       2000              2004    105     150000                 12   \n",
       "...       ...               ...    ...        ...                ...   \n",
       "354359   7900              2010    140     150000                  7   \n",
       "354360   3999              2005      3     150000                  5   \n",
       "354362   3200              2004    225     150000                  5   \n",
       "354366   1199              2000    101     125000                  3   \n",
       "354367   9200              1996    102     150000                  3   \n",
       "\n",
       "        NumberOfPictures  VehicleType_convertible  VehicleType_coupe  \\\n",
       "3                      0                        0                  0   \n",
       "4                      0                        0                  0   \n",
       "5                      0                        0                  0   \n",
       "6                      0                        1                  0   \n",
       "10                     0                        0                  0   \n",
       "...                  ...                      ...                ...   \n",
       "354359                 0                        0                  0   \n",
       "354360                 0                        0                  0   \n",
       "354362                 0                        0                  0   \n",
       "354366                 0                        1                  0   \n",
       "354367                 0                        0                  0   \n",
       "\n",
       "        VehicleType_other  VehicleType_sedan  ...  Brand_seat  Brand_skoda  \\\n",
       "3                       0                  0  ...           0            0   \n",
       "4                       0                  0  ...           0            1   \n",
       "5                       0                  1  ...           0            0   \n",
       "6                       0                  0  ...           0            0   \n",
       "10                      0                  1  ...           0            0   \n",
       "...                   ...                ...  ...         ...          ...   \n",
       "354359                  0                  1  ...           0            0   \n",
       "354360                  0                  0  ...           0            0   \n",
       "354362                  0                  1  ...           1            0   \n",
       "354366                  0                  0  ...           0            0   \n",
       "354367                  0                  0  ...           0            0   \n",
       "\n",
       "        Brand_smart  Brand_subaru  Brand_suzuki  Brand_toyota  Brand_trabant  \\\n",
       "3                 0             0             0             0              0   \n",
       "4                 0             0             0             0              0   \n",
       "5                 0             0             0             0              0   \n",
       "6                 0             0             0             0              0   \n",
       "10                0             0             0             0              0   \n",
       "...             ...           ...           ...           ...            ...   \n",
       "354359            0             0             0             0              0   \n",
       "354360            0             0             0             0              0   \n",
       "354362            0             0             0             0              0   \n",
       "354366            1             0             0             0              0   \n",
       "354367            0             0             0             0              0   \n",
       "\n",
       "        Brand_volkswagen  Brand_volvo  NotRepaired_yes  \n",
       "3                      1            0                0  \n",
       "4                      0            0                0  \n",
       "5                      0            0                1  \n",
       "6                      0            0                0  \n",
       "10                     0            0                0  \n",
       "...                  ...          ...              ...  \n",
       "354359                 1            0                0  \n",
       "354360                 0            0                0  \n",
       "354362                 0            0                1  \n",
       "354366                 0            0                0  \n",
       "354367                 1            0                0  \n",
       "\n",
       "[200157 rows x 301 columns]"
      ]
     },
     "execution_count": 116,
     "metadata": {},
     "output_type": "execute_result"
    }
   ],
   "source": [
    "df_ohe"
   ]
  },
  {
   "cell_type": "code",
   "execution_count": 117,
   "metadata": {},
   "outputs": [
    {
     "data": {
      "text/plain": [
       "(200157, 301)"
      ]
     },
     "execution_count": 117,
     "metadata": {},
     "output_type": "execute_result"
    }
   ],
   "source": [
    "df_ohe.shape"
   ]
  },
  {
   "cell_type": "markdown",
   "metadata": {},
   "source": [
    "### Разбеение данные на выборки"
   ]
  },
  {
   "cell_type": "code",
   "execution_count": 118,
   "metadata": {},
   "outputs": [],
   "source": [
    "target = df_ohe['Price']\n",
    "features = df_ohe.drop(['Price'],axis=1)"
   ]
  },
  {
   "cell_type": "code",
   "execution_count": 119,
   "metadata": {},
   "outputs": [],
   "source": [
    "# Разделение на валидационную выборку\n",
    "features_train, features_valid, target_train, target_valid = train_test_split(features, \n",
    "                                                                              target,\n",
    "                                                                              test_size=0.25, \n",
    "                                                                              random_state=12345)"
   ]
  },
  {
   "cell_type": "code",
   "execution_count": 120,
   "metadata": {},
   "outputs": [
    {
     "data": {
      "text/plain": [
       "((150117, 300), (50040, 300))"
      ]
     },
     "execution_count": 120,
     "metadata": {},
     "output_type": "execute_result"
    }
   ],
   "source": [
    "features_train.shape, features_valid.shape"
   ]
  },
  {
   "cell_type": "markdown",
   "metadata": {},
   "source": [
    "### Масштабирование признаков"
   ]
  },
  {
   "cell_type": "code",
   "execution_count": 121,
   "metadata": {},
   "outputs": [
    {
     "name": "stderr",
     "output_type": "stream",
     "text": [
      "/opt/conda/lib/python3.7/site-packages/ipykernel_launcher.py:5: SettingWithCopyWarning: \n",
      "A value is trying to be set on a copy of a slice from a DataFrame.\n",
      "Try using .loc[row_indexer,col_indexer] = value instead\n",
      "\n",
      "See the caveats in the documentation: http://pandas.pydata.org/pandas-docs/stable/user_guide/indexing.html#returning-a-view-versus-a-copy\n",
      "  \"\"\"\n",
      "/opt/conda/lib/python3.7/site-packages/pandas/core/indexing.py:494: SettingWithCopyWarning: \n",
      "A value is trying to be set on a copy of a slice from a DataFrame.\n",
      "Try using .loc[row_indexer,col_indexer] = value instead\n",
      "\n",
      "See the caveats in the documentation: http://pandas.pydata.org/pandas-docs/stable/user_guide/indexing.html#returning-a-view-versus-a-copy\n",
      "  self.obj[item] = s\n",
      "/opt/conda/lib/python3.7/site-packages/ipykernel_launcher.py:6: SettingWithCopyWarning: \n",
      "A value is trying to be set on a copy of a slice from a DataFrame.\n",
      "Try using .loc[row_indexer,col_indexer] = value instead\n",
      "\n",
      "See the caveats in the documentation: http://pandas.pydata.org/pandas-docs/stable/user_guide/indexing.html#returning-a-view-versus-a-copy\n",
      "  \n",
      "/opt/conda/lib/python3.7/site-packages/pandas/core/indexing.py:494: SettingWithCopyWarning: \n",
      "A value is trying to be set on a copy of a slice from a DataFrame.\n",
      "Try using .loc[row_indexer,col_indexer] = value instead\n",
      "\n",
      "See the caveats in the documentation: http://pandas.pydata.org/pandas-docs/stable/user_guide/indexing.html#returning-a-view-versus-a-copy\n",
      "  self.obj[item] = s\n"
     ]
    }
   ],
   "source": [
    "#Стандартизируем маштаб признаков\n",
    "numeric = ['RegistrationYear','Power','Kilometer']\n",
    "scaler = StandardScaler()\n",
    "scaler.fit(features_train[numeric])\n",
    "features_train[numeric] = scaler.transform(features_train[numeric])\n",
    "features_valid[numeric] = scaler.transform(features_valid[numeric])"
   ]
  },
  {
   "cell_type": "markdown",
   "metadata": {},
   "source": [
    "### Обучение моделей"
   ]
  },
  {
   "cell_type": "code",
   "execution_count": 122,
   "metadata": {},
   "outputs": [],
   "source": [
    "import time\n",
    "def exec_time(start, end):\n",
    "   diff_time = end - start\n",
    "   m, s = divmod(diff_time, 60)\n",
    "   h, m = divmod(m, 60)\n",
    "   s,m,h = int(round(s, 0)), int(round(m, 0)), int(round(h, 0))\n",
    "   return (\"{0:02d}:{1:02d}:{2:02d}\".format(h, m, s))"
   ]
  },
  {
   "cell_type": "code",
   "execution_count": 123,
   "metadata": {},
   "outputs": [],
   "source": [
    "from sklearn.model_selection import GridSearchCV, RandomizedSearchCV\n",
    "import math\n",
    "from sklearn.metrics import make_scorer"
   ]
  },
  {
   "cell_type": "code",
   "execution_count": 124,
   "metadata": {},
   "outputs": [],
   "source": [
    "#метрика \n",
    "def rmse(target, predict):\n",
    "    rmse = np.sqrt(mean_squared_error(predict,target))\n",
    "    return rmse"
   ]
  },
  {
   "cell_type": "code",
   "execution_count": 125,
   "metadata": {},
   "outputs": [],
   "source": [
    "score_rmse =  make_scorer(rmse, greater_is_better=False)"
   ]
  },
  {
   "cell_type": "code",
   "execution_count": 126,
   "metadata": {},
   "outputs": [],
   "source": [
    "def base_fit(model, name: str):\n",
    "    \n",
    "    start = time.time()\n",
    "    model.fit(features_train, target_train)\n",
    "    end = time.time()\n",
    "    time_fit = exec_time(start,end)\n",
    "    \n",
    "    start = time.time()\n",
    "    predict = model.predict(features_valid)\n",
    "    end = time.time()\n",
    "    predict_fit = exec_time(start,end)\n",
    "    \n",
    "    rmse_ = np.sqrt(mean_squared_error(predict,target_valid))\n",
    "    \n",
    "    r2 = r2_score(predict,target_valid)\n",
    "    \n",
    "    return time_fit, predict_fit, rmse_, r2"
   ]
  },
  {
   "cell_type": "code",
   "execution_count": 127,
   "metadata": {},
   "outputs": [],
   "source": [
    "result = []"
   ]
  },
  {
   "cell_type": "markdown",
   "metadata": {},
   "source": [
    "#### LinearRegression"
   ]
  },
  {
   "cell_type": "code",
   "execution_count": 128,
   "metadata": {},
   "outputs": [],
   "source": [
    "#Создаём распределение параметров\n",
    "rs_params_LinearRegression = {'fit_intercept' : [True, False],\n",
    "                              'normalize' : [True, False],}"
   ]
  },
  {
   "cell_type": "code",
   "execution_count": 129,
   "metadata": {},
   "outputs": [],
   "source": [
    "model_LinearRegression = GridSearchCV(LinearRegression(),\n",
    "                                      rs_params_LinearRegression,\n",
    "                                      cv=3,\n",
    "                                      scoring=score_rmse)"
   ]
  },
  {
   "cell_type": "code",
   "execution_count": 130,
   "metadata": {},
   "outputs": [],
   "source": [
    "result.append(base_fit(model_LinearRegression, 'LinearRegression'))"
   ]
  },
  {
   "cell_type": "markdown",
   "metadata": {},
   "source": [
    "---"
   ]
  },
  {
   "cell_type": "markdown",
   "metadata": {},
   "source": [
    "#### DecisionTreeRegressor"
   ]
  },
  {
   "cell_type": "code",
   "execution_count": 131,
   "metadata": {},
   "outputs": [],
   "source": [
    "from sklearn.tree import DecisionTreeRegressor"
   ]
  },
  {
   "cell_type": "code",
   "execution_count": 132,
   "metadata": {},
   "outputs": [],
   "source": [
    "#Создаём распределение параметров\n",
    "rs_params_DecisionTreeRegressor = {'max_depth': range(1, 20)}"
   ]
  },
  {
   "cell_type": "code",
   "execution_count": 133,
   "metadata": {},
   "outputs": [],
   "source": [
    "#Создаём GridSearchCV\n",
    "model_DecisionTreeRegressor = GridSearchCV(DecisionTreeRegressor(random_state=12345)\n",
    "                                                , param_grid=rs_params_DecisionTreeRegressor\n",
    "                                                , cv=3   \n",
    "                                                , scoring=score_rmse)"
   ]
  },
  {
   "cell_type": "code",
   "execution_count": 134,
   "metadata": {},
   "outputs": [],
   "source": [
    "result.append(base_fit(model_DecisionTreeRegressor, 'DecisionTreeRegressor'))"
   ]
  },
  {
   "cell_type": "markdown",
   "metadata": {},
   "source": [
    "---"
   ]
  },
  {
   "cell_type": "markdown",
   "metadata": {},
   "source": [
    "#### RandomForestRegressor"
   ]
  },
  {
   "cell_type": "code",
   "execution_count": 135,
   "metadata": {},
   "outputs": [],
   "source": [
    "from sklearn.ensemble import RandomForestRegressor"
   ]
  },
  {
   "cell_type": "code",
   "execution_count": 136,
   "metadata": {},
   "outputs": [],
   "source": [
    "rs_params_RandomForestRegressor = {'max_depth': range(15,20),\n",
    "                                  'n_estimators': range(10, 50, 10)}"
   ]
  },
  {
   "cell_type": "code",
   "execution_count": 137,
   "metadata": {},
   "outputs": [],
   "source": [
    "model_RandomForestRegressor = RandomizedSearchCV(RandomForestRegressor(random_state=12345),\n",
    "                                            param_distributions=rs_params_RandomForestRegressor,\n",
    "                                            cv=3,\n",
    "                                            scoring=score_rmse, \n",
    "                                            n_iter=4)"
   ]
  },
  {
   "cell_type": "code",
   "execution_count": 138,
   "metadata": {},
   "outputs": [],
   "source": [
    "result.append(base_fit(model_RandomForestRegressor, 'RandomForestRegressor'))"
   ]
  },
  {
   "cell_type": "markdown",
   "metadata": {},
   "source": [
    "---"
   ]
  },
  {
   "cell_type": "code",
   "execution_count": 139,
   "metadata": {},
   "outputs": [],
   "source": [
    "target = df['Price']\n",
    "features = df.drop(['Price'],axis=1)"
   ]
  },
  {
   "cell_type": "code",
   "execution_count": 140,
   "metadata": {},
   "outputs": [],
   "source": [
    "# Разделение на валидационную выборку\n",
    "features_train, features_valid, target_train, target_valid = train_test_split(features, \n",
    "                                                                              target,\n",
    "                                                                              test_size=0.25, \n",
    "                                                                              random_state=12345)"
   ]
  },
  {
   "cell_type": "code",
   "execution_count": 141,
   "metadata": {},
   "outputs": [
    {
     "name": "stderr",
     "output_type": "stream",
     "text": [
      "/opt/conda/lib/python3.7/site-packages/ipykernel_launcher.py:1: SettingWithCopyWarning: \n",
      "A value is trying to be set on a copy of a slice from a DataFrame.\n",
      "Try using .loc[row_indexer,col_indexer] = value instead\n",
      "\n",
      "See the caveats in the documentation: http://pandas.pydata.org/pandas-docs/stable/user_guide/indexing.html#returning-a-view-versus-a-copy\n",
      "  \"\"\"Entry point for launching an IPython kernel.\n",
      "/opt/conda/lib/python3.7/site-packages/ipykernel_launcher.py:2: SettingWithCopyWarning: \n",
      "A value is trying to be set on a copy of a slice from a DataFrame.\n",
      "Try using .loc[row_indexer,col_indexer] = value instead\n",
      "\n",
      "See the caveats in the documentation: http://pandas.pydata.org/pandas-docs/stable/user_guide/indexing.html#returning-a-view-versus-a-copy\n",
      "  \n",
      "/opt/conda/lib/python3.7/site-packages/ipykernel_launcher.py:3: SettingWithCopyWarning: \n",
      "A value is trying to be set on a copy of a slice from a DataFrame.\n",
      "Try using .loc[row_indexer,col_indexer] = value instead\n",
      "\n",
      "See the caveats in the documentation: http://pandas.pydata.org/pandas-docs/stable/user_guide/indexing.html#returning-a-view-versus-a-copy\n",
      "  This is separate from the ipykernel package so we can avoid doing imports until\n",
      "/opt/conda/lib/python3.7/site-packages/ipykernel_launcher.py:4: SettingWithCopyWarning: \n",
      "A value is trying to be set on a copy of a slice from a DataFrame.\n",
      "Try using .loc[row_indexer,col_indexer] = value instead\n",
      "\n",
      "See the caveats in the documentation: http://pandas.pydata.org/pandas-docs/stable/user_guide/indexing.html#returning-a-view-versus-a-copy\n",
      "  after removing the cwd from sys.path.\n",
      "/opt/conda/lib/python3.7/site-packages/ipykernel_launcher.py:5: SettingWithCopyWarning: \n",
      "A value is trying to be set on a copy of a slice from a DataFrame.\n",
      "Try using .loc[row_indexer,col_indexer] = value instead\n",
      "\n",
      "See the caveats in the documentation: http://pandas.pydata.org/pandas-docs/stable/user_guide/indexing.html#returning-a-view-versus-a-copy\n",
      "  \"\"\"\n",
      "/opt/conda/lib/python3.7/site-packages/ipykernel_launcher.py:6: SettingWithCopyWarning: \n",
      "A value is trying to be set on a copy of a slice from a DataFrame.\n",
      "Try using .loc[row_indexer,col_indexer] = value instead\n",
      "\n",
      "See the caveats in the documentation: http://pandas.pydata.org/pandas-docs/stable/user_guide/indexing.html#returning-a-view-versus-a-copy\n",
      "  \n",
      "/opt/conda/lib/python3.7/site-packages/ipykernel_launcher.py:8: SettingWithCopyWarning: \n",
      "A value is trying to be set on a copy of a slice from a DataFrame.\n",
      "Try using .loc[row_indexer,col_indexer] = value instead\n",
      "\n",
      "See the caveats in the documentation: http://pandas.pydata.org/pandas-docs/stable/user_guide/indexing.html#returning-a-view-versus-a-copy\n",
      "  \n",
      "/opt/conda/lib/python3.7/site-packages/ipykernel_launcher.py:9: SettingWithCopyWarning: \n",
      "A value is trying to be set on a copy of a slice from a DataFrame.\n",
      "Try using .loc[row_indexer,col_indexer] = value instead\n",
      "\n",
      "See the caveats in the documentation: http://pandas.pydata.org/pandas-docs/stable/user_guide/indexing.html#returning-a-view-versus-a-copy\n",
      "  if __name__ == '__main__':\n",
      "/opt/conda/lib/python3.7/site-packages/ipykernel_launcher.py:10: SettingWithCopyWarning: \n",
      "A value is trying to be set on a copy of a slice from a DataFrame.\n",
      "Try using .loc[row_indexer,col_indexer] = value instead\n",
      "\n",
      "See the caveats in the documentation: http://pandas.pydata.org/pandas-docs/stable/user_guide/indexing.html#returning-a-view-versus-a-copy\n",
      "  # Remove the CWD from sys.path while we load stuff.\n",
      "/opt/conda/lib/python3.7/site-packages/ipykernel_launcher.py:11: SettingWithCopyWarning: \n",
      "A value is trying to be set on a copy of a slice from a DataFrame.\n",
      "Try using .loc[row_indexer,col_indexer] = value instead\n",
      "\n",
      "See the caveats in the documentation: http://pandas.pydata.org/pandas-docs/stable/user_guide/indexing.html#returning-a-view-versus-a-copy\n",
      "  # This is added back by InteractiveShellApp.init_path()\n",
      "/opt/conda/lib/python3.7/site-packages/ipykernel_launcher.py:12: SettingWithCopyWarning: \n",
      "A value is trying to be set on a copy of a slice from a DataFrame.\n",
      "Try using .loc[row_indexer,col_indexer] = value instead\n",
      "\n",
      "See the caveats in the documentation: http://pandas.pydata.org/pandas-docs/stable/user_guide/indexing.html#returning-a-view-versus-a-copy\n",
      "  if sys.path[0] == '':\n",
      "/opt/conda/lib/python3.7/site-packages/ipykernel_launcher.py:13: SettingWithCopyWarning: \n",
      "A value is trying to be set on a copy of a slice from a DataFrame.\n",
      "Try using .loc[row_indexer,col_indexer] = value instead\n",
      "\n",
      "See the caveats in the documentation: http://pandas.pydata.org/pandas-docs/stable/user_guide/indexing.html#returning-a-view-versus-a-copy\n",
      "  del sys.path[0]\n"
     ]
    }
   ],
   "source": [
    "features_train['VehicleType'] = features_train['VehicleType'].astype('category')\n",
    "features_train['Gearbox'] = features_train['Gearbox'].astype('category')\n",
    "features_train['Model'] = features_train['Model'].astype('category')\n",
    "features_train['FuelType'] = features_train['FuelType'].astype('category')\n",
    "features_train['Brand'] = features_train['Brand'].astype('category')\n",
    "features_train['NotRepaired'] = features_train['NotRepaired'].astype('category')\n",
    "\n",
    "features_valid['VehicleType'] = features_valid['VehicleType'].astype('category')\n",
    "features_valid['Gearbox'] = features_valid['Gearbox'].astype('category')\n",
    "features_valid['Model'] = features_valid['Model'].astype('category')\n",
    "features_valid['FuelType'] = features_valid['FuelType'].astype('category')\n",
    "features_valid['Brand'] = features_valid['Brand'].astype('category')\n",
    "features_valid['NotRepaired'] = features_valid['NotRepaired'].astype('category')"
   ]
  },
  {
   "cell_type": "code",
   "execution_count": 142,
   "metadata": {
    "scrolled": false
   },
   "outputs": [
    {
     "name": "stdout",
     "output_type": "stream",
     "text": [
      "<class 'pandas.core.frame.DataFrame'>\n",
      "Int64Index: 150117 entries, 208126 to 136666\n",
      "Data columns (total 11 columns):\n",
      "VehicleType          150117 non-null category\n",
      "RegistrationYear     150117 non-null int64\n",
      "Gearbox              150117 non-null category\n",
      "Power                150117 non-null int64\n",
      "Model                150117 non-null category\n",
      "Kilometer            150117 non-null int64\n",
      "RegistrationMonth    150117 non-null int64\n",
      "FuelType             150117 non-null category\n",
      "Brand                150117 non-null category\n",
      "NotRepaired          150117 non-null category\n",
      "NumberOfPictures     150117 non-null int64\n",
      "dtypes: category(6), int64(5)\n",
      "memory usage: 7.9 MB\n"
     ]
    }
   ],
   "source": [
    "features_train.info()"
   ]
  },
  {
   "cell_type": "markdown",
   "metadata": {},
   "source": [
    "#### LGBMRegressor"
   ]
  },
  {
   "cell_type": "code",
   "execution_count": 143,
   "metadata": {},
   "outputs": [],
   "source": [
    "from lightgbm import LGBMRegressor"
   ]
  },
  {
   "cell_type": "code",
   "execution_count": 144,
   "metadata": {},
   "outputs": [],
   "source": [
    "#Создаём распределение параметров\n",
    "rs_params_LGBMRegressor = {'learning_rate': np.arange(0.1, 0.6, 0.1),\n",
    "                           'n_estimators': range(100, 300, 20),\n",
    "                           'max_depth': range(1, 11)}"
   ]
  },
  {
   "cell_type": "code",
   "execution_count": 145,
   "metadata": {},
   "outputs": [],
   "source": [
    "model_LGBMRegressor = RandomizedSearchCV(LGBMRegressor(),\n",
    "                                         rs_params_LGBMRegressor,\n",
    "                                         scoring=score_rmse,\n",
    "                                         cv=2,\n",
    "                                         n_iter=4)"
   ]
  },
  {
   "cell_type": "code",
   "execution_count": 146,
   "metadata": {},
   "outputs": [],
   "source": [
    "result.append(base_fit(model_LGBMRegressor, 'LGBMRegressor'))"
   ]
  },
  {
   "cell_type": "markdown",
   "metadata": {},
   "source": [
    "---"
   ]
  },
  {
   "cell_type": "markdown",
   "metadata": {},
   "source": [
    "#### CatBoostRegressor"
   ]
  },
  {
   "cell_type": "code",
   "execution_count": 147,
   "metadata": {},
   "outputs": [],
   "source": [
    "from catboost import CatBoostRegressor, Pool, cv"
   ]
  },
  {
   "cell_type": "code",
   "execution_count": 148,
   "metadata": {},
   "outputs": [],
   "source": [
    "#Создаём распределение параметров\n",
    "rs_params_CatBoostRegressor = {'learning_rate': np.arange(0.1, 0.6, 0.1),\n",
    "                               'n_estimators': range(100, 300, 20),\n",
    "                               'max_depth': range(1, 11)}"
   ]
  },
  {
   "cell_type": "code",
   "execution_count": 149,
   "metadata": {},
   "outputs": [],
   "source": [
    "model_CatBoostRegressor = RandomizedSearchCV(CatBoostRegressor(cat_features=['VehicleType','Gearbox','Model','FuelType','Brand','NotRepaired']),\n",
    "                                             rs_params_CatBoostRegressor,\n",
    "                                             scoring=score_rmse,\n",
    "                                             cv=2,\n",
    "                                             n_iter=4)"
   ]
  },
  {
   "cell_type": "code",
   "execution_count": 150,
   "metadata": {
    "scrolled": true
   },
   "outputs": [
    {
     "name": "stdout",
     "output_type": "stream",
     "text": [
      "0:\tlearn: 3454.0594773\ttotal: 72.6ms\tremaining: 15.9s\n",
      "1:\tlearn: 3288.2696362\ttotal: 172ms\tremaining: 18.7s\n",
      "2:\tlearn: 3147.2558256\ttotal: 270ms\tremaining: 19.5s\n",
      "3:\tlearn: 3023.4376697\ttotal: 369ms\tremaining: 19.9s\n",
      "4:\tlearn: 2908.6832575\ttotal: 468ms\tremaining: 20.1s\n",
      "5:\tlearn: 2813.4941294\ttotal: 566ms\tremaining: 20.2s\n",
      "6:\tlearn: 2721.7885217\ttotal: 665ms\tremaining: 20.2s\n",
      "7:\tlearn: 2637.1627900\ttotal: 675ms\tremaining: 17.9s\n",
      "8:\tlearn: 2570.0739741\ttotal: 772ms\tremaining: 18.1s\n",
      "9:\tlearn: 2508.1514589\ttotal: 871ms\tremaining: 18.3s\n",
      "10:\tlearn: 2453.5548386\ttotal: 966ms\tremaining: 18.4s\n",
      "11:\tlearn: 2398.8657497\ttotal: 1.06s\tremaining: 18.5s\n",
      "12:\tlearn: 2351.8837999\ttotal: 1.16s\tremaining: 18.5s\n",
      "13:\tlearn: 2303.2960237\ttotal: 1.26s\tremaining: 18.5s\n",
      "14:\tlearn: 2262.4678677\ttotal: 1.28s\tremaining: 17.4s\n",
      "15:\tlearn: 2220.1700129\ttotal: 1.46s\tremaining: 18.6s\n",
      "16:\tlearn: 2185.5540294\ttotal: 1.56s\tremaining: 18.6s\n",
      "17:\tlearn: 2155.7325252\ttotal: 1.66s\tremaining: 18.6s\n",
      "18:\tlearn: 2124.1569724\ttotal: 1.76s\tremaining: 18.6s\n",
      "19:\tlearn: 2093.7129000\ttotal: 1.85s\tremaining: 18.5s\n",
      "20:\tlearn: 2069.9852002\ttotal: 1.87s\tremaining: 17.7s\n",
      "21:\tlearn: 2048.1276568\ttotal: 1.97s\tremaining: 17.7s\n",
      "22:\tlearn: 2024.7478149\ttotal: 2.06s\tremaining: 17.7s\n",
      "23:\tlearn: 2000.2388964\ttotal: 2.16s\tremaining: 17.7s\n",
      "24:\tlearn: 1977.6951273\ttotal: 2.26s\tremaining: 17.6s\n",
      "25:\tlearn: 1960.1606011\ttotal: 2.36s\tremaining: 17.6s\n",
      "26:\tlearn: 1943.1154972\ttotal: 2.45s\tremaining: 17.5s\n",
      "27:\tlearn: 1923.2175054\ttotal: 2.55s\tremaining: 17.5s\n",
      "28:\tlearn: 1903.2016981\ttotal: 2.65s\tremaining: 17.5s\n",
      "29:\tlearn: 1886.8836973\ttotal: 2.66s\tremaining: 16.8s\n",
      "30:\tlearn: 1871.8589856\ttotal: 2.75s\tremaining: 16.8s\n",
      "31:\tlearn: 1859.4437069\ttotal: 2.85s\tremaining: 16.7s\n",
      "32:\tlearn: 1844.8796463\ttotal: 2.85s\tremaining: 16.2s\n",
      "33:\tlearn: 1834.1996440\ttotal: 2.95s\tremaining: 16.2s\n",
      "34:\tlearn: 1823.8464548\ttotal: 3.05s\tremaining: 16.1s\n",
      "35:\tlearn: 1813.1768629\ttotal: 3.06s\tremaining: 15.6s\n",
      "36:\tlearn: 1804.0151957\ttotal: 3.15s\tremaining: 15.6s\n",
      "37:\tlearn: 1795.3882132\ttotal: 3.24s\tremaining: 15.5s\n",
      "38:\tlearn: 1786.1693282\ttotal: 3.34s\tremaining: 15.5s\n",
      "39:\tlearn: 1778.3304336\ttotal: 3.35s\tremaining: 15.1s\n",
      "40:\tlearn: 1770.5766752\ttotal: 3.44s\tremaining: 15s\n",
      "41:\tlearn: 1763.3877822\ttotal: 3.54s\tremaining: 15s\n",
      "42:\tlearn: 1756.3960589\ttotal: 3.64s\tremaining: 15s\n",
      "43:\tlearn: 1747.4935578\ttotal: 3.74s\tremaining: 15s\n",
      "44:\tlearn: 1739.4792708\ttotal: 3.84s\tremaining: 14.9s\n",
      "45:\tlearn: 1733.9306318\ttotal: 3.85s\tremaining: 14.5s\n",
      "46:\tlearn: 1726.0824284\ttotal: 3.94s\tremaining: 14.5s\n",
      "47:\tlearn: 1720.1022120\ttotal: 4.04s\tremaining: 14.5s\n",
      "48:\tlearn: 1714.6856940\ttotal: 4.14s\tremaining: 14.4s\n",
      "49:\tlearn: 1710.4613347\ttotal: 4.14s\tremaining: 14.1s\n",
      "50:\tlearn: 1703.2181937\ttotal: 4.33s\tremaining: 14.4s\n",
      "51:\tlearn: 1698.0589828\ttotal: 4.35s\tremaining: 14.1s\n",
      "52:\tlearn: 1693.1557360\ttotal: 4.44s\tremaining: 14s\n",
      "53:\tlearn: 1689.2817254\ttotal: 4.54s\tremaining: 13.9s\n",
      "54:\tlearn: 1684.6908319\ttotal: 4.63s\tremaining: 13.9s\n",
      "55:\tlearn: 1681.0824973\ttotal: 4.64s\tremaining: 13.6s\n",
      "56:\tlearn: 1677.1319912\ttotal: 4.74s\tremaining: 13.6s\n",
      "57:\tlearn: 1673.5171983\ttotal: 4.84s\tremaining: 13.5s\n",
      "58:\tlearn: 1668.7906489\ttotal: 4.93s\tremaining: 13.5s\n",
      "59:\tlearn: 1665.7759151\ttotal: 5.02s\tremaining: 13.4s\n",
      "60:\tlearn: 1661.9008710\ttotal: 5.03s\tremaining: 13.1s\n",
      "61:\tlearn: 1658.0052428\ttotal: 5.12s\tremaining: 13.1s\n",
      "62:\tlearn: 1654.9404357\ttotal: 5.22s\tremaining: 13s\n",
      "63:\tlearn: 1652.1613573\ttotal: 5.32s\tremaining: 13s\n",
      "64:\tlearn: 1648.2367376\ttotal: 5.33s\tremaining: 12.7s\n",
      "65:\tlearn: 1645.7688608\ttotal: 5.42s\tremaining: 12.7s\n",
      "66:\tlearn: 1643.8854832\ttotal: 5.52s\tremaining: 12.6s\n",
      "67:\tlearn: 1640.7008604\ttotal: 5.62s\tremaining: 12.6s\n",
      "68:\tlearn: 1638.3392656\ttotal: 5.71s\tremaining: 12.5s\n",
      "69:\tlearn: 1635.1037780\ttotal: 5.81s\tremaining: 12.5s\n",
      "70:\tlearn: 1633.0474473\ttotal: 5.82s\tremaining: 12.2s\n",
      "71:\tlearn: 1630.6431374\ttotal: 5.92s\tremaining: 12.2s\n",
      "72:\tlearn: 1627.9423723\ttotal: 6.02s\tremaining: 12.1s\n",
      "73:\tlearn: 1625.3382771\ttotal: 6.12s\tremaining: 12.1s\n",
      "74:\tlearn: 1623.1292278\ttotal: 6.22s\tremaining: 12s\n",
      "75:\tlearn: 1621.5829324\ttotal: 6.31s\tremaining: 12s\n",
      "76:\tlearn: 1620.1705786\ttotal: 6.4s\tremaining: 11.9s\n",
      "77:\tlearn: 1618.4793727\ttotal: 6.5s\tremaining: 11.8s\n",
      "78:\tlearn: 1617.0853351\ttotal: 6.51s\tremaining: 11.6s\n",
      "79:\tlearn: 1614.6311365\ttotal: 6.59s\tremaining: 11.5s\n",
      "80:\tlearn: 1613.1556900\ttotal: 6.69s\tremaining: 11.5s\n",
      "81:\tlearn: 1611.4507729\ttotal: 6.79s\tremaining: 11.4s\n",
      "82:\tlearn: 1609.8679657\ttotal: 6.89s\tremaining: 11.4s\n",
      "83:\tlearn: 1608.3148695\ttotal: 6.9s\tremaining: 11.2s\n",
      "84:\tlearn: 1606.0793340\ttotal: 6.99s\tremaining: 11.1s\n",
      "85:\tlearn: 1604.6353113\ttotal: 7.09s\tremaining: 11s\n",
      "86:\tlearn: 1603.4631353\ttotal: 7.18s\tremaining: 11s\n",
      "87:\tlearn: 1602.4687988\ttotal: 7.28s\tremaining: 10.9s\n",
      "88:\tlearn: 1601.1579388\ttotal: 7.29s\tremaining: 10.7s\n",
      "89:\tlearn: 1599.6301158\ttotal: 7.38s\tremaining: 10.7s\n",
      "90:\tlearn: 1598.3512750\ttotal: 7.48s\tremaining: 10.6s\n",
      "91:\tlearn: 1597.1218596\ttotal: 7.58s\tremaining: 10.5s\n",
      "92:\tlearn: 1595.2705113\ttotal: 7.68s\tremaining: 10.5s\n",
      "93:\tlearn: 1594.0389570\ttotal: 7.69s\tremaining: 10.3s\n",
      "94:\tlearn: 1592.6571182\ttotal: 7.79s\tremaining: 10.2s\n",
      "95:\tlearn: 1591.6104618\ttotal: 7.88s\tremaining: 10.2s\n",
      "96:\tlearn: 1590.8772429\ttotal: 7.98s\tremaining: 10.1s\n",
      "97:\tlearn: 1590.1130211\ttotal: 8.08s\tremaining: 10.1s\n",
      "98:\tlearn: 1588.4346661\ttotal: 8.17s\tremaining: 9.99s\n",
      "99:\tlearn: 1587.0735293\ttotal: 8.18s\tremaining: 9.82s\n",
      "100:\tlearn: 1586.1931257\ttotal: 8.28s\tremaining: 9.75s\n",
      "101:\tlearn: 1585.1053876\ttotal: 8.37s\tremaining: 9.69s\n",
      "102:\tlearn: 1583.9364298\ttotal: 8.38s\tremaining: 9.52s\n",
      "103:\tlearn: 1583.2447417\ttotal: 8.48s\tremaining: 9.46s\n",
      "104:\tlearn: 1582.2244097\ttotal: 8.57s\tremaining: 9.39s\n",
      "105:\tlearn: 1581.5114433\ttotal: 8.67s\tremaining: 9.33s\n",
      "106:\tlearn: 1580.6310419\ttotal: 8.77s\tremaining: 9.26s\n",
      "107:\tlearn: 1579.9792181\ttotal: 8.78s\tremaining: 9.11s\n",
      "108:\tlearn: 1579.2418628\ttotal: 8.97s\tremaining: 9.13s\n",
      "109:\tlearn: 1578.3581035\ttotal: 8.97s\tremaining: 8.97s\n",
      "110:\tlearn: 1577.6011114\ttotal: 9.07s\tremaining: 8.91s\n",
      "111:\tlearn: 1576.1679378\ttotal: 9.17s\tremaining: 8.84s\n",
      "112:\tlearn: 1575.1692939\ttotal: 9.18s\tremaining: 8.69s\n",
      "113:\tlearn: 1573.9758660\ttotal: 9.28s\tremaining: 8.63s\n",
      "114:\tlearn: 1573.4049091\ttotal: 9.37s\tremaining: 8.55s\n",
      "115:\tlearn: 1572.3782318\ttotal: 9.47s\tremaining: 8.49s\n",
      "116:\tlearn: 1571.4258143\ttotal: 9.57s\tremaining: 8.43s\n",
      "117:\tlearn: 1570.8136777\ttotal: 9.76s\tremaining: 8.44s\n",
      "118:\tlearn: 1570.3227474\ttotal: 9.77s\tremaining: 8.29s\n",
      "119:\tlearn: 1569.6659010\ttotal: 9.87s\tremaining: 8.22s\n",
      "120:\tlearn: 1568.7393360\ttotal: 9.96s\tremaining: 8.15s\n",
      "121:\tlearn: 1568.3524979\ttotal: 10.1s\tremaining: 8.08s\n",
      "122:\tlearn: 1567.8003651\ttotal: 10.2s\tremaining: 8.01s\n",
      "123:\tlearn: 1567.1535933\ttotal: 10.2s\tremaining: 7.87s\n",
      "124:\tlearn: 1566.7082249\ttotal: 10.4s\tremaining: 7.87s\n",
      "125:\tlearn: 1565.8773579\ttotal: 10.5s\tremaining: 7.8s\n",
      "126:\tlearn: 1565.3466082\ttotal: 10.5s\tremaining: 7.67s\n",
      "127:\tlearn: 1564.8569276\ttotal: 10.6s\tremaining: 7.59s\n",
      "128:\tlearn: 1564.0189455\ttotal: 10.7s\tremaining: 7.52s\n",
      "129:\tlearn: 1562.7910080\ttotal: 10.8s\tremaining: 7.45s\n",
      "130:\tlearn: 1562.2845452\ttotal: 10.9s\tremaining: 7.38s\n",
      "131:\tlearn: 1561.9369650\ttotal: 11s\tremaining: 7.3s\n",
      "132:\tlearn: 1561.5904924\ttotal: 11.1s\tremaining: 7.23s\n",
      "133:\tlearn: 1559.7859224\ttotal: 11.2s\tremaining: 7.16s\n",
      "134:\tlearn: 1558.9815004\ttotal: 11.2s\tremaining: 7.03s\n",
      "135:\tlearn: 1558.0614498\ttotal: 11.3s\tremaining: 6.95s\n",
      "136:\tlearn: 1557.6258765\ttotal: 11.4s\tremaining: 6.88s\n",
      "137:\tlearn: 1557.3269906\ttotal: 11.5s\tremaining: 6.81s\n",
      "138:\tlearn: 1555.8448386\ttotal: 11.5s\tremaining: 6.73s\n",
      "139:\tlearn: 1555.2227599\ttotal: 11.6s\tremaining: 6.66s\n",
      "140:\tlearn: 1554.7525875\ttotal: 11.7s\tremaining: 6.53s\n",
      "141:\tlearn: 1553.9920972\ttotal: 11.7s\tremaining: 6.45s\n",
      "142:\tlearn: 1553.5825674\ttotal: 11.8s\tremaining: 6.38s\n",
      "143:\tlearn: 1553.2455282\ttotal: 11.9s\tremaining: 6.3s\n",
      "144:\tlearn: 1552.8668997\ttotal: 12s\tremaining: 6.23s\n",
      "145:\tlearn: 1552.6745845\ttotal: 12.1s\tremaining: 6.11s\n",
      "146:\tlearn: 1552.4334277\ttotal: 12.1s\tremaining: 6.03s\n",
      "147:\tlearn: 1551.6598491\ttotal: 12.2s\tremaining: 5.96s\n",
      "148:\tlearn: 1551.2597085\ttotal: 12.3s\tremaining: 5.88s\n",
      "149:\tlearn: 1550.4691074\ttotal: 12.4s\tremaining: 5.8s\n",
      "150:\tlearn: 1550.0407645\ttotal: 12.4s\tremaining: 5.69s\n",
      "151:\tlearn: 1549.5465827\ttotal: 12.5s\tremaining: 5.61s\n",
      "152:\tlearn: 1548.3254019\ttotal: 12.6s\tremaining: 5.53s\n",
      "153:\tlearn: 1548.0129393\ttotal: 12.6s\tremaining: 5.42s\n",
      "154:\tlearn: 1545.4456097\ttotal: 12.7s\tremaining: 5.34s\n",
      "155:\tlearn: 1545.0499247\ttotal: 12.8s\tremaining: 5.26s\n",
      "156:\tlearn: 1544.5297278\ttotal: 12.9s\tremaining: 5.19s\n",
      "157:\tlearn: 1544.3031151\ttotal: 13s\tremaining: 5.11s\n",
      "158:\tlearn: 1544.1367331\ttotal: 13s\tremaining: 5s\n",
      "159:\tlearn: 1543.7933361\ttotal: 13.1s\tremaining: 4.93s\n",
      "160:\tlearn: 1543.5807548\ttotal: 13.2s\tremaining: 4.85s\n",
      "161:\tlearn: 1543.0622252\ttotal: 13.3s\tremaining: 4.77s\n",
      "162:\tlearn: 1542.7317783\ttotal: 13.4s\tremaining: 4.7s\n",
      "163:\tlearn: 1542.6133904\ttotal: 13.4s\tremaining: 4.59s\n",
      "164:\tlearn: 1542.3430406\ttotal: 13.5s\tremaining: 4.51s\n",
      "165:\tlearn: 1541.9089140\ttotal: 13.6s\tremaining: 4.43s\n",
      "166:\tlearn: 1541.5729556\ttotal: 13.7s\tremaining: 4.36s\n",
      "167:\tlearn: 1541.1953037\ttotal: 13.9s\tremaining: 4.29s\n",
      "168:\tlearn: 1540.2114370\ttotal: 13.9s\tremaining: 4.2s\n",
      "169:\tlearn: 1539.6982371\ttotal: 13.9s\tremaining: 4.1s\n",
      "170:\tlearn: 1539.5111937\ttotal: 14s\tremaining: 4.02s\n",
      "171:\tlearn: 1538.8843721\ttotal: 14.1s\tremaining: 3.94s\n",
      "172:\tlearn: 1538.2878034\ttotal: 14.2s\tremaining: 3.86s\n",
      "173:\tlearn: 1538.0382057\ttotal: 14.3s\tremaining: 3.79s\n",
      "174:\tlearn: 1537.3321999\ttotal: 14.3s\tremaining: 3.69s\n",
      "175:\tlearn: 1537.0689793\ttotal: 14.4s\tremaining: 3.61s\n",
      "176:\tlearn: 1535.0777647\ttotal: 14.5s\tremaining: 3.53s\n",
      "177:\tlearn: 1534.5030186\ttotal: 14.6s\tremaining: 3.45s\n",
      "178:\tlearn: 1534.4038800\ttotal: 14.7s\tremaining: 3.37s\n",
      "179:\tlearn: 1534.0780778\ttotal: 14.7s\tremaining: 3.27s\n",
      "180:\tlearn: 1533.5734332\ttotal: 14.8s\tremaining: 3.19s\n",
      "181:\tlearn: 1533.0915251\ttotal: 14.9s\tremaining: 3.12s\n",
      "182:\tlearn: 1532.8483082\ttotal: 15s\tremaining: 3.04s\n",
      "183:\tlearn: 1532.5107611\ttotal: 15.1s\tremaining: 2.96s\n",
      "184:\tlearn: 1532.2825619\ttotal: 15.2s\tremaining: 2.88s\n",
      "185:\tlearn: 1531.6568929\ttotal: 15.2s\tremaining: 2.78s\n",
      "186:\tlearn: 1530.7192357\ttotal: 15.3s\tremaining: 2.7s\n",
      "187:\tlearn: 1529.9130017\ttotal: 15.4s\tremaining: 2.62s\n",
      "188:\tlearn: 1529.5392242\ttotal: 15.5s\tremaining: 2.54s\n",
      "189:\tlearn: 1529.3770402\ttotal: 15.5s\tremaining: 2.45s\n",
      "190:\tlearn: 1528.8674971\ttotal: 15.6s\tremaining: 2.37s\n",
      "191:\tlearn: 1528.5781748\ttotal: 15.7s\tremaining: 2.29s\n",
      "192:\tlearn: 1528.0274112\ttotal: 15.7s\tremaining: 2.2s\n",
      "193:\tlearn: 1527.7154526\ttotal: 15.8s\tremaining: 2.12s\n",
      "194:\tlearn: 1527.5697200\ttotal: 15.9s\tremaining: 2.04s\n",
      "195:\tlearn: 1527.2517872\ttotal: 16s\tremaining: 1.96s\n",
      "196:\tlearn: 1527.0281699\ttotal: 16s\tremaining: 1.87s\n",
      "197:\tlearn: 1526.3007147\ttotal: 16.1s\tremaining: 1.79s\n",
      "198:\tlearn: 1525.9727998\ttotal: 16.2s\tremaining: 1.71s\n",
      "199:\tlearn: 1524.4076919\ttotal: 16.2s\tremaining: 1.62s\n",
      "200:\tlearn: 1522.4853052\ttotal: 16.3s\tremaining: 1.54s\n",
      "201:\tlearn: 1522.0173750\ttotal: 16.4s\tremaining: 1.46s\n",
      "202:\tlearn: 1521.7905910\ttotal: 16.4s\tremaining: 1.37s\n",
      "203:\tlearn: 1521.2001184\ttotal: 16.5s\tremaining: 1.29s\n",
      "204:\tlearn: 1520.9230154\ttotal: 16.6s\tremaining: 1.21s\n",
      "205:\tlearn: 1520.5048066\ttotal: 16.7s\tremaining: 1.13s\n",
      "206:\tlearn: 1520.4201688\ttotal: 16.7s\tremaining: 1.05s\n",
      "207:\tlearn: 1520.1496669\ttotal: 16.8s\tremaining: 969ms\n",
      "208:\tlearn: 1519.8486472\ttotal: 16.9s\tremaining: 889ms\n",
      "209:\tlearn: 1519.4703322\ttotal: 17s\tremaining: 809ms\n",
      "210:\tlearn: 1519.2167548\ttotal: 17.1s\tremaining: 729ms\n",
      "211:\tlearn: 1519.0545612\ttotal: 17.1s\tremaining: 645ms\n",
      "212:\tlearn: 1518.6591099\ttotal: 17.2s\tremaining: 565ms\n",
      "213:\tlearn: 1518.4360159\ttotal: 17.3s\tremaining: 485ms\n",
      "214:\tlearn: 1518.3080900\ttotal: 17.3s\tremaining: 402ms\n",
      "215:\tlearn: 1518.1115938\ttotal: 17.4s\tremaining: 322ms\n",
      "216:\tlearn: 1517.8048936\ttotal: 17.5s\tremaining: 242ms\n",
      "217:\tlearn: 1515.0136926\ttotal: 17.6s\tremaining: 161ms\n",
      "218:\tlearn: 1514.8291538\ttotal: 17.6s\tremaining: 80.3ms\n",
      "219:\tlearn: 1514.5957640\ttotal: 17.7s\tremaining: 0us\n",
      "0:\tlearn: 3484.4867561\ttotal: 17.2ms\tremaining: 3.77s\n",
      "1:\tlearn: 3318.4577372\ttotal: 39.2ms\tremaining: 4.28s\n",
      "2:\tlearn: 3179.6703229\ttotal: 132ms\tremaining: 9.52s\n",
      "3:\tlearn: 3051.9555061\ttotal: 231ms\tremaining: 12.5s\n",
      "4:\tlearn: 2934.8297234\ttotal: 329ms\tremaining: 14.2s\n",
      "5:\tlearn: 2831.4985744\ttotal: 427ms\tremaining: 15.2s\n",
      "6:\tlearn: 2743.1201466\ttotal: 525ms\tremaining: 16s\n",
      "7:\tlearn: 2668.1782743\ttotal: 620ms\tremaining: 16.4s\n",
      "8:\tlearn: 2592.8032286\ttotal: 631ms\tremaining: 14.8s\n",
      "9:\tlearn: 2527.0899994\ttotal: 729ms\tremaining: 15.3s\n",
      "10:\tlearn: 2470.9022098\ttotal: 825ms\tremaining: 15.7s\n",
      "11:\tlearn: 2419.7707989\ttotal: 924ms\tremaining: 16s\n",
      "12:\tlearn: 2372.2372524\ttotal: 1.02s\tremaining: 16.3s\n",
      "13:\tlearn: 2321.0589228\ttotal: 1.12s\tremaining: 16.5s\n",
      "14:\tlearn: 2278.5164070\ttotal: 1.22s\tremaining: 16.7s\n",
      "15:\tlearn: 2242.1800065\ttotal: 1.32s\tremaining: 16.8s\n",
      "16:\tlearn: 2202.3343318\ttotal: 1.42s\tremaining: 16.9s\n",
      "17:\tlearn: 2170.3767222\ttotal: 1.51s\tremaining: 17s\n",
      "18:\tlearn: 2136.8584931\ttotal: 1.62s\tremaining: 17.1s\n",
      "19:\tlearn: 2108.8213343\ttotal: 1.71s\tremaining: 17.1s\n",
      "20:\tlearn: 2083.4658935\ttotal: 1.81s\tremaining: 17.2s\n",
      "21:\tlearn: 2058.5805653\ttotal: 1.91s\tremaining: 17.2s\n",
      "22:\tlearn: 2037.8918567\ttotal: 2.01s\tremaining: 17.2s\n",
      "23:\tlearn: 2016.2900900\ttotal: 2.11s\tremaining: 17.2s\n",
      "24:\tlearn: 1991.9371218\ttotal: 2.12s\tremaining: 16.5s\n",
      "25:\tlearn: 1971.3197493\ttotal: 2.21s\tremaining: 16.5s\n",
      "26:\tlearn: 1954.6987990\ttotal: 2.31s\tremaining: 16.5s\n",
      "27:\tlearn: 1941.0873472\ttotal: 2.41s\tremaining: 16.5s\n",
      "28:\tlearn: 1924.3814628\ttotal: 2.51s\tremaining: 16.5s\n",
      "29:\tlearn: 1912.9509169\ttotal: 2.62s\tremaining: 16.6s\n",
      "30:\tlearn: 1899.2752089\ttotal: 2.63s\tremaining: 16s\n",
      "31:\tlearn: 1886.8544091\ttotal: 2.71s\tremaining: 15.9s\n",
      "32:\tlearn: 1873.8849886\ttotal: 2.81s\tremaining: 15.9s\n",
      "33:\tlearn: 1860.2222836\ttotal: 2.91s\tremaining: 15.9s\n",
      "34:\tlearn: 1849.2045199\ttotal: 3.01s\tremaining: 15.9s\n",
      "35:\tlearn: 1838.6935469\ttotal: 3.1s\tremaining: 15.9s\n",
      "36:\tlearn: 1825.0171975\ttotal: 3.2s\tremaining: 15.8s\n",
      "37:\tlearn: 1812.8316484\ttotal: 3.3s\tremaining: 15.8s\n",
      "38:\tlearn: 1802.1488949\ttotal: 3.39s\tremaining: 15.8s\n",
      "39:\tlearn: 1792.2879338\ttotal: 3.4s\tremaining: 15.3s\n",
      "40:\tlearn: 1785.2297645\ttotal: 3.5s\tremaining: 15.3s\n",
      "41:\tlearn: 1776.3486161\ttotal: 3.6s\tremaining: 15.2s\n",
      "42:\tlearn: 1769.2627625\ttotal: 3.69s\tremaining: 15.2s\n",
      "43:\tlearn: 1762.0861867\ttotal: 3.7s\tremaining: 14.8s\n",
      "44:\tlearn: 1755.2077690\ttotal: 3.79s\tremaining: 14.8s\n",
      "45:\tlearn: 1748.4705184\ttotal: 3.89s\tremaining: 14.7s\n",
      "46:\tlearn: 1742.4397650\ttotal: 3.99s\tremaining: 14.7s\n",
      "47:\tlearn: 1735.5048128\ttotal: 4.09s\tremaining: 14.7s\n",
      "48:\tlearn: 1730.0980603\ttotal: 4.1s\tremaining: 14.3s\n",
      "49:\tlearn: 1725.4884540\ttotal: 4.19s\tremaining: 14.3s\n",
      "50:\tlearn: 1721.9449711\ttotal: 4.29s\tremaining: 14.2s\n",
      "51:\tlearn: 1716.3694259\ttotal: 4.38s\tremaining: 14.2s\n",
      "52:\tlearn: 1711.6072254\ttotal: 4.4s\tremaining: 13.9s\n",
      "53:\tlearn: 1706.8966556\ttotal: 4.49s\tremaining: 13.8s\n",
      "54:\tlearn: 1703.5743259\ttotal: 4.59s\tremaining: 13.8s\n",
      "55:\tlearn: 1699.7815864\ttotal: 4.68s\tremaining: 13.7s\n",
      "56:\tlearn: 1694.4470452\ttotal: 4.78s\tremaining: 13.7s\n",
      "57:\tlearn: 1690.7402899\ttotal: 4.88s\tremaining: 13.6s\n",
      "58:\tlearn: 1688.3430510\ttotal: 4.88s\tremaining: 13.3s\n",
      "59:\tlearn: 1684.4059296\ttotal: 4.98s\tremaining: 13.3s\n",
      "60:\tlearn: 1679.5890195\ttotal: 5.08s\tremaining: 13.3s\n",
      "61:\tlearn: 1675.5188621\ttotal: 5.18s\tremaining: 13.2s\n",
      "62:\tlearn: 1672.9117932\ttotal: 5.28s\tremaining: 13.1s\n",
      "63:\tlearn: 1670.4216110\ttotal: 5.37s\tremaining: 13.1s\n",
      "64:\tlearn: 1667.5343352\ttotal: 5.48s\tremaining: 13.1s\n",
      "65:\tlearn: 1664.8372149\ttotal: 5.5s\tremaining: 12.8s\n",
      "66:\tlearn: 1662.8658268\ttotal: 5.58s\tremaining: 12.8s\n",
      "67:\tlearn: 1660.4927725\ttotal: 5.68s\tremaining: 12.7s\n",
      "68:\tlearn: 1658.2797412\ttotal: 5.77s\tremaining: 12.6s\n",
      "69:\tlearn: 1655.6073383\ttotal: 5.88s\tremaining: 12.6s\n",
      "70:\tlearn: 1653.4482770\ttotal: 5.97s\tremaining: 12.5s\n",
      "71:\tlearn: 1651.2377414\ttotal: 6.06s\tremaining: 12.5s\n",
      "72:\tlearn: 1648.4202814\ttotal: 6.07s\tremaining: 12.2s\n",
      "73:\tlearn: 1646.9134688\ttotal: 6.17s\tremaining: 12.2s\n",
      "74:\tlearn: 1645.2526622\ttotal: 6.27s\tremaining: 12.1s\n",
      "75:\tlearn: 1643.9541214\ttotal: 6.36s\tremaining: 12.1s\n",
      "76:\tlearn: 1642.0705232\ttotal: 6.46s\tremaining: 12s\n",
      "77:\tlearn: 1640.4045302\ttotal: 6.47s\tremaining: 11.8s\n",
      "78:\tlearn: 1639.0964537\ttotal: 6.56s\tremaining: 11.7s\n",
      "79:\tlearn: 1637.1180085\ttotal: 6.66s\tremaining: 11.7s\n",
      "80:\tlearn: 1635.6799744\ttotal: 6.67s\tremaining: 11.5s\n",
      "81:\tlearn: 1633.4607349\ttotal: 6.76s\tremaining: 11.4s\n",
      "82:\tlearn: 1631.4224113\ttotal: 6.86s\tremaining: 11.3s\n",
      "83:\tlearn: 1630.1605588\ttotal: 6.96s\tremaining: 11.3s\n",
      "84:\tlearn: 1629.0063035\ttotal: 7.05s\tremaining: 11.2s\n",
      "85:\tlearn: 1627.8780676\ttotal: 7.06s\tremaining: 11s\n",
      "86:\tlearn: 1626.1798781\ttotal: 7.16s\tremaining: 10.9s\n",
      "87:\tlearn: 1624.2024403\ttotal: 7.25s\tremaining: 10.9s\n",
      "88:\tlearn: 1623.1987564\ttotal: 7.35s\tremaining: 10.8s\n",
      "89:\tlearn: 1621.7384202\ttotal: 7.45s\tremaining: 10.8s\n",
      "90:\tlearn: 1620.9148796\ttotal: 7.55s\tremaining: 10.7s\n",
      "91:\tlearn: 1619.6690407\ttotal: 7.56s\tremaining: 10.5s\n",
      "92:\tlearn: 1617.8252646\ttotal: 7.65s\tremaining: 10.5s\n",
      "93:\tlearn: 1616.8772626\ttotal: 7.75s\tremaining: 10.4s\n",
      "94:\tlearn: 1615.8685740\ttotal: 7.76s\tremaining: 10.2s\n",
      "95:\tlearn: 1614.6868905\ttotal: 7.85s\tremaining: 10.1s\n",
      "96:\tlearn: 1614.0015661\ttotal: 7.95s\tremaining: 10.1s\n",
      "97:\tlearn: 1612.4795038\ttotal: 8.04s\tremaining: 10s\n",
      "98:\tlearn: 1610.8627059\ttotal: 8.14s\tremaining: 9.95s\n",
      "99:\tlearn: 1609.7638414\ttotal: 8.15s\tremaining: 9.78s\n",
      "100:\tlearn: 1609.1171892\ttotal: 8.25s\tremaining: 9.72s\n",
      "101:\tlearn: 1607.9969639\ttotal: 8.35s\tremaining: 9.66s\n",
      "102:\tlearn: 1606.8026083\ttotal: 8.44s\tremaining: 9.59s\n",
      "103:\tlearn: 1605.9738554\ttotal: 8.54s\tremaining: 9.53s\n",
      "104:\tlearn: 1605.4594262\ttotal: 8.55s\tremaining: 9.36s\n",
      "105:\tlearn: 1604.8796501\ttotal: 8.65s\tremaining: 9.3s\n",
      "106:\tlearn: 1603.8753743\ttotal: 8.74s\tremaining: 9.23s\n",
      "107:\tlearn: 1603.0888382\ttotal: 8.84s\tremaining: 9.16s\n",
      "108:\tlearn: 1602.6231799\ttotal: 8.84s\tremaining: 9.01s\n",
      "109:\tlearn: 1601.3466491\ttotal: 8.94s\tremaining: 8.94s\n",
      "110:\tlearn: 1600.4571945\ttotal: 9.03s\tremaining: 8.87s\n",
      "111:\tlearn: 1598.5672554\ttotal: 9.13s\tremaining: 8.81s\n",
      "112:\tlearn: 1598.1095974\ttotal: 9.14s\tremaining: 8.65s\n",
      "113:\tlearn: 1597.1280820\ttotal: 9.24s\tremaining: 8.59s\n",
      "114:\tlearn: 1596.2944862\ttotal: 9.33s\tremaining: 8.52s\n",
      "115:\tlearn: 1595.4327821\ttotal: 9.34s\tremaining: 8.37s\n",
      "116:\tlearn: 1595.1045642\ttotal: 9.45s\tremaining: 8.32s\n",
      "117:\tlearn: 1594.4320102\ttotal: 9.54s\tremaining: 8.24s\n",
      "118:\tlearn: 1593.5846817\ttotal: 9.63s\tremaining: 8.18s\n",
      "119:\tlearn: 1592.7544564\ttotal: 9.73s\tremaining: 8.11s\n",
      "120:\tlearn: 1592.4614394\ttotal: 9.83s\tremaining: 8.04s\n",
      "121:\tlearn: 1592.0066879\ttotal: 9.85s\tremaining: 7.91s\n",
      "122:\tlearn: 1591.4148142\ttotal: 9.93s\tremaining: 7.83s\n",
      "123:\tlearn: 1590.3372659\ttotal: 10s\tremaining: 7.76s\n",
      "124:\tlearn: 1590.0964785\ttotal: 10.1s\tremaining: 7.7s\n",
      "125:\tlearn: 1589.5388388\ttotal: 10.1s\tremaining: 7.56s\n",
      "126:\tlearn: 1589.2010523\ttotal: 10.2s\tremaining: 7.49s\n",
      "127:\tlearn: 1589.0280122\ttotal: 10.3s\tremaining: 7.42s\n",
      "128:\tlearn: 1588.6370737\ttotal: 10.4s\tremaining: 7.36s\n",
      "129:\tlearn: 1588.2519838\ttotal: 10.4s\tremaining: 7.22s\n",
      "130:\tlearn: 1587.5819995\ttotal: 10.5s\tremaining: 7.15s\n",
      "131:\tlearn: 1587.2490259\ttotal: 10.6s\tremaining: 7.08s\n",
      "132:\tlearn: 1586.3082595\ttotal: 10.7s\tremaining: 7.01s\n",
      "133:\tlearn: 1585.5457120\ttotal: 10.7s\tremaining: 6.88s\n",
      "134:\tlearn: 1584.9970960\ttotal: 10.8s\tremaining: 6.81s\n",
      "135:\tlearn: 1584.3611195\ttotal: 10.9s\tremaining: 6.74s\n",
      "136:\tlearn: 1583.5485586\ttotal: 10.9s\tremaining: 6.62s\n",
      "137:\tlearn: 1582.6431894\ttotal: 11s\tremaining: 6.55s\n",
      "138:\tlearn: 1582.4195424\ttotal: 11.1s\tremaining: 6.48s\n",
      "139:\tlearn: 1581.9787349\ttotal: 11.2s\tremaining: 6.41s\n",
      "140:\tlearn: 1581.4428188\ttotal: 11.2s\tremaining: 6.29s\n",
      "141:\tlearn: 1581.1360929\ttotal: 11.3s\tremaining: 6.22s\n",
      "142:\tlearn: 1580.4735616\ttotal: 11.4s\tremaining: 6.14s\n",
      "143:\tlearn: 1580.0744283\ttotal: 11.4s\tremaining: 6.03s\n",
      "144:\tlearn: 1579.5791608\ttotal: 11.5s\tremaining: 5.96s\n",
      "145:\tlearn: 1579.4301963\ttotal: 11.6s\tremaining: 5.88s\n",
      "146:\tlearn: 1578.6475508\ttotal: 11.6s\tremaining: 5.77s\n",
      "147:\tlearn: 1578.0402716\ttotal: 11.7s\tremaining: 5.7s\n",
      "148:\tlearn: 1577.8643883\ttotal: 11.8s\tremaining: 5.63s\n",
      "149:\tlearn: 1577.3911505\ttotal: 11.9s\tremaining: 5.56s\n",
      "150:\tlearn: 1576.8766441\ttotal: 11.9s\tremaining: 5.45s\n",
      "151:\tlearn: 1576.6049206\ttotal: 12s\tremaining: 5.38s\n",
      "152:\tlearn: 1576.2423330\ttotal: 12.1s\tremaining: 5.3s\n",
      "153:\tlearn: 1576.1185919\ttotal: 12.2s\tremaining: 5.23s\n",
      "154:\tlearn: 1575.3651058\ttotal: 12.3s\tremaining: 5.16s\n",
      "155:\tlearn: 1574.8659387\ttotal: 12.3s\tremaining: 5.05s\n",
      "156:\tlearn: 1574.6259056\ttotal: 12.4s\tremaining: 4.98s\n",
      "157:\tlearn: 1572.6116253\ttotal: 12.5s\tremaining: 4.91s\n",
      "158:\tlearn: 1572.0244103\ttotal: 12.6s\tremaining: 4.83s\n",
      "159:\tlearn: 1571.6741045\ttotal: 12.7s\tremaining: 4.76s\n",
      "160:\tlearn: 1571.2265621\ttotal: 12.7s\tremaining: 4.66s\n",
      "161:\tlearn: 1570.8743746\ttotal: 12.8s\tremaining: 4.58s\n",
      "162:\tlearn: 1570.4638196\ttotal: 12.9s\tremaining: 4.51s\n",
      "163:\tlearn: 1570.2156805\ttotal: 12.9s\tremaining: 4.41s\n",
      "164:\tlearn: 1569.6299866\ttotal: 13s\tremaining: 4.33s\n",
      "165:\tlearn: 1569.5192210\ttotal: 13.1s\tremaining: 4.26s\n",
      "166:\tlearn: 1569.2665187\ttotal: 13.2s\tremaining: 4.19s\n",
      "167:\tlearn: 1566.7882849\ttotal: 13.3s\tremaining: 4.11s\n",
      "168:\tlearn: 1566.5459596\ttotal: 13.3s\tremaining: 4.01s\n",
      "169:\tlearn: 1565.9965307\ttotal: 13.4s\tremaining: 3.94s\n",
      "170:\tlearn: 1565.6065691\ttotal: 13.5s\tremaining: 3.87s\n",
      "171:\tlearn: 1565.1874857\ttotal: 13.6s\tremaining: 3.79s\n",
      "172:\tlearn: 1563.7254203\ttotal: 13.7s\tremaining: 3.72s\n",
      "173:\tlearn: 1563.3604082\ttotal: 13.7s\tremaining: 3.62s\n",
      "174:\tlearn: 1562.9244987\ttotal: 13.8s\tremaining: 3.55s\n",
      "175:\tlearn: 1562.4871834\ttotal: 13.9s\tremaining: 3.47s\n",
      "176:\tlearn: 1562.2602688\ttotal: 13.9s\tremaining: 3.38s\n",
      "177:\tlearn: 1561.8684642\ttotal: 14s\tremaining: 3.3s\n",
      "178:\tlearn: 1561.2899654\ttotal: 14.1s\tremaining: 3.23s\n",
      "179:\tlearn: 1559.3527714\ttotal: 14.2s\tremaining: 3.15s\n",
      "180:\tlearn: 1559.0502346\ttotal: 14.2s\tremaining: 3.06s\n",
      "181:\tlearn: 1558.8509041\ttotal: 14.3s\tremaining: 2.98s\n",
      "182:\tlearn: 1558.7278237\ttotal: 14.4s\tremaining: 2.91s\n",
      "183:\tlearn: 1558.3989578\ttotal: 14.5s\tremaining: 2.83s\n",
      "184:\tlearn: 1558.1256986\ttotal: 14.5s\tremaining: 2.74s\n",
      "185:\tlearn: 1557.6827173\ttotal: 14.6s\tremaining: 2.67s\n",
      "186:\tlearn: 1557.3079353\ttotal: 14.7s\tremaining: 2.59s\n",
      "187:\tlearn: 1556.1560932\ttotal: 14.7s\tremaining: 2.5s\n",
      "188:\tlearn: 1556.0118197\ttotal: 14.8s\tremaining: 2.42s\n",
      "189:\tlearn: 1555.3129520\ttotal: 14.9s\tremaining: 2.35s\n",
      "190:\tlearn: 1554.5654632\ttotal: 15s\tremaining: 2.27s\n",
      "191:\tlearn: 1554.0934253\ttotal: 15s\tremaining: 2.19s\n",
      "192:\tlearn: 1553.9698050\ttotal: 15.1s\tremaining: 2.11s\n",
      "193:\tlearn: 1552.4366065\ttotal: 15.2s\tremaining: 2.03s\n",
      "194:\tlearn: 1551.9787103\ttotal: 15.3s\tremaining: 1.96s\n",
      "195:\tlearn: 1551.3444529\ttotal: 15.3s\tremaining: 1.87s\n",
      "196:\tlearn: 1551.0939491\ttotal: 15.4s\tremaining: 1.79s\n",
      "197:\tlearn: 1550.4998590\ttotal: 15.5s\tremaining: 1.72s\n",
      "198:\tlearn: 1549.6407832\ttotal: 15.6s\tremaining: 1.64s\n",
      "199:\tlearn: 1549.3139288\ttotal: 15.6s\tremaining: 1.56s\n",
      "200:\tlearn: 1549.0994522\ttotal: 15.7s\tremaining: 1.48s\n",
      "201:\tlearn: 1548.9886959\ttotal: 15.8s\tremaining: 1.41s\n",
      "202:\tlearn: 1547.7250816\ttotal: 15.9s\tremaining: 1.33s\n",
      "203:\tlearn: 1546.8357273\ttotal: 16s\tremaining: 1.25s\n",
      "204:\tlearn: 1546.5135296\ttotal: 16s\tremaining: 1.17s\n",
      "205:\tlearn: 1546.3328722\ttotal: 16.1s\tremaining: 1.09s\n",
      "206:\tlearn: 1545.8946060\ttotal: 16.2s\tremaining: 1.01s\n",
      "207:\tlearn: 1544.7040440\ttotal: 16.3s\tremaining: 939ms\n",
      "208:\tlearn: 1544.1304333\ttotal: 16.4s\tremaining: 861ms\n",
      "209:\tlearn: 1542.3286636\ttotal: 16.4s\tremaining: 780ms\n",
      "210:\tlearn: 1541.9334414\ttotal: 16.5s\tremaining: 703ms\n",
      "211:\tlearn: 1541.2131943\ttotal: 16.6s\tremaining: 625ms\n",
      "212:\tlearn: 1540.9054359\ttotal: 16.7s\tremaining: 548ms\n",
      "213:\tlearn: 1540.6593052\ttotal: 16.8s\tremaining: 470ms\n",
      "214:\tlearn: 1540.2029086\ttotal: 16.8s\tremaining: 390ms\n",
      "215:\tlearn: 1539.9209107\ttotal: 16.9s\tremaining: 312ms\n",
      "216:\tlearn: 1538.8992604\ttotal: 17s\tremaining: 234ms\n",
      "217:\tlearn: 1538.5212625\ttotal: 17.1s\tremaining: 157ms\n",
      "218:\tlearn: 1538.3179889\ttotal: 17.2s\tremaining: 78.3ms\n",
      "219:\tlearn: 1537.5307830\ttotal: 17.3s\tremaining: 0us\n",
      "0:\tlearn: 2671.8347709\ttotal: 117ms\tremaining: 21s\n",
      "1:\tlearn: 2162.0716571\ttotal: 404ms\tremaining: 36s\n",
      "2:\tlearn: 1837.6936172\ttotal: 604ms\tremaining: 35.7s\n",
      "3:\tlearn: 1678.1445658\ttotal: 807ms\tremaining: 35.5s\n",
      "4:\tlearn: 1576.6790802\ttotal: 1s\tremaining: 35.1s\n",
      "5:\tlearn: 1513.9784805\ttotal: 1.2s\tremaining: 34.9s\n",
      "6:\tlearn: 1478.9674656\ttotal: 1.4s\tremaining: 34.7s\n",
      "7:\tlearn: 1457.3251563\ttotal: 1.6s\tremaining: 34.5s\n",
      "8:\tlearn: 1439.4484668\ttotal: 1.8s\tremaining: 34.2s\n",
      "9:\tlearn: 1426.9030201\ttotal: 2s\tremaining: 34s\n",
      "10:\tlearn: 1412.9223361\ttotal: 2.19s\tremaining: 33.7s\n",
      "11:\tlearn: 1403.4346447\ttotal: 2.39s\tremaining: 33.5s\n",
      "12:\tlearn: 1397.1387818\ttotal: 2.59s\tremaining: 33.3s\n",
      "13:\tlearn: 1391.8157597\ttotal: 2.79s\tremaining: 33.1s\n",
      "14:\tlearn: 1381.1783157\ttotal: 2.9s\tremaining: 32s\n",
      "15:\tlearn: 1373.0152314\ttotal: 3.1s\tremaining: 31.8s\n",
      "16:\tlearn: 1366.9366572\ttotal: 3.3s\tremaining: 31.6s\n",
      "17:\tlearn: 1362.1037884\ttotal: 3.5s\tremaining: 31.5s\n",
      "18:\tlearn: 1358.3029252\ttotal: 3.7s\tremaining: 31.3s\n",
      "19:\tlearn: 1354.8548084\ttotal: 3.89s\tremaining: 31.1s\n",
      "20:\tlearn: 1344.9033439\ttotal: 4.09s\tremaining: 31s\n",
      "21:\tlearn: 1341.0699117\ttotal: 4.29s\tremaining: 30.8s\n",
      "22:\tlearn: 1334.5494264\ttotal: 4.49s\tremaining: 30.6s\n",
      "23:\tlearn: 1328.1088333\ttotal: 4.68s\tremaining: 30.5s\n",
      "24:\tlearn: 1325.0677789\ttotal: 4.8s\tremaining: 29.7s\n",
      "25:\tlearn: 1319.7223394\ttotal: 4.99s\tremaining: 29.6s\n",
      "26:\tlearn: 1317.2053303\ttotal: 5.19s\tremaining: 29.4s\n",
      "27:\tlearn: 1315.8471505\ttotal: 5.39s\tremaining: 29.2s\n",
      "28:\tlearn: 1312.4183511\ttotal: 5.58s\tremaining: 29.1s\n",
      "29:\tlearn: 1309.0015076\ttotal: 5.78s\tremaining: 28.9s\n",
      "30:\tlearn: 1303.3212523\ttotal: 5.98s\tremaining: 28.7s\n",
      "31:\tlearn: 1298.4044767\ttotal: 6.18s\tremaining: 28.6s\n",
      "32:\tlearn: 1295.8596974\ttotal: 6.38s\tremaining: 28.4s\n",
      "33:\tlearn: 1294.0546346\ttotal: 6.58s\tremaining: 28.2s\n",
      "34:\tlearn: 1288.4792530\ttotal: 6.77s\tremaining: 28.1s\n",
      "35:\tlearn: 1286.1365362\ttotal: 6.97s\tremaining: 27.9s\n",
      "36:\tlearn: 1284.1617962\ttotal: 7.17s\tremaining: 27.7s\n",
      "37:\tlearn: 1281.8931822\ttotal: 7.37s\tremaining: 27.5s\n",
      "38:\tlearn: 1280.6476782\ttotal: 7.48s\tremaining: 27s\n",
      "39:\tlearn: 1278.9598405\ttotal: 7.68s\tremaining: 26.9s\n",
      "40:\tlearn: 1277.6179912\ttotal: 7.87s\tremaining: 26.7s\n",
      "41:\tlearn: 1275.7171849\ttotal: 8.07s\tremaining: 26.5s\n",
      "42:\tlearn: 1274.6498477\ttotal: 8.27s\tremaining: 26.3s\n",
      "43:\tlearn: 1270.9875138\ttotal: 8.47s\tremaining: 26.2s\n",
      "44:\tlearn: 1269.5701013\ttotal: 8.67s\tremaining: 26s\n",
      "45:\tlearn: 1268.2884874\ttotal: 8.78s\tremaining: 25.6s\n",
      "46:\tlearn: 1265.0436446\ttotal: 8.97s\tremaining: 25.4s\n",
      "47:\tlearn: 1263.5158574\ttotal: 9.17s\tremaining: 25.2s\n",
      "48:\tlearn: 1260.4604242\ttotal: 9.37s\tremaining: 25s\n",
      "49:\tlearn: 1259.6614405\ttotal: 9.56s\tremaining: 24.9s\n",
      "50:\tlearn: 1258.5601096\ttotal: 9.76s\tremaining: 24.7s\n",
      "51:\tlearn: 1257.1675277\ttotal: 9.96s\tremaining: 24.5s\n",
      "52:\tlearn: 1255.2192386\ttotal: 10.2s\tremaining: 24.3s\n",
      "53:\tlearn: 1252.5972456\ttotal: 10.4s\tremaining: 24.2s\n",
      "54:\tlearn: 1249.7258451\ttotal: 10.6s\tremaining: 24s\n",
      "55:\tlearn: 1247.4246993\ttotal: 10.8s\tremaining: 23.8s\n",
      "56:\tlearn: 1245.9871425\ttotal: 11s\tremaining: 23.6s\n",
      "57:\tlearn: 1244.7631166\ttotal: 11.2s\tremaining: 23.5s\n",
      "58:\tlearn: 1242.7183896\ttotal: 11.4s\tremaining: 23.3s\n",
      "59:\tlearn: 1240.5159596\ttotal: 11.6s\tremaining: 23.1s\n",
      "60:\tlearn: 1239.6756956\ttotal: 11.7s\tremaining: 22.8s\n",
      "61:\tlearn: 1238.5854556\ttotal: 11.9s\tremaining: 22.6s\n",
      "62:\tlearn: 1238.0569131\ttotal: 12.1s\tremaining: 22.4s\n",
      "63:\tlearn: 1235.7699149\ttotal: 12.3s\tremaining: 22.2s\n",
      "64:\tlearn: 1233.1771763\ttotal: 12.5s\tremaining: 22s\n",
      "65:\tlearn: 1231.4834864\ttotal: 12.7s\tremaining: 21.9s\n",
      "66:\tlearn: 1229.6847144\ttotal: 12.8s\tremaining: 21.7s\n",
      "67:\tlearn: 1227.6155769\ttotal: 13.1s\tremaining: 21.5s\n",
      "68:\tlearn: 1225.2656395\ttotal: 13.2s\tremaining: 21.2s\n",
      "69:\tlearn: 1221.0625625\ttotal: 13.4s\tremaining: 21s\n",
      "70:\tlearn: 1217.7192942\ttotal: 13.6s\tremaining: 20.8s\n",
      "71:\tlearn: 1215.3049517\ttotal: 13.8s\tremaining: 20.6s\n",
      "72:\tlearn: 1213.8739083\ttotal: 14s\tremaining: 20.5s\n",
      "73:\tlearn: 1210.8340152\ttotal: 14.1s\tremaining: 20.3s\n",
      "74:\tlearn: 1209.3927672\ttotal: 14.4s\tremaining: 20.1s\n",
      "75:\tlearn: 1207.7218077\ttotal: 14.5s\tremaining: 19.9s\n",
      "76:\tlearn: 1206.2733812\ttotal: 14.7s\tremaining: 19.7s\n",
      "77:\tlearn: 1205.9236994\ttotal: 14.9s\tremaining: 19.5s\n",
      "78:\tlearn: 1205.1590249\ttotal: 15.1s\tremaining: 19.4s\n",
      "79:\tlearn: 1203.2336898\ttotal: 15.3s\tremaining: 19.2s\n",
      "80:\tlearn: 1201.2560508\ttotal: 15.5s\tremaining: 19s\n",
      "81:\tlearn: 1200.1494453\ttotal: 15.7s\tremaining: 18.8s\n",
      "82:\tlearn: 1198.9510709\ttotal: 15.9s\tremaining: 18.6s\n",
      "83:\tlearn: 1197.6657318\ttotal: 16.1s\tremaining: 18.4s\n",
      "84:\tlearn: 1196.6366042\ttotal: 16.3s\tremaining: 18.3s\n",
      "85:\tlearn: 1195.0425999\ttotal: 16.4s\tremaining: 18s\n",
      "86:\tlearn: 1194.1064243\ttotal: 16.6s\tremaining: 17.8s\n",
      "87:\tlearn: 1193.0759282\ttotal: 16.8s\tremaining: 17.6s\n",
      "88:\tlearn: 1191.3706143\ttotal: 17s\tremaining: 17.4s\n",
      "89:\tlearn: 1190.8085392\ttotal: 17.2s\tremaining: 17.2s\n",
      "90:\tlearn: 1188.4434555\ttotal: 17.4s\tremaining: 17.1s\n",
      "91:\tlearn: 1186.7355577\ttotal: 17.6s\tremaining: 16.9s\n",
      "92:\tlearn: 1185.4883369\ttotal: 17.8s\tremaining: 16.7s\n",
      "93:\tlearn: 1183.8852916\ttotal: 18s\tremaining: 16.5s\n",
      "94:\tlearn: 1182.0269643\ttotal: 18.2s\tremaining: 16.3s\n",
      "95:\tlearn: 1180.9386676\ttotal: 18.3s\tremaining: 16s\n",
      "96:\tlearn: 1179.4481584\ttotal: 18.6s\tremaining: 15.9s\n",
      "97:\tlearn: 1176.6971653\ttotal: 18.8s\tremaining: 15.8s\n",
      "98:\tlearn: 1175.0608770\ttotal: 18.9s\tremaining: 15.5s\n",
      "99:\tlearn: 1173.8577327\ttotal: 19.1s\tremaining: 15.3s\n",
      "100:\tlearn: 1171.5662262\ttotal: 19.3s\tremaining: 15.1s\n",
      "101:\tlearn: 1169.1055381\ttotal: 19.5s\tremaining: 14.9s\n",
      "102:\tlearn: 1167.3926239\ttotal: 19.7s\tremaining: 14.7s\n",
      "103:\tlearn: 1167.0234644\ttotal: 19.9s\tremaining: 14.6s\n",
      "104:\tlearn: 1166.4538553\ttotal: 20.1s\tremaining: 14.4s\n",
      "105:\tlearn: 1165.8062233\ttotal: 20.3s\tremaining: 14.2s\n",
      "106:\tlearn: 1165.1957004\ttotal: 20.5s\tremaining: 14s\n",
      "107:\tlearn: 1164.2103718\ttotal: 20.6s\tremaining: 13.8s\n",
      "108:\tlearn: 1163.0942476\ttotal: 20.8s\tremaining: 13.6s\n",
      "109:\tlearn: 1161.6198615\ttotal: 21s\tremaining: 13.4s\n",
      "110:\tlearn: 1160.1822982\ttotal: 21.2s\tremaining: 13.2s\n",
      "111:\tlearn: 1158.9231512\ttotal: 21.4s\tremaining: 13s\n",
      "112:\tlearn: 1158.4027285\ttotal: 21.6s\tremaining: 12.8s\n",
      "113:\tlearn: 1157.4216402\ttotal: 21.8s\tremaining: 12.6s\n",
      "114:\tlearn: 1156.4851565\ttotal: 22s\tremaining: 12.4s\n",
      "115:\tlearn: 1155.6868617\ttotal: 22.2s\tremaining: 12.3s\n",
      "116:\tlearn: 1155.3268347\ttotal: 22.4s\tremaining: 12.1s\n",
      "117:\tlearn: 1154.5501344\ttotal: 22.6s\tremaining: 11.9s\n",
      "118:\tlearn: 1152.8543162\ttotal: 22.8s\tremaining: 11.7s\n",
      "119:\tlearn: 1152.4898369\ttotal: 23s\tremaining: 11.5s\n",
      "120:\tlearn: 1151.7847103\ttotal: 23.2s\tremaining: 11.3s\n",
      "121:\tlearn: 1150.8754558\ttotal: 23.3s\tremaining: 11.1s\n",
      "122:\tlearn: 1150.2084160\ttotal: 23.6s\tremaining: 10.9s\n",
      "123:\tlearn: 1149.5295341\ttotal: 23.7s\tremaining: 10.7s\n",
      "124:\tlearn: 1148.6791802\ttotal: 23.9s\tremaining: 10.5s\n",
      "125:\tlearn: 1147.4267103\ttotal: 24.1s\tremaining: 10.3s\n",
      "126:\tlearn: 1146.7873670\ttotal: 24.3s\tremaining: 10.1s\n",
      "127:\tlearn: 1146.2954121\ttotal: 24.5s\tremaining: 9.95s\n",
      "128:\tlearn: 1145.8041969\ttotal: 24.7s\tremaining: 9.76s\n",
      "129:\tlearn: 1144.9993100\ttotal: 24.8s\tremaining: 9.54s\n",
      "130:\tlearn: 1144.8788007\ttotal: 25s\tremaining: 9.35s\n",
      "131:\tlearn: 1144.6111456\ttotal: 25.2s\tremaining: 9.16s\n",
      "132:\tlearn: 1143.5186409\ttotal: 25.4s\tremaining: 8.97s\n",
      "133:\tlearn: 1142.4483829\ttotal: 25.5s\tremaining: 8.75s\n",
      "134:\tlearn: 1140.8776291\ttotal: 25.7s\tremaining: 8.57s\n",
      "135:\tlearn: 1140.2988868\ttotal: 25.9s\tremaining: 8.38s\n",
      "136:\tlearn: 1139.7894025\ttotal: 26.1s\tremaining: 8.19s\n",
      "137:\tlearn: 1138.9868149\ttotal: 26.3s\tremaining: 8s\n",
      "138:\tlearn: 1137.3821376\ttotal: 26.5s\tremaining: 7.82s\n",
      "139:\tlearn: 1136.8167847\ttotal: 26.7s\tremaining: 7.63s\n",
      "140:\tlearn: 1135.7289427\ttotal: 26.9s\tremaining: 7.44s\n",
      "141:\tlearn: 1135.1966139\ttotal: 27.1s\tremaining: 7.25s\n",
      "142:\tlearn: 1134.9558340\ttotal: 27.3s\tremaining: 7.06s\n",
      "143:\tlearn: 1133.8824209\ttotal: 27.5s\tremaining: 6.87s\n",
      "144:\tlearn: 1133.5963705\ttotal: 27.6s\tremaining: 6.66s\n",
      "145:\tlearn: 1133.2087628\ttotal: 27.8s\tremaining: 6.47s\n",
      "146:\tlearn: 1131.2530098\ttotal: 28s\tremaining: 6.28s\n",
      "147:\tlearn: 1130.6714780\ttotal: 28.2s\tremaining: 6.1s\n",
      "148:\tlearn: 1130.4468983\ttotal: 28.4s\tremaining: 5.91s\n",
      "149:\tlearn: 1129.9251956\ttotal: 28.6s\tremaining: 5.72s\n",
      "150:\tlearn: 1129.2748513\ttotal: 28.8s\tremaining: 5.53s\n",
      "151:\tlearn: 1128.8611090\ttotal: 29s\tremaining: 5.34s\n",
      "152:\tlearn: 1128.0082488\ttotal: 29.2s\tremaining: 5.15s\n",
      "153:\tlearn: 1126.8634271\ttotal: 29.4s\tremaining: 4.96s\n",
      "154:\tlearn: 1126.1944842\ttotal: 29.5s\tremaining: 4.76s\n",
      "155:\tlearn: 1125.1514015\ttotal: 29.7s\tremaining: 4.57s\n",
      "156:\tlearn: 1125.0285445\ttotal: 29.9s\tremaining: 4.38s\n",
      "157:\tlearn: 1123.9598474\ttotal: 30.1s\tremaining: 4.19s\n",
      "158:\tlearn: 1122.9916724\ttotal: 30.3s\tremaining: 4s\n",
      "159:\tlearn: 1122.4696925\ttotal: 30.5s\tremaining: 3.81s\n",
      "160:\tlearn: 1120.3750031\ttotal: 30.7s\tremaining: 3.62s\n",
      "161:\tlearn: 1119.7432506\ttotal: 30.9s\tremaining: 3.43s\n",
      "162:\tlearn: 1118.1410322\ttotal: 31.1s\tremaining: 3.24s\n",
      "163:\tlearn: 1116.9236543\ttotal: 31.3s\tremaining: 3.05s\n",
      "164:\tlearn: 1116.1080330\ttotal: 31.5s\tremaining: 2.86s\n",
      "165:\tlearn: 1115.2965901\ttotal: 31.7s\tremaining: 2.67s\n",
      "166:\tlearn: 1115.1192639\ttotal: 31.9s\tremaining: 2.48s\n",
      "167:\tlearn: 1114.4521102\ttotal: 32.1s\tremaining: 2.29s\n",
      "168:\tlearn: 1113.5652023\ttotal: 32.3s\tremaining: 2.1s\n",
      "169:\tlearn: 1113.1600829\ttotal: 32.5s\tremaining: 1.91s\n",
      "170:\tlearn: 1112.1637265\ttotal: 32.7s\tremaining: 1.72s\n",
      "171:\tlearn: 1111.2082404\ttotal: 32.9s\tremaining: 1.53s\n",
      "172:\tlearn: 1110.6773131\ttotal: 33.1s\tremaining: 1.34s\n",
      "173:\tlearn: 1110.3257954\ttotal: 33.3s\tremaining: 1.15s\n",
      "174:\tlearn: 1110.1168783\ttotal: 33.5s\tremaining: 956ms\n",
      "175:\tlearn: 1109.4681772\ttotal: 33.7s\tremaining: 765ms\n",
      "176:\tlearn: 1108.4477115\ttotal: 33.9s\tremaining: 574ms\n",
      "177:\tlearn: 1107.8339999\ttotal: 34.1s\tremaining: 383ms\n",
      "178:\tlearn: 1106.9196111\ttotal: 34.2s\tremaining: 191ms\n",
      "179:\tlearn: 1105.4638625\ttotal: 34.4s\tremaining: 0us\n",
      "0:\tlearn: 2695.8913385\ttotal: 133ms\tremaining: 23.7s\n",
      "1:\tlearn: 2178.8327131\ttotal: 332ms\tremaining: 29.5s\n",
      "2:\tlearn: 1856.3022099\ttotal: 535ms\tremaining: 31.6s\n",
      "3:\tlearn: 1691.3974152\ttotal: 735ms\tremaining: 32.3s\n",
      "4:\tlearn: 1596.9301678\ttotal: 941ms\tremaining: 32.9s\n",
      "5:\tlearn: 1532.8218750\ttotal: 1.14s\tremaining: 33s\n",
      "6:\tlearn: 1480.5982298\ttotal: 1.34s\tremaining: 33.1s\n",
      "7:\tlearn: 1457.4881077\ttotal: 1.54s\tremaining: 33.1s\n",
      "8:\tlearn: 1438.7210433\ttotal: 1.74s\tremaining: 33s\n",
      "9:\tlearn: 1427.5894250\ttotal: 1.93s\tremaining: 32.9s\n",
      "10:\tlearn: 1412.4175026\ttotal: 2.13s\tremaining: 32.7s\n",
      "11:\tlearn: 1404.9411413\ttotal: 2.33s\tremaining: 32.6s\n",
      "12:\tlearn: 1397.2612269\ttotal: 2.52s\tremaining: 32.4s\n",
      "13:\tlearn: 1390.1300744\ttotal: 2.72s\tremaining: 32.3s\n",
      "14:\tlearn: 1383.2290106\ttotal: 2.92s\tremaining: 32.2s\n",
      "15:\tlearn: 1377.5043226\ttotal: 3.12s\tremaining: 32s\n",
      "16:\tlearn: 1369.3583106\ttotal: 3.33s\tremaining: 31.9s\n",
      "17:\tlearn: 1365.8525886\ttotal: 3.53s\tremaining: 31.8s\n",
      "18:\tlearn: 1356.9651302\ttotal: 3.72s\tremaining: 31.6s\n",
      "19:\tlearn: 1353.0029820\ttotal: 3.92s\tremaining: 31.4s\n",
      "20:\tlearn: 1347.9365906\ttotal: 4.13s\tremaining: 31.2s\n",
      "21:\tlearn: 1344.6177412\ttotal: 4.33s\tremaining: 31.1s\n",
      "22:\tlearn: 1340.8841943\ttotal: 4.52s\tremaining: 30.9s\n",
      "23:\tlearn: 1336.8736192\ttotal: 4.72s\tremaining: 30.7s\n",
      "24:\tlearn: 1334.4858848\ttotal: 4.92s\tremaining: 30.5s\n",
      "25:\tlearn: 1332.6450526\ttotal: 5.2s\tremaining: 30.8s\n",
      "26:\tlearn: 1330.6142648\ttotal: 5.32s\tremaining: 30.1s\n",
      "27:\tlearn: 1330.3598108\ttotal: 5.41s\tremaining: 29.4s\n",
      "28:\tlearn: 1327.0170427\ttotal: 5.61s\tremaining: 29.2s\n",
      "29:\tlearn: 1322.1536962\ttotal: 5.81s\tremaining: 29s\n",
      "30:\tlearn: 1319.1570866\ttotal: 6.01s\tremaining: 28.9s\n",
      "31:\tlearn: 1313.9127529\ttotal: 6.21s\tremaining: 28.7s\n",
      "32:\tlearn: 1311.3342356\ttotal: 6.4s\tremaining: 28.5s\n",
      "33:\tlearn: 1308.7380993\ttotal: 6.6s\tremaining: 28.4s\n",
      "34:\tlearn: 1306.6720073\ttotal: 6.8s\tremaining: 28.2s\n",
      "35:\tlearn: 1302.4940735\ttotal: 7s\tremaining: 28s\n",
      "36:\tlearn: 1296.5471118\ttotal: 7.2s\tremaining: 27.8s\n",
      "37:\tlearn: 1293.9851499\ttotal: 7.4s\tremaining: 27.7s\n",
      "38:\tlearn: 1291.5469904\ttotal: 7.6s\tremaining: 27.5s\n",
      "39:\tlearn: 1289.5905272\ttotal: 7.8s\tremaining: 27.3s\n",
      "40:\tlearn: 1288.5019970\ttotal: 8s\tremaining: 27.1s\n",
      "41:\tlearn: 1286.4680156\ttotal: 8.27s\tremaining: 27.2s\n",
      "42:\tlearn: 1284.5867621\ttotal: 8.39s\tremaining: 26.7s\n",
      "43:\tlearn: 1280.5324640\ttotal: 8.59s\tremaining: 26.6s\n",
      "44:\tlearn: 1278.2487844\ttotal: 8.79s\tremaining: 26.4s\n",
      "45:\tlearn: 1276.5385243\ttotal: 8.99s\tremaining: 26.2s\n",
      "46:\tlearn: 1276.1415879\ttotal: 9.19s\tremaining: 26s\n",
      "47:\tlearn: 1274.3600009\ttotal: 9.39s\tremaining: 25.8s\n",
      "48:\tlearn: 1273.7205129\ttotal: 9.58s\tremaining: 25.6s\n",
      "49:\tlearn: 1272.0106805\ttotal: 9.78s\tremaining: 25.4s\n",
      "50:\tlearn: 1269.3862620\ttotal: 9.98s\tremaining: 25.3s\n",
      "51:\tlearn: 1269.2984539\ttotal: 10.2s\tremaining: 25.1s\n",
      "52:\tlearn: 1267.7203441\ttotal: 10.4s\tremaining: 24.9s\n",
      "53:\tlearn: 1265.1846000\ttotal: 10.6s\tremaining: 24.7s\n",
      "54:\tlearn: 1262.5425639\ttotal: 10.8s\tremaining: 24.5s\n",
      "55:\tlearn: 1259.9971748\ttotal: 11s\tremaining: 24.3s\n",
      "56:\tlearn: 1258.9447847\ttotal: 11.2s\tremaining: 24.1s\n",
      "57:\tlearn: 1257.2437391\ttotal: 11.4s\tremaining: 23.9s\n",
      "58:\tlearn: 1253.6596068\ttotal: 11.6s\tremaining: 23.7s\n",
      "59:\tlearn: 1252.5557542\ttotal: 11.8s\tremaining: 23.5s\n",
      "60:\tlearn: 1251.3190422\ttotal: 12s\tremaining: 23.3s\n",
      "61:\tlearn: 1248.8405493\ttotal: 12.2s\tremaining: 23.2s\n",
      "62:\tlearn: 1247.9361268\ttotal: 12.3s\tremaining: 22.8s\n",
      "63:\tlearn: 1246.3223151\ttotal: 12.5s\tremaining: 22.6s\n",
      "64:\tlearn: 1244.3802889\ttotal: 12.7s\tremaining: 22.4s\n",
      "65:\tlearn: 1242.8941593\ttotal: 12.9s\tremaining: 22.2s\n",
      "66:\tlearn: 1242.2264515\ttotal: 13.1s\tremaining: 22s\n",
      "67:\tlearn: 1240.0684852\ttotal: 13.3s\tremaining: 21.8s\n",
      "68:\tlearn: 1238.3489130\ttotal: 13.5s\tremaining: 21.7s\n",
      "69:\tlearn: 1235.5292926\ttotal: 13.7s\tremaining: 21.5s\n",
      "70:\tlearn: 1233.5422872\ttotal: 13.9s\tremaining: 21.3s\n",
      "71:\tlearn: 1231.5799465\ttotal: 14.1s\tremaining: 21.1s\n",
      "72:\tlearn: 1230.5873043\ttotal: 14.3s\tremaining: 20.9s\n",
      "73:\tlearn: 1228.2510579\ttotal: 14.5s\tremaining: 20.7s\n",
      "74:\tlearn: 1225.2032981\ttotal: 14.7s\tremaining: 20.5s\n",
      "75:\tlearn: 1223.1226348\ttotal: 14.9s\tremaining: 20.3s\n",
      "76:\tlearn: 1219.3504012\ttotal: 15.1s\tremaining: 20.1s\n",
      "77:\tlearn: 1217.3078164\ttotal: 15.3s\tremaining: 20s\n",
      "78:\tlearn: 1213.7273289\ttotal: 15.5s\tremaining: 19.8s\n",
      "79:\tlearn: 1211.6024893\ttotal: 15.7s\tremaining: 19.6s\n",
      "80:\tlearn: 1207.7308945\ttotal: 15.9s\tremaining: 19.4s\n",
      "81:\tlearn: 1206.4489163\ttotal: 16.1s\tremaining: 19.2s\n",
      "82:\tlearn: 1205.1734614\ttotal: 16.3s\tremaining: 19s\n",
      "83:\tlearn: 1204.5407921\ttotal: 16.4s\tremaining: 18.8s\n",
      "84:\tlearn: 1203.2226685\ttotal: 16.6s\tremaining: 18.6s\n",
      "85:\tlearn: 1201.6645246\ttotal: 16.8s\tremaining: 18.4s\n",
      "86:\tlearn: 1200.5894945\ttotal: 17s\tremaining: 18.2s\n",
      "87:\tlearn: 1199.4675452\ttotal: 17.2s\tremaining: 18s\n",
      "88:\tlearn: 1197.8368311\ttotal: 17.4s\tremaining: 17.8s\n",
      "89:\tlearn: 1196.8627176\ttotal: 17.6s\tremaining: 17.6s\n",
      "90:\tlearn: 1195.2047225\ttotal: 17.8s\tremaining: 17.4s\n",
      "91:\tlearn: 1193.6731940\ttotal: 18s\tremaining: 17.3s\n",
      "92:\tlearn: 1192.3973911\ttotal: 18.2s\tremaining: 17.1s\n",
      "93:\tlearn: 1190.8901766\ttotal: 18.4s\tremaining: 16.9s\n",
      "94:\tlearn: 1189.3113577\ttotal: 18.5s\tremaining: 16.6s\n",
      "95:\tlearn: 1188.5141260\ttotal: 18.7s\tremaining: 16.4s\n",
      "96:\tlearn: 1187.4046602\ttotal: 18.9s\tremaining: 16.2s\n",
      "97:\tlearn: 1186.7721108\ttotal: 19.1s\tremaining: 16s\n",
      "98:\tlearn: 1186.0948954\ttotal: 19.3s\tremaining: 15.8s\n",
      "99:\tlearn: 1184.6324960\ttotal: 19.5s\tremaining: 15.6s\n",
      "100:\tlearn: 1184.1388223\ttotal: 19.7s\tremaining: 15.4s\n",
      "101:\tlearn: 1183.0891584\ttotal: 19.9s\tremaining: 15.2s\n",
      "102:\tlearn: 1182.2545778\ttotal: 20.1s\tremaining: 15s\n",
      "103:\tlearn: 1181.3477190\ttotal: 20.3s\tremaining: 14.9s\n",
      "104:\tlearn: 1180.0086705\ttotal: 20.5s\tremaining: 14.7s\n",
      "105:\tlearn: 1178.9716373\ttotal: 20.7s\tremaining: 14.5s\n",
      "106:\tlearn: 1176.7181414\ttotal: 20.9s\tremaining: 14.3s\n",
      "107:\tlearn: 1176.2909882\ttotal: 21.1s\tremaining: 14.1s\n",
      "108:\tlearn: 1174.1119487\ttotal: 21.3s\tremaining: 13.9s\n",
      "109:\tlearn: 1173.7060112\ttotal: 21.5s\tremaining: 13.7s\n",
      "110:\tlearn: 1173.2260725\ttotal: 21.7s\tremaining: 13.5s\n",
      "111:\tlearn: 1172.2961497\ttotal: 21.9s\tremaining: 13.3s\n",
      "112:\tlearn: 1170.4329827\ttotal: 22.1s\tremaining: 13.1s\n",
      "113:\tlearn: 1169.8235390\ttotal: 22.3s\tremaining: 12.9s\n",
      "114:\tlearn: 1167.7730212\ttotal: 22.5s\tremaining: 12.7s\n",
      "115:\tlearn: 1166.9064214\ttotal: 22.7s\tremaining: 12.5s\n",
      "116:\tlearn: 1165.5131878\ttotal: 22.9s\tremaining: 12.3s\n",
      "117:\tlearn: 1165.1670214\ttotal: 23.1s\tremaining: 12.1s\n",
      "118:\tlearn: 1164.7767654\ttotal: 23.3s\tremaining: 11.9s\n",
      "119:\tlearn: 1163.4479109\ttotal: 23.5s\tremaining: 11.8s\n",
      "120:\tlearn: 1162.5872557\ttotal: 23.7s\tremaining: 11.6s\n",
      "121:\tlearn: 1161.9468870\ttotal: 23.9s\tremaining: 11.4s\n",
      "122:\tlearn: 1160.8742298\ttotal: 24s\tremaining: 11.1s\n",
      "123:\tlearn: 1159.6797252\ttotal: 24.2s\tremaining: 10.9s\n",
      "124:\tlearn: 1158.1676753\ttotal: 24.4s\tremaining: 10.7s\n",
      "125:\tlearn: 1157.9217462\ttotal: 24.6s\tremaining: 10.5s\n",
      "126:\tlearn: 1157.4191181\ttotal: 24.8s\tremaining: 10.4s\n",
      "127:\tlearn: 1156.1189167\ttotal: 25s\tremaining: 10.2s\n",
      "128:\tlearn: 1155.9411496\ttotal: 25.2s\tremaining: 9.96s\n",
      "129:\tlearn: 1155.5071608\ttotal: 25.4s\tremaining: 9.77s\n",
      "130:\tlearn: 1154.4107962\ttotal: 25.6s\tremaining: 9.57s\n",
      "131:\tlearn: 1153.2969237\ttotal: 25.8s\tremaining: 9.38s\n",
      "132:\tlearn: 1152.6101923\ttotal: 26s\tremaining: 9.19s\n",
      "133:\tlearn: 1151.0137469\ttotal: 26.2s\tremaining: 8.99s\n",
      "134:\tlearn: 1150.2485985\ttotal: 26.4s\tremaining: 8.8s\n",
      "135:\tlearn: 1149.1642476\ttotal: 26.6s\tremaining: 8.6s\n",
      "136:\tlearn: 1148.9265193\ttotal: 26.8s\tremaining: 8.41s\n",
      "137:\tlearn: 1147.7645594\ttotal: 27s\tremaining: 8.21s\n",
      "138:\tlearn: 1146.9300080\ttotal: 27.2s\tremaining: 8.02s\n",
      "139:\tlearn: 1145.9353590\ttotal: 27.4s\tremaining: 7.83s\n",
      "140:\tlearn: 1145.1235380\ttotal: 27.6s\tremaining: 7.63s\n",
      "141:\tlearn: 1144.0800616\ttotal: 27.8s\tremaining: 7.44s\n",
      "142:\tlearn: 1143.1030799\ttotal: 28s\tremaining: 7.24s\n",
      "143:\tlearn: 1142.3721505\ttotal: 28.1s\tremaining: 7.02s\n",
      "144:\tlearn: 1141.2042386\ttotal: 28.3s\tremaining: 6.83s\n",
      "145:\tlearn: 1139.7387226\ttotal: 28.5s\tremaining: 6.63s\n",
      "146:\tlearn: 1138.2776400\ttotal: 28.7s\tremaining: 6.44s\n",
      "147:\tlearn: 1136.7726325\ttotal: 28.9s\tremaining: 6.25s\n",
      "148:\tlearn: 1135.5591610\ttotal: 29.1s\tremaining: 6.05s\n",
      "149:\tlearn: 1134.5740734\ttotal: 29.3s\tremaining: 5.86s\n",
      "150:\tlearn: 1133.8473026\ttotal: 29.5s\tremaining: 5.66s\n",
      "151:\tlearn: 1133.4426453\ttotal: 29.7s\tremaining: 5.47s\n",
      "152:\tlearn: 1132.4231430\ttotal: 29.9s\tremaining: 5.27s\n",
      "153:\tlearn: 1131.7504869\ttotal: 30.1s\tremaining: 5.08s\n",
      "154:\tlearn: 1130.8730174\ttotal: 30.3s\tremaining: 4.88s\n",
      "155:\tlearn: 1130.3377857\ttotal: 30.5s\tremaining: 4.69s\n",
      "156:\tlearn: 1129.6425663\ttotal: 30.6s\tremaining: 4.48s\n",
      "157:\tlearn: 1128.9881459\ttotal: 30.8s\tremaining: 4.29s\n",
      "158:\tlearn: 1128.6082154\ttotal: 31s\tremaining: 4.09s\n",
      "159:\tlearn: 1128.2291060\ttotal: 31.2s\tremaining: 3.9s\n",
      "160:\tlearn: 1127.9102401\ttotal: 31.4s\tremaining: 3.7s\n",
      "161:\tlearn: 1127.3529268\ttotal: 31.5s\tremaining: 3.5s\n",
      "162:\tlearn: 1127.2122699\ttotal: 31.7s\tremaining: 3.3s\n",
      "163:\tlearn: 1126.8732086\ttotal: 31.9s\tremaining: 3.11s\n",
      "164:\tlearn: 1126.2077031\ttotal: 32.1s\tremaining: 2.92s\n",
      "165:\tlearn: 1125.5748952\ttotal: 32.3s\tremaining: 2.72s\n",
      "166:\tlearn: 1124.9123981\ttotal: 32.5s\tremaining: 2.53s\n",
      "167:\tlearn: 1124.5520369\ttotal: 32.7s\tremaining: 2.33s\n",
      "168:\tlearn: 1124.2889077\ttotal: 32.9s\tremaining: 2.14s\n",
      "169:\tlearn: 1123.8864444\ttotal: 33.1s\tremaining: 1.95s\n",
      "170:\tlearn: 1123.4992614\ttotal: 33.3s\tremaining: 1.75s\n",
      "171:\tlearn: 1122.6621681\ttotal: 33.5s\tremaining: 1.56s\n",
      "172:\tlearn: 1122.2684513\ttotal: 33.7s\tremaining: 1.36s\n",
      "173:\tlearn: 1121.8689065\ttotal: 33.9s\tremaining: 1.17s\n",
      "174:\tlearn: 1121.1255789\ttotal: 34.1s\tremaining: 973ms\n",
      "175:\tlearn: 1120.6250354\ttotal: 34.3s\tremaining: 779ms\n",
      "176:\tlearn: 1120.3957615\ttotal: 34.5s\tremaining: 584ms\n",
      "177:\tlearn: 1119.9554701\ttotal: 34.7s\tremaining: 389ms\n",
      "178:\tlearn: 1119.0894525\ttotal: 34.9s\tremaining: 195ms\n",
      "179:\tlearn: 1118.4884339\ttotal: 35.1s\tremaining: 0us\n",
      "0:\tlearn: 3362.3606977\ttotal: 8.89ms\tremaining: 1.24s\n",
      "1:\tlearn: 3154.4727273\ttotal: 17.7ms\tremaining: 1.22s\n",
      "2:\tlearn: 3005.1893968\ttotal: 108ms\tremaining: 4.95s\n",
      "3:\tlearn: 2892.5390277\ttotal: 118ms\tremaining: 4s\n",
      "4:\tlearn: 2778.5564975\ttotal: 209ms\tremaining: 5.64s\n",
      "5:\tlearn: 2695.9976945\ttotal: 216ms\tremaining: 4.82s\n",
      "6:\tlearn: 2614.5826595\ttotal: 308ms\tremaining: 5.84s\n",
      "7:\tlearn: 2542.2430826\ttotal: 405ms\tremaining: 6.68s\n",
      "8:\tlearn: 2477.5738914\ttotal: 416ms\tremaining: 6.05s\n",
      "9:\tlearn: 2420.6480741\ttotal: 521ms\tremaining: 6.78s\n",
      "10:\tlearn: 2373.4753248\ttotal: 603ms\tremaining: 7.07s\n",
      "11:\tlearn: 2334.4900022\ttotal: 611ms\tremaining: 6.52s\n",
      "12:\tlearn: 2292.9648691\ttotal: 701ms\tremaining: 6.85s\n",
      "13:\tlearn: 2259.5160506\ttotal: 710ms\tremaining: 6.39s\n",
      "14:\tlearn: 2225.2263212\ttotal: 801ms\tremaining: 6.67s\n",
      "15:\tlearn: 2196.3214586\ttotal: 809ms\tremaining: 6.27s\n",
      "16:\tlearn: 2168.9804396\ttotal: 898ms\tremaining: 6.5s\n",
      "17:\tlearn: 2147.4198303\ttotal: 921ms\tremaining: 6.24s\n",
      "18:\tlearn: 2126.0411639\ttotal: 999ms\tremaining: 6.36s\n",
      "19:\tlearn: 2105.4601260\ttotal: 1.01s\tremaining: 6.04s\n",
      "20:\tlearn: 2084.6292395\ttotal: 1.1s\tremaining: 6.23s\n",
      "21:\tlearn: 2065.6547693\ttotal: 1.11s\tremaining: 5.95s\n",
      "22:\tlearn: 2046.4642734\ttotal: 1.2s\tremaining: 6.11s\n",
      "23:\tlearn: 2030.4788940\ttotal: 1.21s\tremaining: 5.83s\n",
      "24:\tlearn: 2015.7802153\ttotal: 1.3s\tremaining: 5.97s\n",
      "25:\tlearn: 2001.2942678\ttotal: 1.3s\tremaining: 5.72s\n",
      "26:\tlearn: 1987.6220787\ttotal: 1.39s\tremaining: 5.84s\n",
      "27:\tlearn: 1963.9453900\ttotal: 1.41s\tremaining: 5.62s\n",
      "28:\tlearn: 1945.9792938\ttotal: 1.5s\tremaining: 5.73s\n",
      "29:\tlearn: 1934.0589261\ttotal: 1.59s\tremaining: 5.84s\n",
      "30:\tlearn: 1922.2604238\ttotal: 1.6s\tremaining: 5.63s\n",
      "31:\tlearn: 1911.9534774\ttotal: 1.69s\tremaining: 5.71s\n",
      "32:\tlearn: 1899.7922155\ttotal: 1.7s\tremaining: 5.51s\n",
      "33:\tlearn: 1889.9278117\ttotal: 1.79s\tremaining: 5.59s\n",
      "34:\tlearn: 1880.1558045\ttotal: 1.8s\tremaining: 5.4s\n",
      "35:\tlearn: 1871.2264173\ttotal: 1.89s\tremaining: 5.46s\n",
      "36:\tlearn: 1864.0608984\ttotal: 1.9s\tremaining: 5.28s\n",
      "37:\tlearn: 1857.2788915\ttotal: 1.99s\tremaining: 5.34s\n",
      "38:\tlearn: 1850.2929567\ttotal: 2s\tremaining: 5.17s\n",
      "39:\tlearn: 1842.9338768\ttotal: 2.09s\tremaining: 5.22s\n",
      "40:\tlearn: 1835.1843856\ttotal: 2.1s\tremaining: 5.06s\n",
      "41:\tlearn: 1829.5064211\ttotal: 2.19s\tremaining: 5.1s\n",
      "42:\tlearn: 1824.0935028\ttotal: 2.19s\tremaining: 4.95s\n",
      "43:\tlearn: 1818.4293798\ttotal: 2.29s\tremaining: 4.99s\n",
      "44:\tlearn: 1813.4107352\ttotal: 2.29s\tremaining: 4.84s\n",
      "45:\tlearn: 1809.0857686\ttotal: 2.38s\tremaining: 4.87s\n",
      "46:\tlearn: 1804.5462776\ttotal: 2.39s\tremaining: 4.73s\n",
      "47:\tlearn: 1799.7534493\ttotal: 2.48s\tremaining: 4.76s\n",
      "48:\tlearn: 1795.8449489\ttotal: 2.49s\tremaining: 4.63s\n",
      "49:\tlearn: 1791.9147700\ttotal: 2.58s\tremaining: 4.65s\n",
      "50:\tlearn: 1788.3923542\ttotal: 2.59s\tremaining: 4.52s\n",
      "51:\tlearn: 1784.7577665\ttotal: 2.68s\tremaining: 4.54s\n",
      "52:\tlearn: 1781.4292164\ttotal: 2.77s\tremaining: 4.55s\n",
      "53:\tlearn: 1778.1222764\ttotal: 2.78s\tremaining: 4.43s\n",
      "54:\tlearn: 1775.0041100\ttotal: 2.79s\tremaining: 4.31s\n",
      "55:\tlearn: 1772.2016614\ttotal: 2.88s\tremaining: 4.32s\n",
      "56:\tlearn: 1769.5059757\ttotal: 2.89s\tremaining: 4.2s\n",
      "57:\tlearn: 1766.9559013\ttotal: 2.98s\tremaining: 4.21s\n",
      "58:\tlearn: 1764.5743995\ttotal: 2.98s\tremaining: 4.09s\n",
      "59:\tlearn: 1762.6911259\ttotal: 3.07s\tremaining: 4.1s\n",
      "60:\tlearn: 1760.5619102\ttotal: 3.08s\tremaining: 3.99s\n",
      "61:\tlearn: 1758.6091192\ttotal: 3.17s\tremaining: 3.99s\n",
      "62:\tlearn: 1756.4770645\ttotal: 3.18s\tremaining: 3.89s\n",
      "63:\tlearn: 1754.4563330\ttotal: 3.28s\tremaining: 3.89s\n",
      "64:\tlearn: 1752.6358786\ttotal: 3.37s\tremaining: 3.88s\n",
      "65:\tlearn: 1750.9640241\ttotal: 3.37s\tremaining: 3.78s\n",
      "66:\tlearn: 1749.2513882\ttotal: 3.46s\tremaining: 3.77s\n",
      "67:\tlearn: 1747.7732053\ttotal: 3.47s\tremaining: 3.68s\n",
      "68:\tlearn: 1746.2656466\ttotal: 3.56s\tremaining: 3.67s\n",
      "69:\tlearn: 1744.7983372\ttotal: 3.57s\tremaining: 3.57s\n",
      "70:\tlearn: 1743.3597322\ttotal: 3.66s\tremaining: 3.56s\n",
      "71:\tlearn: 1742.1400854\ttotal: 3.67s\tremaining: 3.47s\n",
      "72:\tlearn: 1740.9277497\ttotal: 3.76s\tremaining: 3.45s\n",
      "73:\tlearn: 1739.7998256\ttotal: 3.77s\tremaining: 3.36s\n",
      "74:\tlearn: 1738.5772239\ttotal: 3.86s\tremaining: 3.35s\n",
      "75:\tlearn: 1737.4094407\ttotal: 3.87s\tremaining: 3.26s\n",
      "76:\tlearn: 1736.3508674\ttotal: 3.96s\tremaining: 3.24s\n",
      "77:\tlearn: 1735.4831055\ttotal: 4.07s\tremaining: 3.23s\n",
      "78:\tlearn: 1734.4000516\ttotal: 4.07s\tremaining: 3.15s\n",
      "79:\tlearn: 1733.4855043\ttotal: 4.16s\tremaining: 3.12s\n",
      "80:\tlearn: 1732.6506116\ttotal: 4.16s\tremaining: 3.03s\n",
      "81:\tlearn: 1731.8307544\ttotal: 4.25s\tremaining: 3.01s\n",
      "82:\tlearn: 1730.9567467\ttotal: 4.26s\tremaining: 2.93s\n",
      "83:\tlearn: 1730.1560934\ttotal: 4.35s\tremaining: 2.9s\n",
      "84:\tlearn: 1729.3404810\ttotal: 4.36s\tremaining: 2.82s\n",
      "85:\tlearn: 1728.6176510\ttotal: 4.45s\tremaining: 2.79s\n",
      "86:\tlearn: 1727.8455991\ttotal: 4.46s\tremaining: 2.72s\n",
      "87:\tlearn: 1727.1598079\ttotal: 4.55s\tremaining: 2.69s\n",
      "88:\tlearn: 1726.4835814\ttotal: 4.57s\tremaining: 2.62s\n",
      "89:\tlearn: 1725.9621141\ttotal: 4.65s\tremaining: 2.58s\n",
      "90:\tlearn: 1725.4560698\ttotal: 4.66s\tremaining: 2.51s\n",
      "91:\tlearn: 1724.9099527\ttotal: 4.75s\tremaining: 2.48s\n",
      "92:\tlearn: 1724.5151010\ttotal: 4.76s\tremaining: 2.4s\n",
      "93:\tlearn: 1723.9479613\ttotal: 4.85s\tremaining: 2.37s\n",
      "94:\tlearn: 1723.5115450\ttotal: 4.86s\tremaining: 2.3s\n",
      "95:\tlearn: 1722.9155010\ttotal: 4.96s\tremaining: 2.27s\n",
      "96:\tlearn: 1721.7304841\ttotal: 5.04s\tremaining: 2.23s\n",
      "97:\tlearn: 1720.9716109\ttotal: 5.05s\tremaining: 2.16s\n",
      "98:\tlearn: 1720.5900444\ttotal: 5.14s\tremaining: 2.13s\n",
      "99:\tlearn: 1720.0588314\ttotal: 5.14s\tremaining: 2.06s\n",
      "100:\tlearn: 1719.7788224\ttotal: 5.24s\tremaining: 2.02s\n",
      "101:\tlearn: 1719.2045781\ttotal: 5.24s\tremaining: 1.95s\n",
      "102:\tlearn: 1718.7430102\ttotal: 5.33s\tremaining: 1.92s\n",
      "103:\tlearn: 1718.2288341\ttotal: 5.34s\tremaining: 1.85s\n",
      "104:\tlearn: 1717.6961957\ttotal: 5.43s\tremaining: 1.81s\n",
      "105:\tlearn: 1717.2602879\ttotal: 5.44s\tremaining: 1.75s\n",
      "106:\tlearn: 1716.8357302\ttotal: 5.53s\tremaining: 1.71s\n",
      "107:\tlearn: 1716.4691322\ttotal: 5.54s\tremaining: 1.64s\n",
      "108:\tlearn: 1716.0532508\ttotal: 5.63s\tremaining: 1.6s\n",
      "109:\tlearn: 1715.7340783\ttotal: 5.64s\tremaining: 1.54s\n",
      "110:\tlearn: 1715.4914285\ttotal: 5.73s\tremaining: 1.5s\n",
      "111:\tlearn: 1715.1632951\ttotal: 5.74s\tremaining: 1.43s\n",
      "112:\tlearn: 1714.9839402\ttotal: 5.83s\tremaining: 1.39s\n",
      "113:\tlearn: 1714.6440463\ttotal: 5.83s\tremaining: 1.33s\n",
      "114:\tlearn: 1714.2949991\ttotal: 5.93s\tremaining: 1.29s\n",
      "115:\tlearn: 1713.9446817\ttotal: 5.93s\tremaining: 1.23s\n",
      "116:\tlearn: 1713.6208675\ttotal: 6.03s\tremaining: 1.18s\n",
      "117:\tlearn: 1713.2947786\ttotal: 6.03s\tremaining: 1.12s\n",
      "118:\tlearn: 1712.9698622\ttotal: 6.12s\tremaining: 1.08s\n",
      "119:\tlearn: 1712.6484655\ttotal: 6.13s\tremaining: 1.02s\n",
      "120:\tlearn: 1712.3055880\ttotal: 6.22s\tremaining: 977ms\n",
      "121:\tlearn: 1711.9854230\ttotal: 6.23s\tremaining: 919ms\n",
      "122:\tlearn: 1711.7036864\ttotal: 6.32s\tremaining: 873ms\n",
      "123:\tlearn: 1711.3763774\ttotal: 6.33s\tremaining: 816ms\n",
      "124:\tlearn: 1711.2313632\ttotal: 6.42s\tremaining: 770ms\n",
      "125:\tlearn: 1711.0457513\ttotal: 6.43s\tremaining: 714ms\n",
      "126:\tlearn: 1710.7953862\ttotal: 6.52s\tremaining: 667ms\n",
      "127:\tlearn: 1710.5517485\ttotal: 6.53s\tremaining: 612ms\n",
      "128:\tlearn: 1710.2647734\ttotal: 6.62s\tremaining: 564ms\n",
      "129:\tlearn: 1710.0298132\ttotal: 6.62s\tremaining: 510ms\n",
      "130:\tlearn: 1709.7703793\ttotal: 6.71s\tremaining: 461ms\n",
      "131:\tlearn: 1709.5186818\ttotal: 6.72s\tremaining: 408ms\n",
      "132:\tlearn: 1709.2483399\ttotal: 6.81s\tremaining: 359ms\n",
      "133:\tlearn: 1708.9875248\ttotal: 6.82s\tremaining: 305ms\n",
      "134:\tlearn: 1708.7369257\ttotal: 6.9s\tremaining: 256ms\n",
      "135:\tlearn: 1708.5012343\ttotal: 6.91s\tremaining: 203ms\n",
      "136:\tlearn: 1708.2558752\ttotal: 7s\tremaining: 153ms\n",
      "137:\tlearn: 1708.0140220\ttotal: 7.01s\tremaining: 102ms\n",
      "138:\tlearn: 1707.7626617\ttotal: 7.1s\tremaining: 51.1ms\n",
      "139:\tlearn: 1707.5202658\ttotal: 7.11s\tremaining: 0us\n",
      "0:\tlearn: 3388.9864487\ttotal: 9.74ms\tremaining: 1.35s\n",
      "1:\tlearn: 3182.6208496\ttotal: 51.4ms\tremaining: 3.55s\n",
      "2:\tlearn: 3034.2774752\ttotal: 62ms\tremaining: 2.83s\n",
      "3:\tlearn: 2918.8472010\ttotal: 153ms\tremaining: 5.19s\n",
      "4:\tlearn: 2801.2876813\ttotal: 160ms\tremaining: 4.33s\n",
      "5:\tlearn: 2721.5423711\ttotal: 250ms\tremaining: 5.59s\n",
      "6:\tlearn: 2637.0108509\ttotal: 256ms\tremaining: 4.86s\n",
      "7:\tlearn: 2566.7202275\ttotal: 348ms\tremaining: 5.74s\n",
      "8:\tlearn: 2499.6544524\ttotal: 355ms\tremaining: 5.16s\n",
      "9:\tlearn: 2444.2332775\ttotal: 446ms\tremaining: 5.8s\n",
      "10:\tlearn: 2395.3809282\ttotal: 452ms\tremaining: 5.3s\n",
      "11:\tlearn: 2355.5493379\ttotal: 545ms\tremaining: 5.81s\n",
      "12:\tlearn: 2318.7204605\ttotal: 550ms\tremaining: 5.38s\n",
      "13:\tlearn: 2284.6337148\ttotal: 644ms\tremaining: 5.79s\n",
      "14:\tlearn: 2248.3672849\ttotal: 650ms\tremaining: 5.42s\n",
      "15:\tlearn: 2217.4088387\ttotal: 742ms\tremaining: 5.75s\n",
      "16:\tlearn: 2190.5706025\ttotal: 747ms\tremaining: 5.41s\n",
      "17:\tlearn: 2165.4303848\ttotal: 841ms\tremaining: 5.7s\n",
      "18:\tlearn: 2142.4868975\ttotal: 846ms\tremaining: 5.39s\n",
      "19:\tlearn: 2121.6778476\ttotal: 939ms\tremaining: 5.64s\n",
      "20:\tlearn: 2101.4443931\ttotal: 946ms\tremaining: 5.36s\n",
      "21:\tlearn: 2081.8826061\ttotal: 1.04s\tremaining: 5.57s\n",
      "22:\tlearn: 2062.9254290\ttotal: 1.04s\tremaining: 5.31s\n",
      "23:\tlearn: 2043.5635815\ttotal: 1.14s\tremaining: 5.5s\n",
      "24:\tlearn: 2027.8777134\ttotal: 1.15s\tremaining: 5.27s\n",
      "25:\tlearn: 2013.3085857\ttotal: 1.24s\tremaining: 5.42s\n",
      "26:\tlearn: 2000.6640485\ttotal: 1.24s\tremaining: 5.2s\n",
      "27:\tlearn: 1990.8556362\ttotal: 1.33s\tremaining: 5.34s\n",
      "28:\tlearn: 1978.2804203\ttotal: 1.34s\tremaining: 5.13s\n",
      "29:\tlearn: 1967.2233083\ttotal: 1.43s\tremaining: 5.26s\n",
      "30:\tlearn: 1955.6562372\ttotal: 1.44s\tremaining: 5.06s\n",
      "31:\tlearn: 1943.1039911\ttotal: 1.53s\tremaining: 5.18s\n",
      "32:\tlearn: 1920.6689325\ttotal: 1.54s\tremaining: 5s\n",
      "33:\tlearn: 1909.5514373\ttotal: 1.63s\tremaining: 5.08s\n",
      "34:\tlearn: 1898.1821003\ttotal: 1.64s\tremaining: 4.92s\n",
      "35:\tlearn: 1889.5482722\ttotal: 1.73s\tremaining: 5s\n",
      "36:\tlearn: 1881.4188926\ttotal: 1.74s\tremaining: 4.83s\n",
      "37:\tlearn: 1873.7672603\ttotal: 1.83s\tremaining: 4.9s\n",
      "38:\tlearn: 1866.3469295\ttotal: 1.83s\tremaining: 4.75s\n",
      "39:\tlearn: 1858.5401069\ttotal: 1.93s\tremaining: 4.81s\n",
      "40:\tlearn: 1851.3256201\ttotal: 1.93s\tremaining: 4.66s\n",
      "41:\tlearn: 1845.0269921\ttotal: 2.02s\tremaining: 4.72s\n",
      "42:\tlearn: 1839.7957444\ttotal: 2.03s\tremaining: 4.57s\n",
      "43:\tlearn: 1836.1533810\ttotal: 2.12s\tremaining: 4.63s\n",
      "44:\tlearn: 1831.2283472\ttotal: 2.13s\tremaining: 4.49s\n",
      "45:\tlearn: 1826.7328881\ttotal: 2.22s\tremaining: 4.54s\n",
      "46:\tlearn: 1821.5023950\ttotal: 2.23s\tremaining: 4.4s\n",
      "47:\tlearn: 1817.4184047\ttotal: 2.23s\tremaining: 4.28s\n",
      "48:\tlearn: 1813.5764092\ttotal: 2.32s\tremaining: 4.31s\n",
      "49:\tlearn: 1809.6026659\ttotal: 2.33s\tremaining: 4.19s\n",
      "50:\tlearn: 1805.3704766\ttotal: 2.42s\tremaining: 4.23s\n",
      "51:\tlearn: 1801.8399081\ttotal: 2.43s\tremaining: 4.12s\n",
      "52:\tlearn: 1798.5589427\ttotal: 2.52s\tremaining: 4.14s\n",
      "53:\tlearn: 1795.7080913\ttotal: 2.53s\tremaining: 4.03s\n",
      "54:\tlearn: 1792.8537411\ttotal: 2.62s\tremaining: 4.05s\n",
      "55:\tlearn: 1791.1409854\ttotal: 2.71s\tremaining: 4.07s\n",
      "56:\tlearn: 1788.4160737\ttotal: 2.72s\tremaining: 3.96s\n",
      "57:\tlearn: 1785.8597687\ttotal: 2.81s\tremaining: 3.98s\n",
      "58:\tlearn: 1783.7869664\ttotal: 2.82s\tremaining: 3.87s\n",
      "59:\tlearn: 1781.5355404\ttotal: 2.91s\tremaining: 3.88s\n",
      "60:\tlearn: 1779.0939142\ttotal: 2.92s\tremaining: 3.78s\n",
      "61:\tlearn: 1777.3981106\ttotal: 2.92s\tremaining: 3.68s\n",
      "62:\tlearn: 1775.3889282\ttotal: 3.02s\tremaining: 3.69s\n",
      "63:\tlearn: 1773.3101994\ttotal: 3.02s\tremaining: 3.59s\n",
      "64:\tlearn: 1771.4167541\ttotal: 3.11s\tremaining: 3.59s\n",
      "65:\tlearn: 1769.7471556\ttotal: 3.12s\tremaining: 3.5s\n",
      "66:\tlearn: 1767.9675529\ttotal: 3.21s\tremaining: 3.5s\n",
      "67:\tlearn: 1766.3703763\ttotal: 3.22s\tremaining: 3.41s\n",
      "68:\tlearn: 1764.9378405\ttotal: 3.31s\tremaining: 3.4s\n",
      "69:\tlearn: 1763.5395245\ttotal: 3.31s\tremaining: 3.31s\n",
      "70:\tlearn: 1762.3297671\ttotal: 3.41s\tremaining: 3.31s\n",
      "71:\tlearn: 1761.0427004\ttotal: 3.41s\tremaining: 3.22s\n",
      "72:\tlearn: 1759.9382795\ttotal: 3.51s\tremaining: 3.22s\n",
      "73:\tlearn: 1758.8297460\ttotal: 3.51s\tremaining: 3.13s\n",
      "74:\tlearn: 1757.6358382\ttotal: 3.6s\tremaining: 3.12s\n",
      "75:\tlearn: 1756.2112180\ttotal: 3.61s\tremaining: 3.04s\n",
      "76:\tlearn: 1755.1618561\ttotal: 3.7s\tremaining: 3.03s\n",
      "77:\tlearn: 1754.2622010\ttotal: 3.71s\tremaining: 2.95s\n",
      "78:\tlearn: 1753.4819496\ttotal: 3.8s\tremaining: 2.94s\n",
      "79:\tlearn: 1752.6208693\ttotal: 3.81s\tremaining: 2.85s\n",
      "80:\tlearn: 1751.7534137\ttotal: 3.9s\tremaining: 2.84s\n",
      "81:\tlearn: 1750.9892285\ttotal: 3.9s\tremaining: 2.76s\n",
      "82:\tlearn: 1750.1153878\ttotal: 4s\tremaining: 2.75s\n",
      "83:\tlearn: 1749.3641829\ttotal: 4s\tremaining: 2.67s\n",
      "84:\tlearn: 1748.5883992\ttotal: 4.1s\tremaining: 2.65s\n",
      "85:\tlearn: 1747.8728929\ttotal: 4.1s\tremaining: 2.58s\n",
      "86:\tlearn: 1747.1715452\ttotal: 4.11s\tremaining: 2.5s\n",
      "87:\tlearn: 1746.5512664\ttotal: 4.2s\tremaining: 2.48s\n",
      "88:\tlearn: 1745.2858701\ttotal: 4.21s\tremaining: 2.41s\n",
      "89:\tlearn: 1744.6109059\ttotal: 4.3s\tremaining: 2.39s\n",
      "90:\tlearn: 1743.9713869\ttotal: 4.3s\tremaining: 2.32s\n",
      "91:\tlearn: 1743.3996967\ttotal: 4.39s\tremaining: 2.29s\n",
      "92:\tlearn: 1742.8731338\ttotal: 4.4s\tremaining: 2.23s\n",
      "93:\tlearn: 1742.3268502\ttotal: 4.5s\tremaining: 2.2s\n",
      "94:\tlearn: 1741.8233888\ttotal: 4.5s\tremaining: 2.13s\n",
      "95:\tlearn: 1741.3221158\ttotal: 4.59s\tremaining: 2.1s\n",
      "96:\tlearn: 1740.8645308\ttotal: 4.6s\tremaining: 2.04s\n",
      "97:\tlearn: 1740.4820066\ttotal: 4.69s\tremaining: 2.01s\n",
      "98:\tlearn: 1740.0628448\ttotal: 4.7s\tremaining: 1.95s\n",
      "99:\tlearn: 1739.7205620\ttotal: 4.79s\tremaining: 1.92s\n",
      "100:\tlearn: 1739.2990904\ttotal: 4.8s\tremaining: 1.85s\n",
      "101:\tlearn: 1738.9117866\ttotal: 4.89s\tremaining: 1.82s\n",
      "102:\tlearn: 1738.4970137\ttotal: 4.9s\tremaining: 1.76s\n",
      "103:\tlearn: 1738.0886979\ttotal: 4.99s\tremaining: 1.73s\n",
      "104:\tlearn: 1737.7576265\ttotal: 4.99s\tremaining: 1.66s\n",
      "105:\tlearn: 1737.4164093\ttotal: 5.09s\tremaining: 1.63s\n",
      "106:\tlearn: 1737.0192300\ttotal: 5.09s\tremaining: 1.57s\n",
      "107:\tlearn: 1736.6898612\ttotal: 5.19s\tremaining: 1.54s\n",
      "108:\tlearn: 1736.4333485\ttotal: 5.2s\tremaining: 1.48s\n",
      "109:\tlearn: 1735.8110078\ttotal: 5.28s\tremaining: 1.44s\n",
      "110:\tlearn: 1735.4296080\ttotal: 5.29s\tremaining: 1.38s\n",
      "111:\tlearn: 1735.0170290\ttotal: 5.39s\tremaining: 1.35s\n",
      "112:\tlearn: 1734.6598666\ttotal: 5.4s\tremaining: 1.29s\n",
      "113:\tlearn: 1734.3066134\ttotal: 5.48s\tremaining: 1.25s\n",
      "114:\tlearn: 1733.9627841\ttotal: 5.49s\tremaining: 1.19s\n",
      "115:\tlearn: 1733.6880012\ttotal: 5.58s\tremaining: 1.15s\n",
      "116:\tlearn: 1733.2755138\ttotal: 5.59s\tremaining: 1.1s\n",
      "117:\tlearn: 1733.1034040\ttotal: 5.68s\tremaining: 1.06s\n",
      "118:\tlearn: 1732.3667602\ttotal: 5.69s\tremaining: 1s\n",
      "119:\tlearn: 1732.1576658\ttotal: 5.78s\tremaining: 963ms\n",
      "120:\tlearn: 1731.8655001\ttotal: 5.78s\tremaining: 908ms\n",
      "121:\tlearn: 1731.5482696\ttotal: 5.87s\tremaining: 867ms\n",
      "122:\tlearn: 1731.3022405\ttotal: 5.88s\tremaining: 813ms\n",
      "123:\tlearn: 1731.0149965\ttotal: 5.97s\tremaining: 771ms\n",
      "124:\tlearn: 1730.8065058\ttotal: 5.98s\tremaining: 718ms\n",
      "125:\tlearn: 1730.5284652\ttotal: 6.07s\tremaining: 675ms\n",
      "126:\tlearn: 1730.2626192\ttotal: 6.08s\tremaining: 622ms\n",
      "127:\tlearn: 1730.1230465\ttotal: 6.17s\tremaining: 579ms\n",
      "128:\tlearn: 1729.8434349\ttotal: 6.18s\tremaining: 527ms\n",
      "129:\tlearn: 1729.6000229\ttotal: 6.18s\tremaining: 476ms\n",
      "130:\tlearn: 1729.4078530\ttotal: 6.27s\tremaining: 431ms\n",
      "131:\tlearn: 1729.2077145\ttotal: 6.28s\tremaining: 380ms\n",
      "132:\tlearn: 1728.9628573\ttotal: 6.37s\tremaining: 335ms\n",
      "133:\tlearn: 1728.6887227\ttotal: 6.38s\tremaining: 286ms\n",
      "134:\tlearn: 1728.4430497\ttotal: 6.47s\tremaining: 239ms\n",
      "135:\tlearn: 1728.2767843\ttotal: 6.47s\tremaining: 190ms\n",
      "136:\tlearn: 1728.0370855\ttotal: 6.56s\tremaining: 144ms\n",
      "137:\tlearn: 1727.7753965\ttotal: 6.57s\tremaining: 95.2ms\n",
      "138:\tlearn: 1727.5355069\ttotal: 6.66s\tremaining: 47.9ms\n",
      "139:\tlearn: 1727.0727801\ttotal: 6.67s\tremaining: 0us\n",
      "0:\tlearn: 3417.5133384\ttotal: 47.5ms\tremaining: 8.5s\n",
      "1:\tlearn: 3210.4163851\ttotal: 240ms\tremaining: 21.4s\n",
      "2:\tlearn: 3037.5596021\ttotal: 339ms\tremaining: 20s\n",
      "3:\tlearn: 2881.7444982\ttotal: 439ms\tremaining: 19.3s\n",
      "4:\tlearn: 2746.0666618\ttotal: 537ms\tremaining: 18.8s\n",
      "5:\tlearn: 2624.4945208\ttotal: 637ms\tremaining: 18.5s\n",
      "6:\tlearn: 2522.7886497\ttotal: 736ms\tremaining: 18.2s\n",
      "7:\tlearn: 2435.9147972\ttotal: 746ms\tremaining: 16s\n",
      "8:\tlearn: 2358.7757107\ttotal: 934ms\tremaining: 17.8s\n",
      "9:\tlearn: 2286.4713329\ttotal: 1.03s\tremaining: 17.6s\n",
      "10:\tlearn: 2215.9338383\ttotal: 1.13s\tremaining: 17.4s\n",
      "11:\tlearn: 2154.5530326\ttotal: 1.23s\tremaining: 17.2s\n",
      "12:\tlearn: 2099.5299389\ttotal: 1.33s\tremaining: 17.1s\n",
      "13:\tlearn: 2049.0121389\ttotal: 1.34s\tremaining: 15.9s\n",
      "14:\tlearn: 2001.8938491\ttotal: 1.44s\tremaining: 15.8s\n",
      "15:\tlearn: 1965.3385306\ttotal: 1.53s\tremaining: 15.7s\n",
      "16:\tlearn: 1930.1531445\ttotal: 1.63s\tremaining: 15.6s\n",
      "17:\tlearn: 1899.4504864\ttotal: 1.73s\tremaining: 15.6s\n",
      "18:\tlearn: 1872.3316599\ttotal: 1.83s\tremaining: 15.5s\n",
      "19:\tlearn: 1846.5192406\ttotal: 1.93s\tremaining: 15.4s\n",
      "20:\tlearn: 1819.3448841\ttotal: 2.03s\tremaining: 15.4s\n",
      "21:\tlearn: 1796.0182938\ttotal: 2.13s\tremaining: 15.3s\n",
      "22:\tlearn: 1776.4613539\ttotal: 2.23s\tremaining: 15.2s\n",
      "23:\tlearn: 1752.7264422\ttotal: 2.32s\tremaining: 15.1s\n",
      "24:\tlearn: 1733.4266388\ttotal: 2.42s\tremaining: 15s\n",
      "25:\tlearn: 1715.4287359\ttotal: 2.52s\tremaining: 14.9s\n",
      "26:\tlearn: 1699.9733335\ttotal: 2.62s\tremaining: 14.9s\n",
      "27:\tlearn: 1685.5980099\ttotal: 2.72s\tremaining: 14.8s\n",
      "28:\tlearn: 1672.6685876\ttotal: 2.82s\tremaining: 14.7s\n",
      "29:\tlearn: 1661.7073374\ttotal: 2.92s\tremaining: 14.6s\n",
      "30:\tlearn: 1651.6221039\ttotal: 2.93s\tremaining: 14.1s\n",
      "31:\tlearn: 1642.2283555\ttotal: 3.03s\tremaining: 14s\n",
      "32:\tlearn: 1633.7875289\ttotal: 3.13s\tremaining: 13.9s\n",
      "33:\tlearn: 1626.2520231\ttotal: 3.22s\tremaining: 13.8s\n",
      "34:\tlearn: 1619.3703038\ttotal: 3.32s\tremaining: 13.8s\n",
      "35:\tlearn: 1612.4329789\ttotal: 3.42s\tremaining: 13.7s\n",
      "36:\tlearn: 1606.7274936\ttotal: 3.52s\tremaining: 13.6s\n",
      "37:\tlearn: 1600.2798686\ttotal: 3.61s\tremaining: 13.5s\n",
      "38:\tlearn: 1594.5976386\ttotal: 3.62s\tremaining: 13.1s\n",
      "39:\tlearn: 1590.5442055\ttotal: 3.72s\tremaining: 13s\n",
      "40:\tlearn: 1586.3086117\ttotal: 3.82s\tremaining: 12.9s\n",
      "41:\tlearn: 1581.7210273\ttotal: 3.92s\tremaining: 12.9s\n",
      "42:\tlearn: 1576.6230024\ttotal: 4.01s\tremaining: 12.8s\n",
      "43:\tlearn: 1572.1507846\ttotal: 4.11s\tremaining: 12.7s\n",
      "44:\tlearn: 1568.1420538\ttotal: 4.21s\tremaining: 12.6s\n",
      "45:\tlearn: 1565.3279141\ttotal: 4.31s\tremaining: 12.5s\n",
      "46:\tlearn: 1560.5620669\ttotal: 4.41s\tremaining: 12.5s\n",
      "47:\tlearn: 1556.2014636\ttotal: 4.51s\tremaining: 12.4s\n",
      "48:\tlearn: 1553.4989401\ttotal: 4.61s\tremaining: 12.3s\n",
      "49:\tlearn: 1550.2590436\ttotal: 4.7s\tremaining: 12.2s\n",
      "50:\tlearn: 1546.6201165\ttotal: 4.8s\tremaining: 12.2s\n",
      "51:\tlearn: 1543.5455769\ttotal: 4.9s\tremaining: 12.1s\n",
      "52:\tlearn: 1541.4620589\ttotal: 5s\tremaining: 12s\n",
      "53:\tlearn: 1538.1857827\ttotal: 5.1s\tremaining: 11.9s\n",
      "54:\tlearn: 1535.2231810\ttotal: 5.2s\tremaining: 11.8s\n",
      "55:\tlearn: 1532.3146839\ttotal: 5.21s\tremaining: 11.5s\n",
      "56:\tlearn: 1529.7628875\ttotal: 5.31s\tremaining: 11.5s\n",
      "57:\tlearn: 1527.3807552\ttotal: 5.41s\tremaining: 11.4s\n",
      "58:\tlearn: 1524.6518587\ttotal: 5.5s\tremaining: 11.3s\n",
      "59:\tlearn: 1522.8777705\ttotal: 5.61s\tremaining: 11.2s\n",
      "60:\tlearn: 1520.8678388\ttotal: 5.7s\tremaining: 11.1s\n",
      "61:\tlearn: 1518.3814880\ttotal: 5.8s\tremaining: 11s\n",
      "62:\tlearn: 1516.5408252\ttotal: 5.9s\tremaining: 11s\n",
      "63:\tlearn: 1514.6537913\ttotal: 6s\tremaining: 10.9s\n",
      "64:\tlearn: 1512.8734466\ttotal: 6.09s\tremaining: 10.8s\n",
      "65:\tlearn: 1510.8310035\ttotal: 6.19s\tremaining: 10.7s\n",
      "66:\tlearn: 1509.5057289\ttotal: 6.29s\tremaining: 10.6s\n",
      "67:\tlearn: 1507.1620093\ttotal: 6.39s\tremaining: 10.5s\n",
      "68:\tlearn: 1505.5114881\ttotal: 6.49s\tremaining: 10.4s\n",
      "69:\tlearn: 1502.9854369\ttotal: 6.5s\tremaining: 10.2s\n",
      "70:\tlearn: 1501.7090546\ttotal: 6.6s\tremaining: 10.1s\n",
      "71:\tlearn: 1499.4533538\ttotal: 6.7s\tremaining: 10s\n",
      "72:\tlearn: 1498.0701357\ttotal: 6.79s\tremaining: 9.96s\n",
      "73:\tlearn: 1497.2189659\ttotal: 6.89s\tremaining: 9.87s\n",
      "74:\tlearn: 1495.6479946\ttotal: 6.99s\tremaining: 9.79s\n",
      "75:\tlearn: 1494.1018605\ttotal: 7.09s\tremaining: 9.7s\n",
      "76:\tlearn: 1492.0385419\ttotal: 7.18s\tremaining: 9.61s\n",
      "77:\tlearn: 1490.6156101\ttotal: 7.29s\tremaining: 9.53s\n",
      "78:\tlearn: 1488.5755179\ttotal: 7.38s\tremaining: 9.44s\n",
      "79:\tlearn: 1487.7899662\ttotal: 7.48s\tremaining: 9.35s\n",
      "80:\tlearn: 1486.1724063\ttotal: 7.58s\tremaining: 9.27s\n",
      "81:\tlearn: 1485.0833001\ttotal: 7.68s\tremaining: 9.18s\n",
      "82:\tlearn: 1483.8670327\ttotal: 7.78s\tremaining: 9.09s\n",
      "83:\tlearn: 1482.4813881\ttotal: 7.88s\tremaining: 9s\n",
      "84:\tlearn: 1481.3882786\ttotal: 7.98s\tremaining: 8.92s\n",
      "85:\tlearn: 1480.6936767\ttotal: 8.08s\tremaining: 8.83s\n",
      "86:\tlearn: 1479.3707235\ttotal: 8.18s\tremaining: 8.74s\n",
      "87:\tlearn: 1477.9325233\ttotal: 8.28s\tremaining: 8.65s\n",
      "88:\tlearn: 1477.2341770\ttotal: 8.29s\tremaining: 8.48s\n",
      "89:\tlearn: 1476.5300504\ttotal: 8.38s\tremaining: 8.38s\n",
      "90:\tlearn: 1475.2170008\ttotal: 8.48s\tremaining: 8.29s\n",
      "91:\tlearn: 1474.2994699\ttotal: 8.58s\tremaining: 8.21s\n",
      "92:\tlearn: 1473.5240136\ttotal: 8.68s\tremaining: 8.12s\n",
      "93:\tlearn: 1472.0535438\ttotal: 8.78s\tremaining: 8.03s\n",
      "94:\tlearn: 1470.9499953\ttotal: 8.87s\tremaining: 7.94s\n",
      "95:\tlearn: 1470.4773068\ttotal: 8.97s\tremaining: 7.85s\n",
      "96:\tlearn: 1469.0006138\ttotal: 9.07s\tremaining: 7.76s\n",
      "97:\tlearn: 1468.3526342\ttotal: 9.17s\tremaining: 7.67s\n",
      "98:\tlearn: 1467.7947083\ttotal: 9.27s\tremaining: 7.58s\n",
      "99:\tlearn: 1466.9323197\ttotal: 9.37s\tremaining: 7.49s\n",
      "100:\tlearn: 1466.1172621\ttotal: 9.38s\tremaining: 7.33s\n",
      "101:\tlearn: 1465.1266449\ttotal: 9.47s\tremaining: 7.25s\n",
      "102:\tlearn: 1463.6541597\ttotal: 9.57s\tremaining: 7.16s\n",
      "103:\tlearn: 1462.8419629\ttotal: 9.67s\tremaining: 7.07s\n",
      "104:\tlearn: 1461.9465243\ttotal: 9.77s\tremaining: 6.98s\n",
      "105:\tlearn: 1460.9440875\ttotal: 9.87s\tremaining: 6.89s\n",
      "106:\tlearn: 1459.5683158\ttotal: 9.97s\tremaining: 6.8s\n",
      "107:\tlearn: 1456.6345052\ttotal: 10.1s\tremaining: 6.71s\n",
      "108:\tlearn: 1455.7775577\ttotal: 10.2s\tremaining: 6.62s\n",
      "109:\tlearn: 1452.9605052\ttotal: 10.3s\tremaining: 6.53s\n",
      "110:\tlearn: 1451.9993969\ttotal: 10.4s\tremaining: 6.44s\n",
      "111:\tlearn: 1450.8972846\ttotal: 10.5s\tremaining: 6.35s\n",
      "112:\tlearn: 1449.9555651\ttotal: 10.6s\tremaining: 6.26s\n",
      "113:\tlearn: 1449.2115646\ttotal: 10.6s\tremaining: 6.12s\n",
      "114:\tlearn: 1448.7830292\ttotal: 10.7s\tremaining: 6.03s\n",
      "115:\tlearn: 1447.6688292\ttotal: 10.8s\tremaining: 5.93s\n",
      "116:\tlearn: 1446.3859018\ttotal: 10.9s\tremaining: 5.85s\n",
      "117:\tlearn: 1444.8285051\ttotal: 11s\tremaining: 5.76s\n",
      "118:\tlearn: 1444.2259466\ttotal: 11.1s\tremaining: 5.67s\n",
      "119:\tlearn: 1443.0892544\ttotal: 11.2s\tremaining: 5.58s\n",
      "120:\tlearn: 1442.2549282\ttotal: 11.3s\tremaining: 5.49s\n",
      "121:\tlearn: 1441.4389778\ttotal: 11.3s\tremaining: 5.39s\n",
      "122:\tlearn: 1440.0998376\ttotal: 11.4s\tremaining: 5.3s\n",
      "123:\tlearn: 1438.9579843\ttotal: 11.5s\tremaining: 5.21s\n",
      "124:\tlearn: 1438.1954272\ttotal: 11.6s\tremaining: 5.12s\n",
      "125:\tlearn: 1437.3593250\ttotal: 11.7s\tremaining: 5.03s\n",
      "126:\tlearn: 1436.3854300\ttotal: 11.8s\tremaining: 4.94s\n",
      "127:\tlearn: 1435.8015622\ttotal: 11.9s\tremaining: 4.82s\n",
      "128:\tlearn: 1435.1652821\ttotal: 12s\tremaining: 4.72s\n",
      "129:\tlearn: 1434.5026653\ttotal: 12s\tremaining: 4.63s\n",
      "130:\tlearn: 1433.4361326\ttotal: 12.1s\tremaining: 4.54s\n",
      "131:\tlearn: 1432.8615936\ttotal: 12.2s\tremaining: 4.45s\n",
      "132:\tlearn: 1432.0602560\ttotal: 12.3s\tremaining: 4.36s\n",
      "133:\tlearn: 1431.1936962\ttotal: 12.4s\tremaining: 4.27s\n",
      "134:\tlearn: 1430.6625215\ttotal: 12.5s\tremaining: 4.18s\n",
      "135:\tlearn: 1430.1998427\ttotal: 12.6s\tremaining: 4.09s\n",
      "136:\tlearn: 1429.8404561\ttotal: 12.7s\tremaining: 4s\n",
      "137:\tlearn: 1428.8836043\ttotal: 12.8s\tremaining: 3.91s\n",
      "138:\tlearn: 1427.7950914\ttotal: 12.9s\tremaining: 3.79s\n",
      "139:\tlearn: 1427.1174927\ttotal: 12.9s\tremaining: 3.7s\n",
      "140:\tlearn: 1426.5244201\ttotal: 13s\tremaining: 3.61s\n",
      "141:\tlearn: 1425.7907265\ttotal: 13.1s\tremaining: 3.52s\n",
      "142:\tlearn: 1425.3885449\ttotal: 13.2s\tremaining: 3.42s\n",
      "143:\tlearn: 1424.4893092\ttotal: 13.3s\tremaining: 3.33s\n",
      "144:\tlearn: 1423.8441339\ttotal: 13.4s\tremaining: 3.24s\n",
      "145:\tlearn: 1423.5454899\ttotal: 13.5s\tremaining: 3.15s\n",
      "146:\tlearn: 1423.1950220\ttotal: 13.6s\tremaining: 3.06s\n",
      "147:\tlearn: 1422.7168087\ttotal: 13.7s\tremaining: 2.97s\n",
      "148:\tlearn: 1421.8643080\ttotal: 13.8s\tremaining: 2.88s\n",
      "149:\tlearn: 1420.9934166\ttotal: 13.9s\tremaining: 2.79s\n",
      "150:\tlearn: 1420.1693319\ttotal: 14s\tremaining: 2.69s\n",
      "151:\tlearn: 1419.7837169\ttotal: 14.1s\tremaining: 2.6s\n",
      "152:\tlearn: 1419.1795404\ttotal: 14.2s\tremaining: 2.51s\n",
      "153:\tlearn: 1418.7698186\ttotal: 14.2s\tremaining: 2.4s\n",
      "154:\tlearn: 1418.0010631\ttotal: 14.3s\tremaining: 2.31s\n",
      "155:\tlearn: 1417.4988494\ttotal: 14.4s\tremaining: 2.22s\n",
      "156:\tlearn: 1416.8530428\ttotal: 14.5s\tremaining: 2.13s\n",
      "157:\tlearn: 1416.3259098\ttotal: 14.6s\tremaining: 2.04s\n",
      "158:\tlearn: 1415.9562930\ttotal: 14.7s\tremaining: 1.94s\n",
      "159:\tlearn: 1415.6067220\ttotal: 14.8s\tremaining: 1.85s\n",
      "160:\tlearn: 1414.8578840\ttotal: 14.9s\tremaining: 1.76s\n",
      "161:\tlearn: 1414.1226783\ttotal: 15s\tremaining: 1.67s\n",
      "162:\tlearn: 1413.5076115\ttotal: 15.1s\tremaining: 1.58s\n",
      "163:\tlearn: 1412.9390421\ttotal: 15.2s\tremaining: 1.48s\n",
      "164:\tlearn: 1412.6042000\ttotal: 15.3s\tremaining: 1.39s\n",
      "165:\tlearn: 1411.9168618\ttotal: 15.4s\tremaining: 1.3s\n",
      "166:\tlearn: 1410.9012349\ttotal: 15.4s\tremaining: 1.2s\n",
      "167:\tlearn: 1410.7608087\ttotal: 15.5s\tremaining: 1.11s\n",
      "168:\tlearn: 1410.2471290\ttotal: 15.6s\tremaining: 1.02s\n",
      "169:\tlearn: 1410.1153180\ttotal: 15.7s\tremaining: 925ms\n",
      "170:\tlearn: 1409.6374812\ttotal: 15.8s\tremaining: 832ms\n",
      "171:\tlearn: 1408.9930675\ttotal: 15.9s\tremaining: 740ms\n",
      "172:\tlearn: 1408.3367823\ttotal: 16s\tremaining: 648ms\n",
      "173:\tlearn: 1407.7667434\ttotal: 16.1s\tremaining: 556ms\n",
      "174:\tlearn: 1407.0740666\ttotal: 16.2s\tremaining: 463ms\n",
      "175:\tlearn: 1406.5659994\ttotal: 16.3s\tremaining: 371ms\n",
      "176:\tlearn: 1405.9676641\ttotal: 16.4s\tremaining: 278ms\n",
      "177:\tlearn: 1405.6377618\ttotal: 16.5s\tremaining: 185ms\n",
      "178:\tlearn: 1404.8555994\ttotal: 16.6s\tremaining: 92.8ms\n",
      "179:\tlearn: 1404.2657727\ttotal: 16.7s\tremaining: 0us\n",
      "0:\tlearn: 3448.7585623\ttotal: 98ms\tremaining: 17.5s\n",
      "1:\tlearn: 3248.3843004\ttotal: 199ms\tremaining: 17.7s\n",
      "2:\tlearn: 3074.1867400\ttotal: 301ms\tremaining: 17.8s\n",
      "3:\tlearn: 2910.1807225\ttotal: 399ms\tremaining: 17.5s\n",
      "4:\tlearn: 2773.1156152\ttotal: 498ms\tremaining: 17.4s\n",
      "5:\tlearn: 2654.4517963\ttotal: 598ms\tremaining: 17.3s\n",
      "6:\tlearn: 2551.6957475\ttotal: 696ms\tremaining: 17.2s\n",
      "7:\tlearn: 2453.8939619\ttotal: 797ms\tremaining: 17.1s\n",
      "8:\tlearn: 2371.6719931\ttotal: 897ms\tremaining: 17s\n",
      "9:\tlearn: 2286.5872337\ttotal: 995ms\tremaining: 16.9s\n",
      "10:\tlearn: 2216.5312642\ttotal: 1.09s\tremaining: 16.8s\n",
      "11:\tlearn: 2155.6938209\ttotal: 1.2s\tremaining: 16.8s\n",
      "12:\tlearn: 2103.6456206\ttotal: 1.29s\tremaining: 16.6s\n",
      "13:\tlearn: 2054.2267799\ttotal: 1.39s\tremaining: 16.5s\n",
      "14:\tlearn: 2012.6459461\ttotal: 1.49s\tremaining: 16.4s\n",
      "15:\tlearn: 1971.3438511\ttotal: 1.59s\tremaining: 16.3s\n",
      "16:\tlearn: 1937.8569164\ttotal: 1.69s\tremaining: 16.2s\n",
      "17:\tlearn: 1905.3889633\ttotal: 1.78s\tremaining: 16.1s\n",
      "18:\tlearn: 1878.1842231\ttotal: 1.79s\tremaining: 15.2s\n",
      "19:\tlearn: 1851.9993540\ttotal: 1.89s\tremaining: 15.1s\n",
      "20:\tlearn: 1823.5125357\ttotal: 1.99s\tremaining: 15.1s\n",
      "21:\tlearn: 1800.5351190\ttotal: 2.09s\tremaining: 15s\n",
      "22:\tlearn: 1778.8815153\ttotal: 2.19s\tremaining: 14.9s\n",
      "23:\tlearn: 1761.9772285\ttotal: 2.29s\tremaining: 14.9s\n",
      "24:\tlearn: 1745.4024570\ttotal: 2.38s\tremaining: 14.8s\n",
      "25:\tlearn: 1727.5582587\ttotal: 2.48s\tremaining: 14.7s\n",
      "26:\tlearn: 1711.1281988\ttotal: 2.58s\tremaining: 14.6s\n",
      "27:\tlearn: 1696.5881908\ttotal: 2.68s\tremaining: 14.5s\n",
      "28:\tlearn: 1682.7781282\ttotal: 2.78s\tremaining: 14.5s\n",
      "29:\tlearn: 1671.3317265\ttotal: 2.88s\tremaining: 14.4s\n",
      "30:\tlearn: 1660.8524317\ttotal: 2.97s\tremaining: 14.3s\n",
      "31:\tlearn: 1652.8017606\ttotal: 2.99s\tremaining: 13.8s\n",
      "32:\tlearn: 1643.8018494\ttotal: 3.09s\tremaining: 13.8s\n",
      "33:\tlearn: 1636.0839341\ttotal: 3.18s\tremaining: 13.7s\n",
      "34:\tlearn: 1627.1566004\ttotal: 3.28s\tremaining: 13.6s\n",
      "35:\tlearn: 1621.0747787\ttotal: 3.38s\tremaining: 13.5s\n",
      "36:\tlearn: 1615.4529755\ttotal: 3.48s\tremaining: 13.4s\n",
      "37:\tlearn: 1609.9853754\ttotal: 3.58s\tremaining: 13.4s\n",
      "38:\tlearn: 1603.6605561\ttotal: 3.67s\tremaining: 13.3s\n",
      "39:\tlearn: 1597.5861094\ttotal: 3.77s\tremaining: 13.2s\n",
      "40:\tlearn: 1592.6527557\ttotal: 3.87s\tremaining: 13.1s\n",
      "41:\tlearn: 1588.6463716\ttotal: 3.97s\tremaining: 13s\n",
      "42:\tlearn: 1584.2026699\ttotal: 4.07s\tremaining: 13s\n",
      "43:\tlearn: 1580.0077024\ttotal: 4.17s\tremaining: 12.9s\n",
      "44:\tlearn: 1576.7210897\ttotal: 4.27s\tremaining: 12.8s\n",
      "45:\tlearn: 1572.8044956\ttotal: 4.36s\tremaining: 12.7s\n",
      "46:\tlearn: 1569.0957274\ttotal: 4.46s\tremaining: 12.6s\n",
      "47:\tlearn: 1565.8663599\ttotal: 4.56s\tremaining: 12.5s\n",
      "48:\tlearn: 1562.1334682\ttotal: 4.57s\tremaining: 12.2s\n",
      "49:\tlearn: 1559.2480308\ttotal: 4.67s\tremaining: 12.1s\n",
      "50:\tlearn: 1556.9307443\ttotal: 4.77s\tremaining: 12.1s\n",
      "51:\tlearn: 1552.2540933\ttotal: 4.87s\tremaining: 12s\n",
      "52:\tlearn: 1548.0501405\ttotal: 4.96s\tremaining: 11.9s\n",
      "53:\tlearn: 1545.2424621\ttotal: 5.06s\tremaining: 11.8s\n",
      "54:\tlearn: 1543.1214776\ttotal: 5.16s\tremaining: 11.7s\n",
      "55:\tlearn: 1540.5940928\ttotal: 5.26s\tremaining: 11.7s\n",
      "56:\tlearn: 1539.1215543\ttotal: 5.36s\tremaining: 11.6s\n",
      "57:\tlearn: 1537.3054775\ttotal: 5.46s\tremaining: 11.5s\n",
      "58:\tlearn: 1535.1570658\ttotal: 5.56s\tremaining: 11.4s\n",
      "59:\tlearn: 1531.4663550\ttotal: 5.66s\tremaining: 11.3s\n",
      "60:\tlearn: 1530.6493330\ttotal: 5.75s\tremaining: 11.2s\n",
      "61:\tlearn: 1529.3810452\ttotal: 5.85s\tremaining: 11.1s\n",
      "62:\tlearn: 1526.8412080\ttotal: 5.95s\tremaining: 11.1s\n",
      "63:\tlearn: 1524.2405873\ttotal: 5.96s\tremaining: 10.8s\n",
      "64:\tlearn: 1520.4255949\ttotal: 6.06s\tremaining: 10.7s\n",
      "65:\tlearn: 1518.5478274\ttotal: 6.16s\tremaining: 10.6s\n",
      "66:\tlearn: 1516.7455489\ttotal: 6.26s\tremaining: 10.6s\n",
      "67:\tlearn: 1514.5372000\ttotal: 6.36s\tremaining: 10.5s\n",
      "68:\tlearn: 1512.7431380\ttotal: 6.46s\tremaining: 10.4s\n",
      "69:\tlearn: 1511.9200039\ttotal: 6.55s\tremaining: 10.3s\n",
      "70:\tlearn: 1510.1559091\ttotal: 6.65s\tremaining: 10.2s\n",
      "71:\tlearn: 1508.1584273\ttotal: 6.75s\tremaining: 10.1s\n",
      "72:\tlearn: 1507.1361858\ttotal: 6.85s\tremaining: 10s\n",
      "73:\tlearn: 1505.3936976\ttotal: 6.95s\tremaining: 9.95s\n",
      "74:\tlearn: 1504.0675153\ttotal: 7.04s\tremaining: 9.86s\n",
      "75:\tlearn: 1503.1831060\ttotal: 7.14s\tremaining: 9.78s\n",
      "76:\tlearn: 1501.6250620\ttotal: 7.24s\tremaining: 9.69s\n",
      "77:\tlearn: 1500.6770981\ttotal: 7.34s\tremaining: 9.6s\n",
      "78:\tlearn: 1498.4144428\ttotal: 7.44s\tremaining: 9.51s\n",
      "79:\tlearn: 1496.5437677\ttotal: 7.54s\tremaining: 9.43s\n",
      "80:\tlearn: 1494.7137598\ttotal: 7.64s\tremaining: 9.34s\n",
      "81:\tlearn: 1493.1115892\ttotal: 7.74s\tremaining: 9.25s\n",
      "82:\tlearn: 1491.3526548\ttotal: 7.84s\tremaining: 9.16s\n",
      "83:\tlearn: 1489.8050320\ttotal: 7.85s\tremaining: 8.97s\n",
      "84:\tlearn: 1488.9992559\ttotal: 7.95s\tremaining: 8.88s\n",
      "85:\tlearn: 1488.1676642\ttotal: 8.04s\tremaining: 8.78s\n",
      "86:\tlearn: 1486.9262855\ttotal: 8.14s\tremaining: 8.7s\n",
      "87:\tlearn: 1486.1183953\ttotal: 8.23s\tremaining: 8.61s\n",
      "88:\tlearn: 1485.7013021\ttotal: 8.33s\tremaining: 8.52s\n",
      "89:\tlearn: 1484.2545261\ttotal: 8.43s\tremaining: 8.43s\n",
      "90:\tlearn: 1483.1778813\ttotal: 8.53s\tremaining: 8.34s\n",
      "91:\tlearn: 1482.3925222\ttotal: 8.63s\tremaining: 8.25s\n",
      "92:\tlearn: 1481.8414274\ttotal: 8.73s\tremaining: 8.16s\n",
      "93:\tlearn: 1480.3634063\ttotal: 8.82s\tremaining: 8.07s\n",
      "94:\tlearn: 1479.3962867\ttotal: 8.92s\tremaining: 7.98s\n",
      "95:\tlearn: 1479.0655087\ttotal: 9.02s\tremaining: 7.89s\n",
      "96:\tlearn: 1478.2012668\ttotal: 9.13s\tremaining: 7.81s\n",
      "97:\tlearn: 1477.7058549\ttotal: 9.22s\tremaining: 7.72s\n",
      "98:\tlearn: 1476.5886550\ttotal: 9.32s\tremaining: 7.63s\n",
      "99:\tlearn: 1476.1099487\ttotal: 9.42s\tremaining: 7.54s\n",
      "100:\tlearn: 1475.2534368\ttotal: 9.52s\tremaining: 7.45s\n",
      "101:\tlearn: 1474.0077274\ttotal: 9.62s\tremaining: 7.36s\n",
      "102:\tlearn: 1473.3852377\ttotal: 9.72s\tremaining: 7.26s\n",
      "103:\tlearn: 1471.9612318\ttotal: 9.82s\tremaining: 7.18s\n",
      "104:\tlearn: 1470.8054053\ttotal: 9.92s\tremaining: 7.08s\n",
      "105:\tlearn: 1469.2213649\ttotal: 10s\tremaining: 6.99s\n",
      "106:\tlearn: 1468.1351181\ttotal: 10.1s\tremaining: 6.9s\n",
      "107:\tlearn: 1467.3604025\ttotal: 10.2s\tremaining: 6.81s\n",
      "108:\tlearn: 1464.0166999\ttotal: 10.3s\tremaining: 6.72s\n",
      "109:\tlearn: 1462.8127302\ttotal: 10.4s\tremaining: 6.63s\n",
      "110:\tlearn: 1462.1095505\ttotal: 10.5s\tremaining: 6.54s\n",
      "111:\tlearn: 1461.4775894\ttotal: 10.6s\tremaining: 6.44s\n",
      "112:\tlearn: 1460.4559627\ttotal: 10.7s\tremaining: 6.35s\n",
      "113:\tlearn: 1460.1655174\ttotal: 10.8s\tremaining: 6.26s\n",
      "114:\tlearn: 1458.7711434\ttotal: 10.9s\tremaining: 6.17s\n",
      "115:\tlearn: 1458.0034096\ttotal: 11s\tremaining: 6.07s\n",
      "116:\tlearn: 1457.2505323\ttotal: 11s\tremaining: 5.93s\n",
      "117:\tlearn: 1456.7496608\ttotal: 11.1s\tremaining: 5.84s\n",
      "118:\tlearn: 1455.4827292\ttotal: 11.2s\tremaining: 5.75s\n",
      "119:\tlearn: 1455.0731176\ttotal: 11.3s\tremaining: 5.66s\n",
      "120:\tlearn: 1454.1653047\ttotal: 11.4s\tremaining: 5.56s\n",
      "121:\tlearn: 1453.8507228\ttotal: 11.5s\tremaining: 5.47s\n",
      "122:\tlearn: 1453.5900413\ttotal: 11.6s\tremaining: 5.38s\n",
      "123:\tlearn: 1453.4006109\ttotal: 11.7s\tremaining: 5.29s\n",
      "124:\tlearn: 1452.7020664\ttotal: 11.8s\tremaining: 5.19s\n",
      "125:\tlearn: 1452.3898068\ttotal: 11.9s\tremaining: 5.1s\n",
      "126:\tlearn: 1452.1373338\ttotal: 12s\tremaining: 5.01s\n",
      "127:\tlearn: 1451.3021420\ttotal: 12.1s\tremaining: 4.92s\n",
      "128:\tlearn: 1450.6420758\ttotal: 12.2s\tremaining: 4.82s\n",
      "129:\tlearn: 1450.0949565\ttotal: 12.3s\tremaining: 4.73s\n",
      "130:\tlearn: 1449.4941492\ttotal: 12.4s\tremaining: 4.64s\n",
      "131:\tlearn: 1449.0059891\ttotal: 12.4s\tremaining: 4.51s\n",
      "132:\tlearn: 1448.4080921\ttotal: 12.5s\tremaining: 4.42s\n",
      "133:\tlearn: 1447.4462736\ttotal: 12.6s\tremaining: 4.33s\n",
      "134:\tlearn: 1446.3283021\ttotal: 12.7s\tremaining: 4.23s\n",
      "135:\tlearn: 1445.6032513\ttotal: 12.8s\tremaining: 4.14s\n",
      "136:\tlearn: 1444.9269608\ttotal: 12.9s\tremaining: 4.05s\n",
      "137:\tlearn: 1444.1147546\ttotal: 13s\tremaining: 3.96s\n",
      "138:\tlearn: 1442.9824951\ttotal: 13.1s\tremaining: 3.86s\n",
      "139:\tlearn: 1442.1181502\ttotal: 13.2s\tremaining: 3.77s\n",
      "140:\tlearn: 1441.2016216\ttotal: 13.3s\tremaining: 3.68s\n",
      "141:\tlearn: 1440.5036270\ttotal: 13.4s\tremaining: 3.58s\n",
      "142:\tlearn: 1439.6236431\ttotal: 13.5s\tremaining: 3.49s\n",
      "143:\tlearn: 1439.3063647\ttotal: 13.6s\tremaining: 3.4s\n",
      "144:\tlearn: 1438.9158497\ttotal: 13.7s\tremaining: 3.3s\n",
      "145:\tlearn: 1438.0791941\ttotal: 13.8s\tremaining: 3.21s\n",
      "146:\tlearn: 1437.3001559\ttotal: 13.8s\tremaining: 3.1s\n",
      "147:\tlearn: 1437.0352012\ttotal: 13.9s\tremaining: 3s\n",
      "148:\tlearn: 1436.0911364\ttotal: 14s\tremaining: 2.91s\n",
      "149:\tlearn: 1435.4518433\ttotal: 14.1s\tremaining: 2.82s\n",
      "150:\tlearn: 1435.1930771\ttotal: 14.2s\tremaining: 2.73s\n",
      "151:\tlearn: 1434.4815506\ttotal: 14.3s\tremaining: 2.63s\n",
      "152:\tlearn: 1433.8875921\ttotal: 14.4s\tremaining: 2.54s\n",
      "153:\tlearn: 1433.2353475\ttotal: 14.5s\tremaining: 2.45s\n",
      "154:\tlearn: 1433.0139817\ttotal: 14.6s\tremaining: 2.35s\n",
      "155:\tlearn: 1432.4846078\ttotal: 14.7s\tremaining: 2.26s\n",
      "156:\tlearn: 1432.2180042\ttotal: 14.8s\tremaining: 2.17s\n",
      "157:\tlearn: 1431.1525341\ttotal: 14.9s\tremaining: 2.07s\n",
      "158:\tlearn: 1430.4047576\ttotal: 15s\tremaining: 1.98s\n",
      "159:\tlearn: 1430.2227118\ttotal: 15.1s\tremaining: 1.89s\n",
      "160:\tlearn: 1429.6139285\ttotal: 15.2s\tremaining: 1.79s\n",
      "161:\tlearn: 1428.9531770\ttotal: 15.3s\tremaining: 1.7s\n",
      "162:\tlearn: 1428.6858416\ttotal: 15.4s\tremaining: 1.6s\n",
      "163:\tlearn: 1428.4063343\ttotal: 15.5s\tremaining: 1.51s\n",
      "164:\tlearn: 1427.8459538\ttotal: 15.6s\tremaining: 1.42s\n",
      "165:\tlearn: 1427.3402505\ttotal: 15.7s\tremaining: 1.32s\n",
      "166:\tlearn: 1426.6472607\ttotal: 15.8s\tremaining: 1.23s\n",
      "167:\tlearn: 1426.4076305\ttotal: 15.9s\tremaining: 1.13s\n",
      "168:\tlearn: 1425.8788879\ttotal: 16s\tremaining: 1.04s\n",
      "169:\tlearn: 1425.4151423\ttotal: 16.1s\tremaining: 947ms\n",
      "170:\tlearn: 1424.8734985\ttotal: 16.2s\tremaining: 851ms\n",
      "171:\tlearn: 1424.3525318\ttotal: 16.3s\tremaining: 757ms\n",
      "172:\tlearn: 1423.8433091\ttotal: 16.4s\tremaining: 662ms\n",
      "173:\tlearn: 1423.6421822\ttotal: 16.5s\tremaining: 568ms\n",
      "174:\tlearn: 1423.5066464\ttotal: 16.6s\tremaining: 473ms\n",
      "175:\tlearn: 1422.2939937\ttotal: 16.7s\tremaining: 379ms\n",
      "176:\tlearn: 1421.3840151\ttotal: 16.8s\tremaining: 284ms\n",
      "177:\tlearn: 1420.7221330\ttotal: 16.9s\tremaining: 189ms\n",
      "178:\tlearn: 1419.6293222\ttotal: 17s\tremaining: 94.7ms\n",
      "179:\tlearn: 1419.3090544\ttotal: 17.1s\tremaining: 0us\n",
      "0:\tlearn: 2669.4926521\ttotal: 310ms\tremaining: 55.5s\n",
      "1:\tlearn: 2158.8944084\ttotal: 613ms\tremaining: 54.6s\n",
      "2:\tlearn: 1838.9569244\ttotal: 1.01s\tremaining: 59.7s\n",
      "3:\tlearn: 1676.4746466\ttotal: 1.31s\tremaining: 57.7s\n",
      "4:\tlearn: 1567.8460458\ttotal: 1.61s\tremaining: 56.5s\n",
      "5:\tlearn: 1513.0173405\ttotal: 1.91s\tremaining: 55.5s\n",
      "6:\tlearn: 1472.6919891\ttotal: 2.21s\tremaining: 54.8s\n",
      "7:\tlearn: 1449.6768449\ttotal: 2.52s\tremaining: 54.1s\n",
      "8:\tlearn: 1431.2411812\ttotal: 2.9s\tremaining: 55.2s\n",
      "9:\tlearn: 1415.8700474\ttotal: 3.2s\tremaining: 54.4s\n",
      "10:\tlearn: 1403.5088324\ttotal: 3.5s\tremaining: 53.8s\n",
      "11:\tlearn: 1395.7561071\ttotal: 3.8s\tremaining: 53.3s\n",
      "12:\tlearn: 1388.8411502\ttotal: 4.11s\tremaining: 52.8s\n",
      "13:\tlearn: 1380.1817874\ttotal: 4.41s\tremaining: 52.2s\n",
      "14:\tlearn: 1373.9953428\ttotal: 4.71s\tremaining: 51.8s\n",
      "15:\tlearn: 1365.7353284\ttotal: 5.01s\tremaining: 51.3s\n",
      "16:\tlearn: 1360.9848905\ttotal: 5.3s\tremaining: 50.8s\n",
      "17:\tlearn: 1355.4710513\ttotal: 5.6s\tremaining: 50.4s\n",
      "18:\tlearn: 1350.2583411\ttotal: 5.9s\tremaining: 50s\n",
      "19:\tlearn: 1347.6015578\ttotal: 6.2s\tremaining: 49.6s\n",
      "20:\tlearn: 1342.4844150\ttotal: 6.5s\tremaining: 49.2s\n",
      "21:\tlearn: 1338.7766573\ttotal: 6.89s\tremaining: 49.5s\n",
      "22:\tlearn: 1333.7332188\ttotal: 7.19s\tremaining: 49.1s\n",
      "23:\tlearn: 1329.1735169\ttotal: 7.49s\tremaining: 48.7s\n",
      "24:\tlearn: 1325.2683714\ttotal: 7.79s\tremaining: 48.3s\n",
      "25:\tlearn: 1323.7930700\ttotal: 8.09s\tremaining: 47.9s\n",
      "26:\tlearn: 1320.3698161\ttotal: 8.39s\tremaining: 47.6s\n",
      "27:\tlearn: 1319.3196054\ttotal: 8.69s\tremaining: 47.2s\n",
      "28:\tlearn: 1317.7736251\ttotal: 8.99s\tremaining: 46.8s\n",
      "29:\tlearn: 1310.7811377\ttotal: 9.29s\tremaining: 46.4s\n",
      "30:\tlearn: 1306.7421750\ttotal: 9.59s\tremaining: 46.1s\n",
      "31:\tlearn: 1303.5137711\ttotal: 9.89s\tremaining: 45.7s\n",
      "32:\tlearn: 1302.7619350\ttotal: 10.2s\tremaining: 45.4s\n",
      "33:\tlearn: 1298.9407496\ttotal: 10.5s\tremaining: 45s\n",
      "34:\tlearn: 1297.2761864\ttotal: 10.8s\tremaining: 44.7s\n",
      "35:\tlearn: 1295.3769377\ttotal: 11.1s\tremaining: 44.3s\n",
      "36:\tlearn: 1293.5991232\ttotal: 11.4s\tremaining: 44s\n",
      "37:\tlearn: 1291.1667779\ttotal: 11.7s\tremaining: 43.7s\n",
      "38:\tlearn: 1290.0402366\ttotal: 12s\tremaining: 43.3s\n",
      "39:\tlearn: 1287.2046989\ttotal: 12.3s\tremaining: 43s\n",
      "40:\tlearn: 1285.6343109\ttotal: 12.6s\tremaining: 42.7s\n",
      "41:\tlearn: 1283.4803274\ttotal: 12.9s\tremaining: 42.4s\n",
      "42:\tlearn: 1280.5568303\ttotal: 13.2s\tremaining: 42s\n",
      "43:\tlearn: 1279.6893163\ttotal: 13.5s\tremaining: 41.7s\n",
      "44:\tlearn: 1278.2540449\ttotal: 13.8s\tremaining: 41.4s\n",
      "45:\tlearn: 1276.1023151\ttotal: 14.1s\tremaining: 41s\n",
      "46:\tlearn: 1274.7543158\ttotal: 14.4s\tremaining: 40.7s\n",
      "47:\tlearn: 1273.0528712\ttotal: 14.6s\tremaining: 40.2s\n",
      "48:\tlearn: 1271.3710371\ttotal: 15s\tremaining: 40.1s\n",
      "49:\tlearn: 1268.1035847\ttotal: 15.3s\tremaining: 39.8s\n",
      "50:\tlearn: 1266.2557022\ttotal: 15.6s\tremaining: 39.4s\n",
      "51:\tlearn: 1264.1507144\ttotal: 15.9s\tremaining: 39.1s\n",
      "52:\tlearn: 1261.8636330\ttotal: 16.2s\tremaining: 38.8s\n",
      "53:\tlearn: 1260.6362744\ttotal: 16.5s\tremaining: 38.5s\n",
      "54:\tlearn: 1259.3368917\ttotal: 16.8s\tremaining: 38.2s\n",
      "55:\tlearn: 1256.4516753\ttotal: 17.2s\tremaining: 38s\n",
      "56:\tlearn: 1253.3011305\ttotal: 17.5s\tremaining: 37.7s\n",
      "57:\tlearn: 1251.5160445\ttotal: 17.7s\tremaining: 37.2s\n",
      "58:\tlearn: 1250.5556154\ttotal: 18.1s\tremaining: 37.1s\n",
      "59:\tlearn: 1249.8668229\ttotal: 18.4s\tremaining: 36.8s\n",
      "60:\tlearn: 1248.7439009\ttotal: 18.7s\tremaining: 36.4s\n",
      "61:\tlearn: 1246.9658438\ttotal: 19s\tremaining: 36.1s\n",
      "62:\tlearn: 1245.5897392\ttotal: 19.3s\tremaining: 35.8s\n",
      "63:\tlearn: 1244.8428955\ttotal: 19.6s\tremaining: 35.5s\n",
      "64:\tlearn: 1242.6268613\ttotal: 19.9s\tremaining: 35.2s\n",
      "65:\tlearn: 1241.2622958\ttotal: 20.2s\tremaining: 34.9s\n",
      "66:\tlearn: 1240.4056952\ttotal: 20.5s\tremaining: 34.5s\n",
      "67:\tlearn: 1238.1447563\ttotal: 20.9s\tremaining: 34.4s\n",
      "68:\tlearn: 1236.9353069\ttotal: 21.1s\tremaining: 33.9s\n",
      "69:\tlearn: 1235.7655091\ttotal: 21.5s\tremaining: 33.7s\n",
      "70:\tlearn: 1234.8356604\ttotal: 21.8s\tremaining: 33.4s\n",
      "71:\tlearn: 1233.3822838\ttotal: 22.1s\tremaining: 33.1s\n",
      "72:\tlearn: 1232.3993285\ttotal: 22.4s\tremaining: 32.8s\n",
      "73:\tlearn: 1230.8874884\ttotal: 22.7s\tremaining: 32.5s\n",
      "74:\tlearn: 1230.3042055\ttotal: 23s\tremaining: 32.1s\n",
      "75:\tlearn: 1229.7401068\ttotal: 23.3s\tremaining: 31.8s\n",
      "76:\tlearn: 1228.7091279\ttotal: 23.6s\tremaining: 31.5s\n",
      "77:\tlearn: 1227.9351297\ttotal: 23.9s\tremaining: 31.2s\n",
      "78:\tlearn: 1227.0209787\ttotal: 24.2s\tremaining: 30.9s\n",
      "79:\tlearn: 1226.5656467\ttotal: 24.5s\tremaining: 30.6s\n",
      "80:\tlearn: 1225.7876669\ttotal: 24.8s\tremaining: 30.3s\n",
      "81:\tlearn: 1225.0929537\ttotal: 25.1s\tremaining: 30s\n",
      "82:\tlearn: 1224.3137334\ttotal: 25.4s\tremaining: 29.6s\n",
      "83:\tlearn: 1222.7029445\ttotal: 25.7s\tremaining: 29.3s\n",
      "84:\tlearn: 1221.8297248\ttotal: 26s\tremaining: 29s\n",
      "85:\tlearn: 1220.3266449\ttotal: 26.3s\tremaining: 28.7s\n",
      "86:\tlearn: 1219.4968993\ttotal: 26.6s\tremaining: 28.4s\n",
      "87:\tlearn: 1218.3649129\ttotal: 26.9s\tremaining: 28.1s\n",
      "88:\tlearn: 1217.2039655\ttotal: 27.3s\tremaining: 27.9s\n",
      "89:\tlearn: 1215.3006788\ttotal: 27.5s\tremaining: 27.5s\n",
      "90:\tlearn: 1214.3069530\ttotal: 27.8s\tremaining: 27.2s\n",
      "91:\tlearn: 1213.8765123\ttotal: 28.2s\tremaining: 26.9s\n",
      "92:\tlearn: 1213.1100314\ttotal: 28.5s\tremaining: 26.7s\n",
      "93:\tlearn: 1212.2324638\ttotal: 28.8s\tremaining: 26.4s\n",
      "94:\tlearn: 1211.0917109\ttotal: 29.1s\tremaining: 26.1s\n",
      "95:\tlearn: 1210.3786094\ttotal: 29.4s\tremaining: 25.8s\n",
      "96:\tlearn: 1209.6173634\ttotal: 29.7s\tremaining: 25.4s\n",
      "97:\tlearn: 1208.5103740\ttotal: 30s\tremaining: 25.1s\n",
      "98:\tlearn: 1208.0424730\ttotal: 30.3s\tremaining: 24.8s\n",
      "99:\tlearn: 1207.2349283\ttotal: 30.6s\tremaining: 24.5s\n",
      "100:\tlearn: 1206.7770758\ttotal: 30.9s\tremaining: 24.2s\n",
      "101:\tlearn: 1206.3094958\ttotal: 31.2s\tremaining: 23.9s\n",
      "102:\tlearn: 1205.3198318\ttotal: 31.6s\tremaining: 23.6s\n",
      "103:\tlearn: 1204.8075008\ttotal: 31.9s\tremaining: 23.3s\n",
      "104:\tlearn: 1204.0671213\ttotal: 32.2s\tremaining: 23s\n",
      "105:\tlearn: 1203.7049411\ttotal: 32.5s\tremaining: 22.7s\n",
      "106:\tlearn: 1202.9478763\ttotal: 32.8s\tremaining: 22.4s\n",
      "107:\tlearn: 1202.3758701\ttotal: 33.1s\tremaining: 22.1s\n",
      "108:\tlearn: 1200.8853813\ttotal: 33.4s\tremaining: 21.8s\n",
      "109:\tlearn: 1200.3742352\ttotal: 33.7s\tremaining: 21.5s\n",
      "110:\tlearn: 1199.7477669\ttotal: 34s\tremaining: 21.1s\n",
      "111:\tlearn: 1198.5159343\ttotal: 34.3s\tremaining: 20.8s\n",
      "112:\tlearn: 1197.4940422\ttotal: 34.6s\tremaining: 20.5s\n",
      "113:\tlearn: 1196.8460532\ttotal: 34.9s\tremaining: 20.2s\n",
      "114:\tlearn: 1196.3993162\ttotal: 35.2s\tremaining: 19.9s\n",
      "115:\tlearn: 1195.9379848\ttotal: 35.5s\tremaining: 19.6s\n",
      "116:\tlearn: 1195.4472742\ttotal: 35.8s\tremaining: 19.3s\n",
      "117:\tlearn: 1194.3008875\ttotal: 36.2s\tremaining: 19s\n",
      "118:\tlearn: 1193.0101931\ttotal: 36.4s\tremaining: 18.7s\n",
      "119:\tlearn: 1192.4935664\ttotal: 36.7s\tremaining: 18.4s\n",
      "120:\tlearn: 1191.4187302\ttotal: 37s\tremaining: 18.1s\n",
      "121:\tlearn: 1190.8782134\ttotal: 37.3s\tremaining: 17.7s\n",
      "122:\tlearn: 1190.1432848\ttotal: 37.6s\tremaining: 17.4s\n",
      "123:\tlearn: 1189.5374392\ttotal: 38s\tremaining: 17.2s\n",
      "124:\tlearn: 1188.8537052\ttotal: 38.3s\tremaining: 16.9s\n",
      "125:\tlearn: 1188.4061698\ttotal: 38.6s\tremaining: 16.5s\n",
      "126:\tlearn: 1187.5142167\ttotal: 38.9s\tremaining: 16.2s\n",
      "127:\tlearn: 1186.8268962\ttotal: 39.2s\tremaining: 15.9s\n",
      "128:\tlearn: 1185.8507650\ttotal: 39.5s\tremaining: 15.6s\n",
      "129:\tlearn: 1185.4555809\ttotal: 39.8s\tremaining: 15.3s\n",
      "130:\tlearn: 1183.6413675\ttotal: 40.1s\tremaining: 15s\n",
      "131:\tlearn: 1182.4775638\ttotal: 40.4s\tremaining: 14.7s\n",
      "132:\tlearn: 1181.8640879\ttotal: 40.7s\tremaining: 14.4s\n",
      "133:\tlearn: 1181.2383043\ttotal: 41.1s\tremaining: 14.1s\n",
      "134:\tlearn: 1180.4491169\ttotal: 41.4s\tremaining: 13.8s\n",
      "135:\tlearn: 1180.3049758\ttotal: 41.7s\tremaining: 13.5s\n",
      "136:\tlearn: 1180.0516709\ttotal: 42s\tremaining: 13.2s\n",
      "137:\tlearn: 1179.6046685\ttotal: 42.3s\tremaining: 12.9s\n",
      "138:\tlearn: 1178.5201853\ttotal: 42.6s\tremaining: 12.6s\n",
      "139:\tlearn: 1178.0209818\ttotal: 42.9s\tremaining: 12.3s\n",
      "140:\tlearn: 1177.5779545\ttotal: 43.2s\tremaining: 11.9s\n",
      "141:\tlearn: 1177.0271407\ttotal: 43.5s\tremaining: 11.6s\n",
      "142:\tlearn: 1176.2459883\ttotal: 43.8s\tremaining: 11.3s\n",
      "143:\tlearn: 1175.7131207\ttotal: 44.1s\tremaining: 11s\n",
      "144:\tlearn: 1175.3604812\ttotal: 44.4s\tremaining: 10.7s\n",
      "145:\tlearn: 1174.7497927\ttotal: 44.7s\tremaining: 10.4s\n",
      "146:\tlearn: 1174.3045391\ttotal: 45s\tremaining: 10.1s\n",
      "147:\tlearn: 1173.8540664\ttotal: 45.3s\tremaining: 9.79s\n",
      "148:\tlearn: 1172.8328057\ttotal: 45.6s\tremaining: 9.48s\n",
      "149:\tlearn: 1172.1689259\ttotal: 45.9s\tremaining: 9.18s\n",
      "150:\tlearn: 1171.8783707\ttotal: 46.2s\tremaining: 8.87s\n",
      "151:\tlearn: 1171.4977862\ttotal: 46.5s\tremaining: 8.56s\n",
      "152:\tlearn: 1171.0768523\ttotal: 46.8s\tremaining: 8.26s\n",
      "153:\tlearn: 1170.4615029\ttotal: 47.1s\tremaining: 7.95s\n",
      "154:\tlearn: 1170.1813740\ttotal: 47.4s\tremaining: 7.64s\n",
      "155:\tlearn: 1169.7734776\ttotal: 47.7s\tremaining: 7.33s\n",
      "156:\tlearn: 1168.3998626\ttotal: 48s\tremaining: 7.03s\n",
      "157:\tlearn: 1167.7485174\ttotal: 48.3s\tremaining: 6.72s\n",
      "158:\tlearn: 1167.3694773\ttotal: 48.6s\tremaining: 6.41s\n",
      "159:\tlearn: 1166.9562729\ttotal: 48.9s\tremaining: 6.11s\n",
      "160:\tlearn: 1166.2043798\ttotal: 49.2s\tremaining: 5.8s\n",
      "161:\tlearn: 1165.5045794\ttotal: 49.5s\tremaining: 5.5s\n",
      "162:\tlearn: 1164.9670502\ttotal: 49.8s\tremaining: 5.19s\n",
      "163:\tlearn: 1164.3240112\ttotal: 50.1s\tremaining: 4.88s\n",
      "164:\tlearn: 1163.8086755\ttotal: 50.4s\tremaining: 4.58s\n",
      "165:\tlearn: 1163.2313292\ttotal: 50.7s\tremaining: 4.27s\n",
      "166:\tlearn: 1162.9477891\ttotal: 51s\tremaining: 3.97s\n",
      "167:\tlearn: 1162.0685435\ttotal: 51.3s\tremaining: 3.66s\n",
      "168:\tlearn: 1161.6355922\ttotal: 51.6s\tremaining: 3.36s\n",
      "169:\tlearn: 1161.1382802\ttotal: 51.9s\tremaining: 3.05s\n",
      "170:\tlearn: 1160.0942362\ttotal: 52.2s\tremaining: 2.75s\n",
      "171:\tlearn: 1159.6318075\ttotal: 52.5s\tremaining: 2.44s\n",
      "172:\tlearn: 1158.8869385\ttotal: 52.8s\tremaining: 2.13s\n",
      "173:\tlearn: 1158.6478684\ttotal: 53.1s\tremaining: 1.83s\n",
      "174:\tlearn: 1157.5029368\ttotal: 53.5s\tremaining: 1.53s\n",
      "175:\tlearn: 1157.3853431\ttotal: 53.8s\tremaining: 1.22s\n",
      "176:\tlearn: 1156.7842171\ttotal: 54.1s\tremaining: 916ms\n",
      "177:\tlearn: 1156.1250679\ttotal: 54.4s\tremaining: 611ms\n",
      "178:\tlearn: 1155.4060217\ttotal: 54.7s\tremaining: 305ms\n",
      "179:\tlearn: 1154.8078963\ttotal: 55s\tremaining: 0us\n"
     ]
    }
   ],
   "source": [
    "result.append(base_fit(model_CatBoostRegressor, 'CatBoostRegressor'))"
   ]
  },
  {
   "cell_type": "markdown",
   "metadata": {},
   "source": [
    "---"
   ]
  },
  {
   "cell_type": "markdown",
   "metadata": {},
   "source": [
    "## Анализ моделей"
   ]
  },
  {
   "cell_type": "code",
   "execution_count": 151,
   "metadata": {},
   "outputs": [
    {
     "data": {
      "text/html": [
       "<div>\n",
       "<style scoped>\n",
       "    .dataframe tbody tr th:only-of-type {\n",
       "        vertical-align: middle;\n",
       "    }\n",
       "\n",
       "    .dataframe tbody tr th {\n",
       "        vertical-align: top;\n",
       "    }\n",
       "\n",
       "    .dataframe thead th {\n",
       "        text-align: right;\n",
       "    }\n",
       "</style>\n",
       "<table border=\"1\" class=\"dataframe\">\n",
       "  <thead>\n",
       "    <tr style=\"text-align: right;\">\n",
       "      <th></th>\n",
       "      <th>Время_обучения</th>\n",
       "      <th>Время_Предсказания</th>\n",
       "      <th>RMSE</th>\n",
       "      <th>R2</th>\n",
       "    </tr>\n",
       "  </thead>\n",
       "  <tbody>\n",
       "    <tr>\n",
       "      <td>LinearRegression</td>\n",
       "      <td>00:02:26</td>\n",
       "      <td>00:00:00</td>\n",
       "      <td>7.503444e+09</td>\n",
       "      <td>-0.000013</td>\n",
       "    </tr>\n",
       "    <tr>\n",
       "      <td>DecisionTreeRegressor</td>\n",
       "      <td>00:02:14</td>\n",
       "      <td>00:00:00</td>\n",
       "      <td>1.455868e+03</td>\n",
       "      <td>0.821577</td>\n",
       "    </tr>\n",
       "    <tr>\n",
       "      <td>RandomForestRegressor</td>\n",
       "      <td>00:14:06</td>\n",
       "      <td>00:00:01</td>\n",
       "      <td>1.281245e+03</td>\n",
       "      <td>0.861654</td>\n",
       "    </tr>\n",
       "    <tr>\n",
       "      <td>LGBMRegressor</td>\n",
       "      <td>00:02:25</td>\n",
       "      <td>00:00:02</td>\n",
       "      <td>1.238230e+03</td>\n",
       "      <td>0.871326</td>\n",
       "    </tr>\n",
       "    <tr>\n",
       "      <td>CatBoostRegressor</td>\n",
       "      <td>00:03:44</td>\n",
       "      <td>00:00:00</td>\n",
       "      <td>1.251071e+03</td>\n",
       "      <td>0.868684</td>\n",
       "    </tr>\n",
       "  </tbody>\n",
       "</table>\n",
       "</div>"
      ],
      "text/plain": [
       "                      Время_обучения Время_Предсказания          RMSE  \\\n",
       "LinearRegression            00:02:26           00:00:00  7.503444e+09   \n",
       "DecisionTreeRegressor       00:02:14           00:00:00  1.455868e+03   \n",
       "RandomForestRegressor       00:14:06           00:00:01  1.281245e+03   \n",
       "LGBMRegressor               00:02:25           00:00:02  1.238230e+03   \n",
       "CatBoostRegressor           00:03:44           00:00:00  1.251071e+03   \n",
       "\n",
       "                             R2  \n",
       "LinearRegression      -0.000013  \n",
       "DecisionTreeRegressor  0.821577  \n",
       "RandomForestRegressor  0.861654  \n",
       "LGBMRegressor          0.871326  \n",
       "CatBoostRegressor      0.868684  "
      ]
     },
     "execution_count": 151,
     "metadata": {},
     "output_type": "execute_result"
    }
   ],
   "source": [
    "pd.DataFrame(data=result,\n",
    "index=['LinearRegression', 'DecisionTreeRegressor', 'RandomForestRegressor', 'LGBMRegressor', 'CatBoostRegressor'],\n",
    "columns=['Время_обучения', 'Время_Предсказания', 'RMSE', 'R2'])"
   ]
  },
  {
   "cell_type": "markdown",
   "metadata": {},
   "source": [
    " По времени обучения и скорости предсказаний лидирует LGBMRegressor. "
   ]
  },
  {
   "cell_type": "markdown",
   "metadata": {},
   "source": [
    "## Вывод"
   ]
  },
  {
   "cell_type": "markdown",
   "metadata": {},
   "source": [
    "Целью нашего проекта было построить модель для определения стоимости автомобиля.\n",
    "\n",
    "- Данные по продаже автомобилей были изучены. Выполнена предобработка данных, убраны выбросы и пустые значения.\n",
    "- Закодировали категориальные признаки. Данные были разделены на обучающею и тестовую выборки. Затем количественные признаки отмасштабировали.\n",
    "- Обучили различные модели с несколькими признаками.\n",
    "- Провели сравнительный анализ качества, скорости и качества предсказаний моделй.\n",
    "- Выявили, что лучшей моделью для решения нашей задачи является LGBMRegressor."
   ]
  }
 ],
 "metadata": {
  "kernelspec": {
   "display_name": "Python 3",
   "language": "python",
   "name": "python3"
  },
  "language_info": {
   "codemirror_mode": {
    "name": "ipython",
    "version": 3
   },
   "file_extension": ".py",
   "mimetype": "text/x-python",
   "name": "python",
   "nbconvert_exporter": "python",
   "pygments_lexer": "ipython3",
   "version": "3.7.8"
  },
  "toc": {
   "base_numbering": 1,
   "nav_menu": {},
   "number_sections": true,
   "sideBar": true,
   "skip_h1_title": true,
   "title_cell": "Table of Contents",
   "title_sidebar": "Contents",
   "toc_cell": false,
   "toc_position": {},
   "toc_section_display": true,
   "toc_window_display": false
  }
 },
 "nbformat": 4,
 "nbformat_minor": 2
}
