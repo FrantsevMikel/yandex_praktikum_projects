{
 "cells": [
  {
   "cell_type": "markdown",
   "metadata": {},
   "source": [
    "# Телеком — задача проекта\n",
    "\n",
    "Оператор связи «Ниединогоразрыва.ком» хочет научиться прогнозировать отток клиентов. Если выяснится, что пользователь планирует уйти, ему будут предложены промокоды и специальные условия. Команда оператора собрала персональные данные о некоторых клиентах, информацию об их тарифах и договорах.\n",
    "\n",
    "# Описание услуг\n",
    "\n",
    "Оператор предоставляет два основных типа услуг: \n",
    "\n",
    "1. Стационарную телефонную связь. Возможно подключение телефонного аппарата к нескольким линиям одновременно.\n",
    "2. Интернет. Подключение может быть двух типов: через телефонную линию (DSL*,* от англ. *digital subscriber line*, «цифровая абонентская линия») или оптоволоконный кабель (*Fiber optic*).  \n",
    "\n",
    "Также доступны такие услуги:\n",
    "\n",
    "- Интернет-безопасность: антивирус (*DeviceProtection*) и блокировка небезопасных сайтов (*OnlineSecurity*);\n",
    "- Выделенная линия технической поддержки (*TechSupport*);\n",
    "- Облачное хранилище файлов для резервного копирования данных (*OnlineBackup*);\n",
    "- Стриминговое телевидение (*StreamingTV*) и каталог фильмов (*StreamingMovies*).\n",
    "\n",
    "За услуги клиенты могут платить каждый месяц или заключить договор на 1–2 года. Доступны различные способы расчёта и возможность получения электронного чека.\n",
    "\n",
    "# Описание данных\n",
    "\n",
    "Данные состоят из файлов, полученных из разных источников:\n",
    "\n",
    "- `contract.csv` — информация о договоре;\n",
    "- `personal.csv` — персональные данные клиента;\n",
    "- `internet.csv` — информация об интернет-услугах;\n",
    "- `phone.csv` — информация об услугах телефонии.\n",
    "\n",
    "Во всех файлах столбец `customerID` содержит код клиента.\n",
    "\n",
    "Информация о договорах актуальна на 1 февраля 2020."
   ]
  },
  {
   "cell_type": "markdown",
   "metadata": {},
   "source": [
    "## Откройте файл с данными и изучите общую информацию. "
   ]
  },
  {
   "cell_type": "code",
   "execution_count": 1,
   "metadata": {},
   "outputs": [],
   "source": [
    "import pandas as pd\n",
    "import numpy as np\n",
    "import seaborn as sns\n",
    "import matplotlib.pyplot as plt\n",
    "from sklearn.model_selection import train_test_split\n",
    "from sklearn.model_selection import GridSearchCV\n",
    "from catboost import CatBoostClassifier\n",
    "from sklearn.utils import shuffle\n",
    "from sklearn.metrics import confusion_matrix,accuracy_score,classification_report,roc_auc_score,f1_score\n",
    "from sklearn.tree import DecisionTreeClassifier\n",
    "from sklearn.ensemble import RandomForestClassifier\n",
    "from xgboost import XGBClassifier"
   ]
  },
  {
   "cell_type": "code",
   "execution_count": 2,
   "metadata": {},
   "outputs": [],
   "source": [
    "# информация о договоре\n",
    "df_contract = pd.read_csv('/datasets/final_provider/contract.csv')\n",
    "\n",
    "# персональные данные клиента;\n",
    "df_personal = pd.read_csv('/datasets/final_provider/personal.csv')\n",
    "\n",
    "# информация об интернет-услугах;\n",
    "df_internet = pd.read_csv('/datasets/final_provider/internet.csv')\n",
    "\n",
    "# информация об услугах телефонии.\n",
    "df_phone = pd.read_csv('/datasets/final_provider/phone.csv')"
   ]
  },
  {
   "cell_type": "code",
   "execution_count": 3,
   "metadata": {},
   "outputs": [],
   "source": [
    "def df_inf(df):\n",
    "    print(df.head(15))\n",
    "    print(\"  \")\n",
    "    print(df.info())\n",
    "    print(\" \")\n",
    "    print('Количество пропущенных значений:',df.isnull().sum().values.sum())\n",
    "    print(\" \")\n",
    "    print(\"Уникалье значения:\")\n",
    "    print(df.nunique())\n",
    "    print(\" \")\n",
    "    print('Количество наблюдений:',df.shape[0], 'Количество признаков', df.shape[1])\n",
    "    print(\" \")\n",
    "    print('Количество дублированных строк:',df.duplicated().sum())"
   ]
  },
  {
   "cell_type": "markdown",
   "metadata": {},
   "source": [
    "### Персональные данные клиента"
   ]
  },
  {
   "cell_type": "code",
   "execution_count": 4,
   "metadata": {},
   "outputs": [
    {
     "name": "stdout",
     "output_type": "stream",
     "text": [
      "    customerID  gender  SeniorCitizen Partner Dependents\n",
      "0   7590-VHVEG  Female              0     Yes         No\n",
      "1   5575-GNVDE    Male              0      No         No\n",
      "2   3668-QPYBK    Male              0      No         No\n",
      "3   7795-CFOCW    Male              0      No         No\n",
      "4   9237-HQITU  Female              0      No         No\n",
      "5   9305-CDSKC  Female              0      No         No\n",
      "6   1452-KIOVK    Male              0      No        Yes\n",
      "7   6713-OKOMC  Female              0      No         No\n",
      "8   7892-POOKP  Female              0     Yes         No\n",
      "9   6388-TABGU    Male              0      No        Yes\n",
      "10  9763-GRSKD    Male              0     Yes        Yes\n",
      "11  7469-LKBCI    Male              0      No         No\n",
      "12  8091-TTVAX    Male              0     Yes         No\n",
      "13  0280-XJGEX    Male              0      No         No\n",
      "14  5129-JLPIS    Male              0      No         No\n",
      "  \n",
      "<class 'pandas.core.frame.DataFrame'>\n",
      "RangeIndex: 7043 entries, 0 to 7042\n",
      "Data columns (total 5 columns):\n",
      "customerID       7043 non-null object\n",
      "gender           7043 non-null object\n",
      "SeniorCitizen    7043 non-null int64\n",
      "Partner          7043 non-null object\n",
      "Dependents       7043 non-null object\n",
      "dtypes: int64(1), object(4)\n",
      "memory usage: 275.2+ KB\n",
      "None\n",
      " \n",
      "Количество пропущенных значений: 0\n",
      " \n",
      "Уникалье значения:\n",
      "customerID       7043\n",
      "gender              2\n",
      "SeniorCitizen       2\n",
      "Partner             2\n",
      "Dependents          2\n",
      "dtype: int64\n",
      " \n",
      "Количество наблюдений: 7043 Количество признаков 5\n",
      " \n",
      "Количество дублированных строк: 0\n"
     ]
    }
   ],
   "source": [
    "df_inf(df_personal)"
   ]
  },
  {
   "cell_type": "markdown",
   "metadata": {},
   "source": [
    "**Вывод по текущему датафрейму:** Датафрейм содержит персональные данные абонента. Абоненты не повторяются. Количество абонентов 7043. \n"
   ]
  },
  {
   "cell_type": "markdown",
   "metadata": {},
   "source": [
    "### Информация о договоре"
   ]
  },
  {
   "cell_type": "code",
   "execution_count": 5,
   "metadata": {},
   "outputs": [
    {
     "name": "stdout",
     "output_type": "stream",
     "text": [
      "    customerID   BeginDate              EndDate            Type  \\\n",
      "0   7590-VHVEG  2020-01-01                   No  Month-to-month   \n",
      "1   5575-GNVDE  2017-04-01                   No        One year   \n",
      "2   3668-QPYBK  2019-10-01  2019-12-01 00:00:00  Month-to-month   \n",
      "3   7795-CFOCW  2016-05-01                   No        One year   \n",
      "4   9237-HQITU  2019-09-01  2019-11-01 00:00:00  Month-to-month   \n",
      "5   9305-CDSKC  2019-03-01  2019-11-01 00:00:00  Month-to-month   \n",
      "6   1452-KIOVK  2018-04-01                   No  Month-to-month   \n",
      "7   6713-OKOMC  2019-04-01                   No  Month-to-month   \n",
      "8   7892-POOKP  2017-07-01  2019-11-01 00:00:00  Month-to-month   \n",
      "9   6388-TABGU  2014-12-01                   No        One year   \n",
      "10  9763-GRSKD  2019-01-01                   No  Month-to-month   \n",
      "11  7469-LKBCI  2018-10-01                   No        Two year   \n",
      "12  8091-TTVAX  2015-04-01                   No        One year   \n",
      "13  0280-XJGEX  2015-09-01  2019-10-01 00:00:00  Month-to-month   \n",
      "14  5129-JLPIS  2018-01-01                   No  Month-to-month   \n",
      "\n",
      "   PaperlessBilling              PaymentMethod  MonthlyCharges TotalCharges  \n",
      "0               Yes           Electronic check           29.85        29.85  \n",
      "1                No               Mailed check           56.95       1889.5  \n",
      "2               Yes               Mailed check           53.85       108.15  \n",
      "3                No  Bank transfer (automatic)           42.30      1840.75  \n",
      "4               Yes           Electronic check           70.70       151.65  \n",
      "5               Yes           Electronic check           99.65        820.5  \n",
      "6               Yes    Credit card (automatic)           89.10       1949.4  \n",
      "7                No               Mailed check           29.75        301.9  \n",
      "8               Yes           Electronic check          104.80      3046.05  \n",
      "9                No  Bank transfer (automatic)           56.15      3487.95  \n",
      "10              Yes               Mailed check           49.95       587.45  \n",
      "11               No    Credit card (automatic)           18.95        326.8  \n",
      "12               No    Credit card (automatic)          100.35       5681.1  \n",
      "13              Yes  Bank transfer (automatic)          103.70       5036.3  \n",
      "14              Yes           Electronic check          105.50      2686.05  \n",
      "  \n",
      "<class 'pandas.core.frame.DataFrame'>\n",
      "RangeIndex: 7043 entries, 0 to 7042\n",
      "Data columns (total 8 columns):\n",
      "customerID          7043 non-null object\n",
      "BeginDate           7043 non-null object\n",
      "EndDate             7043 non-null object\n",
      "Type                7043 non-null object\n",
      "PaperlessBilling    7043 non-null object\n",
      "PaymentMethod       7043 non-null object\n",
      "MonthlyCharges      7043 non-null float64\n",
      "TotalCharges        7043 non-null object\n",
      "dtypes: float64(1), object(7)\n",
      "memory usage: 440.3+ KB\n",
      "None\n",
      " \n",
      "Количество пропущенных значений: 0\n",
      " \n",
      "Уникалье значения:\n",
      "customerID          7043\n",
      "BeginDate             77\n",
      "EndDate                5\n",
      "Type                   3\n",
      "PaperlessBilling       2\n",
      "PaymentMethod          4\n",
      "MonthlyCharges      1585\n",
      "TotalCharges        6531\n",
      "dtype: int64\n",
      " \n",
      "Количество наблюдений: 7043 Количество признаков 8\n",
      " \n",
      "Количество дублированных строк: 0\n"
     ]
    }
   ],
   "source": [
    "df_inf(df_contract)"
   ]
  },
  {
   "cell_type": "code",
   "execution_count": 6,
   "metadata": {},
   "outputs": [
    {
     "data": {
      "text/plain": [
       "Month-to-month    3875\n",
       "Two year          1695\n",
       "One year          1473\n",
       "Name: Type, dtype: int64"
      ]
     },
     "execution_count": 6,
     "metadata": {},
     "output_type": "execute_result"
    }
   ],
   "source": [
    "df_contract.Type.value_counts()"
   ]
  },
  {
   "cell_type": "code",
   "execution_count": 7,
   "metadata": {},
   "outputs": [
    {
     "data": {
      "text/plain": [
       "Yes    4171\n",
       "No     2872\n",
       "Name: PaperlessBilling, dtype: int64"
      ]
     },
     "execution_count": 7,
     "metadata": {},
     "output_type": "execute_result"
    }
   ],
   "source": [
    "df_contract.PaperlessBilling.value_counts()"
   ]
  },
  {
   "cell_type": "code",
   "execution_count": 8,
   "metadata": {},
   "outputs": [
    {
     "data": {
      "text/plain": [
       "Electronic check             2365\n",
       "Mailed check                 1612\n",
       "Bank transfer (automatic)    1544\n",
       "Credit card (automatic)      1522\n",
       "Name: PaymentMethod, dtype: int64"
      ]
     },
     "execution_count": 8,
     "metadata": {},
     "output_type": "execute_result"
    }
   ],
   "source": [
    "df_contract.PaymentMethod.value_counts()"
   ]
  },
  {
   "cell_type": "code",
   "execution_count": 9,
   "metadata": {},
   "outputs": [
    {
     "data": {
      "text/html": [
       "<div>\n",
       "<style scoped>\n",
       "    .dataframe tbody tr th:only-of-type {\n",
       "        vertical-align: middle;\n",
       "    }\n",
       "\n",
       "    .dataframe tbody tr th {\n",
       "        vertical-align: top;\n",
       "    }\n",
       "\n",
       "    .dataframe thead th {\n",
       "        text-align: right;\n",
       "    }\n",
       "</style>\n",
       "<table border=\"1\" class=\"dataframe\">\n",
       "  <thead>\n",
       "    <tr style=\"text-align: right;\">\n",
       "      <th></th>\n",
       "      <th>customerID</th>\n",
       "      <th>BeginDate</th>\n",
       "      <th>EndDate</th>\n",
       "      <th>Type</th>\n",
       "      <th>PaperlessBilling</th>\n",
       "      <th>PaymentMethod</th>\n",
       "      <th>MonthlyCharges</th>\n",
       "      <th>TotalCharges</th>\n",
       "    </tr>\n",
       "  </thead>\n",
       "  <tbody>\n",
       "    <tr>\n",
       "      <td>488</td>\n",
       "      <td>4472-LVYGI</td>\n",
       "      <td>2020-02-01</td>\n",
       "      <td>No</td>\n",
       "      <td>Two year</td>\n",
       "      <td>Yes</td>\n",
       "      <td>Bank transfer (automatic)</td>\n",
       "      <td>52.55</td>\n",
       "      <td></td>\n",
       "    </tr>\n",
       "    <tr>\n",
       "      <td>753</td>\n",
       "      <td>3115-CZMZD</td>\n",
       "      <td>2020-02-01</td>\n",
       "      <td>No</td>\n",
       "      <td>Two year</td>\n",
       "      <td>No</td>\n",
       "      <td>Mailed check</td>\n",
       "      <td>20.25</td>\n",
       "      <td></td>\n",
       "    </tr>\n",
       "    <tr>\n",
       "      <td>936</td>\n",
       "      <td>5709-LVOEQ</td>\n",
       "      <td>2020-02-01</td>\n",
       "      <td>No</td>\n",
       "      <td>Two year</td>\n",
       "      <td>No</td>\n",
       "      <td>Mailed check</td>\n",
       "      <td>80.85</td>\n",
       "      <td></td>\n",
       "    </tr>\n",
       "    <tr>\n",
       "      <td>1082</td>\n",
       "      <td>4367-NUYAO</td>\n",
       "      <td>2020-02-01</td>\n",
       "      <td>No</td>\n",
       "      <td>Two year</td>\n",
       "      <td>No</td>\n",
       "      <td>Mailed check</td>\n",
       "      <td>25.75</td>\n",
       "      <td></td>\n",
       "    </tr>\n",
       "    <tr>\n",
       "      <td>1340</td>\n",
       "      <td>1371-DWPAZ</td>\n",
       "      <td>2020-02-01</td>\n",
       "      <td>No</td>\n",
       "      <td>Two year</td>\n",
       "      <td>No</td>\n",
       "      <td>Credit card (automatic)</td>\n",
       "      <td>56.05</td>\n",
       "      <td></td>\n",
       "    </tr>\n",
       "    <tr>\n",
       "      <td>3331</td>\n",
       "      <td>7644-OMVMY</td>\n",
       "      <td>2020-02-01</td>\n",
       "      <td>No</td>\n",
       "      <td>Two year</td>\n",
       "      <td>No</td>\n",
       "      <td>Mailed check</td>\n",
       "      <td>19.85</td>\n",
       "      <td></td>\n",
       "    </tr>\n",
       "    <tr>\n",
       "      <td>3826</td>\n",
       "      <td>3213-VVOLG</td>\n",
       "      <td>2020-02-01</td>\n",
       "      <td>No</td>\n",
       "      <td>Two year</td>\n",
       "      <td>No</td>\n",
       "      <td>Mailed check</td>\n",
       "      <td>25.35</td>\n",
       "      <td></td>\n",
       "    </tr>\n",
       "    <tr>\n",
       "      <td>4380</td>\n",
       "      <td>2520-SGTTA</td>\n",
       "      <td>2020-02-01</td>\n",
       "      <td>No</td>\n",
       "      <td>Two year</td>\n",
       "      <td>No</td>\n",
       "      <td>Mailed check</td>\n",
       "      <td>20.00</td>\n",
       "      <td></td>\n",
       "    </tr>\n",
       "    <tr>\n",
       "      <td>5218</td>\n",
       "      <td>2923-ARZLG</td>\n",
       "      <td>2020-02-01</td>\n",
       "      <td>No</td>\n",
       "      <td>One year</td>\n",
       "      <td>Yes</td>\n",
       "      <td>Mailed check</td>\n",
       "      <td>19.70</td>\n",
       "      <td></td>\n",
       "    </tr>\n",
       "    <tr>\n",
       "      <td>6670</td>\n",
       "      <td>4075-WKNIU</td>\n",
       "      <td>2020-02-01</td>\n",
       "      <td>No</td>\n",
       "      <td>Two year</td>\n",
       "      <td>No</td>\n",
       "      <td>Mailed check</td>\n",
       "      <td>73.35</td>\n",
       "      <td></td>\n",
       "    </tr>\n",
       "    <tr>\n",
       "      <td>6754</td>\n",
       "      <td>2775-SEFEE</td>\n",
       "      <td>2020-02-01</td>\n",
       "      <td>No</td>\n",
       "      <td>Two year</td>\n",
       "      <td>Yes</td>\n",
       "      <td>Bank transfer (automatic)</td>\n",
       "      <td>61.90</td>\n",
       "      <td></td>\n",
       "    </tr>\n",
       "  </tbody>\n",
       "</table>\n",
       "</div>"
      ],
      "text/plain": [
       "      customerID   BeginDate EndDate      Type PaperlessBilling  \\\n",
       "488   4472-LVYGI  2020-02-01      No  Two year              Yes   \n",
       "753   3115-CZMZD  2020-02-01      No  Two year               No   \n",
       "936   5709-LVOEQ  2020-02-01      No  Two year               No   \n",
       "1082  4367-NUYAO  2020-02-01      No  Two year               No   \n",
       "1340  1371-DWPAZ  2020-02-01      No  Two year               No   \n",
       "3331  7644-OMVMY  2020-02-01      No  Two year               No   \n",
       "3826  3213-VVOLG  2020-02-01      No  Two year               No   \n",
       "4380  2520-SGTTA  2020-02-01      No  Two year               No   \n",
       "5218  2923-ARZLG  2020-02-01      No  One year              Yes   \n",
       "6670  4075-WKNIU  2020-02-01      No  Two year               No   \n",
       "6754  2775-SEFEE  2020-02-01      No  Two year              Yes   \n",
       "\n",
       "                  PaymentMethod  MonthlyCharges TotalCharges  \n",
       "488   Bank transfer (automatic)           52.55               \n",
       "753                Mailed check           20.25               \n",
       "936                Mailed check           80.85               \n",
       "1082               Mailed check           25.75               \n",
       "1340    Credit card (automatic)           56.05               \n",
       "3331               Mailed check           19.85               \n",
       "3826               Mailed check           25.35               \n",
       "4380               Mailed check           20.00               \n",
       "5218               Mailed check           19.70               \n",
       "6670               Mailed check           73.35               \n",
       "6754  Bank transfer (automatic)           61.90               "
      ]
     },
     "execution_count": 9,
     "metadata": {},
     "output_type": "execute_result"
    }
   ],
   "source": [
    "df_contract[df_contract['TotalCharges'] == ' ']"
   ]
  },
  {
   "cell_type": "markdown",
   "metadata": {},
   "source": [
    "**Вывод по текущему датафрейму:** Датафрейм содержит информация о договоре. Абоненты не повторяются. Количество договоров 7043. Один абонент - один договор.\n",
    "\n",
    "Необходимо привести к нужному типу данных следующие столбцы: \n",
    "- BeginDate (date)\n",
    "- EndDate (date). Предварительно:\n",
    "    - на основе данного столбца сформировать целевой признак. Если значение No договор не расторгнут: присвоить значение 0 иначе присвоить значение 1(клиент ушел). \n",
    "    - Далее необходимо будет посчитать период заключения договора в месяцах, значение  No заменить на текущую дату по условию задачи это 1 февраля 2020г.\n",
    "- TotalCharges (float). Предварительно заполнить пробелы нулями т.к. актуальность данных на 1 февраля 2020г. оплата еще не успела пройти."
   ]
  },
  {
   "cell_type": "markdown",
   "metadata": {},
   "source": [
    "### Информация об интернет-услугах"
   ]
  },
  {
   "cell_type": "code",
   "execution_count": 10,
   "metadata": {},
   "outputs": [
    {
     "name": "stdout",
     "output_type": "stream",
     "text": [
      "    customerID InternetService OnlineSecurity OnlineBackup DeviceProtection  \\\n",
      "0   7590-VHVEG             DSL             No          Yes               No   \n",
      "1   5575-GNVDE             DSL            Yes           No              Yes   \n",
      "2   3668-QPYBK             DSL            Yes          Yes               No   \n",
      "3   7795-CFOCW             DSL            Yes           No              Yes   \n",
      "4   9237-HQITU     Fiber optic             No           No               No   \n",
      "5   9305-CDSKC     Fiber optic             No           No              Yes   \n",
      "6   1452-KIOVK     Fiber optic             No          Yes               No   \n",
      "7   6713-OKOMC             DSL            Yes           No               No   \n",
      "8   7892-POOKP     Fiber optic             No           No              Yes   \n",
      "9   6388-TABGU             DSL            Yes          Yes               No   \n",
      "10  9763-GRSKD             DSL            Yes           No               No   \n",
      "11  8091-TTVAX     Fiber optic             No           No              Yes   \n",
      "12  0280-XJGEX     Fiber optic             No          Yes              Yes   \n",
      "13  5129-JLPIS     Fiber optic            Yes           No              Yes   \n",
      "14  3655-SNQYZ     Fiber optic            Yes          Yes              Yes   \n",
      "\n",
      "   TechSupport StreamingTV StreamingMovies  \n",
      "0           No          No              No  \n",
      "1           No          No              No  \n",
      "2           No          No              No  \n",
      "3          Yes          No              No  \n",
      "4           No          No              No  \n",
      "5           No         Yes             Yes  \n",
      "6           No         Yes              No  \n",
      "7           No          No              No  \n",
      "8          Yes         Yes             Yes  \n",
      "9           No          No              No  \n",
      "10          No          No              No  \n",
      "11          No         Yes             Yes  \n",
      "12          No         Yes             Yes  \n",
      "13         Yes         Yes             Yes  \n",
      "14         Yes         Yes             Yes  \n",
      "  \n",
      "<class 'pandas.core.frame.DataFrame'>\n",
      "RangeIndex: 5517 entries, 0 to 5516\n",
      "Data columns (total 8 columns):\n",
      "customerID          5517 non-null object\n",
      "InternetService     5517 non-null object\n",
      "OnlineSecurity      5517 non-null object\n",
      "OnlineBackup        5517 non-null object\n",
      "DeviceProtection    5517 non-null object\n",
      "TechSupport         5517 non-null object\n",
      "StreamingTV         5517 non-null object\n",
      "StreamingMovies     5517 non-null object\n",
      "dtypes: object(8)\n",
      "memory usage: 344.9+ KB\n",
      "None\n",
      " \n",
      "Количество пропущенных значений: 0\n",
      " \n",
      "Уникалье значения:\n",
      "customerID          5517\n",
      "InternetService        2\n",
      "OnlineSecurity         2\n",
      "OnlineBackup           2\n",
      "DeviceProtection       2\n",
      "TechSupport            2\n",
      "StreamingTV            2\n",
      "StreamingMovies        2\n",
      "dtype: int64\n",
      " \n",
      "Количество наблюдений: 5517 Количество признаков 8\n",
      " \n",
      "Количество дублированных строк: 0\n"
     ]
    }
   ],
   "source": [
    "df_inf(df_internet)"
   ]
  },
  {
   "cell_type": "markdown",
   "metadata": {},
   "source": [
    "**Вывод по текущему датафрейму:** Датафрейм содержит информацию об интернет и прочих услугах. Абоненты не повторяются. Количество абонентов 5517. \n"
   ]
  },
  {
   "cell_type": "markdown",
   "metadata": {},
   "source": [
    "### Информация об услугах телефонии"
   ]
  },
  {
   "cell_type": "code",
   "execution_count": 11,
   "metadata": {},
   "outputs": [
    {
     "name": "stdout",
     "output_type": "stream",
     "text": [
      "    customerID MultipleLines\n",
      "0   5575-GNVDE            No\n",
      "1   3668-QPYBK            No\n",
      "2   9237-HQITU            No\n",
      "3   9305-CDSKC           Yes\n",
      "4   1452-KIOVK           Yes\n",
      "5   7892-POOKP           Yes\n",
      "6   6388-TABGU            No\n",
      "7   9763-GRSKD            No\n",
      "8   7469-LKBCI            No\n",
      "9   8091-TTVAX           Yes\n",
      "10  0280-XJGEX           Yes\n",
      "11  5129-JLPIS            No\n",
      "12  3655-SNQYZ           Yes\n",
      "13  8191-XWSZG            No\n",
      "14  9959-WOFKT           Yes\n",
      "  \n",
      "<class 'pandas.core.frame.DataFrame'>\n",
      "RangeIndex: 6361 entries, 0 to 6360\n",
      "Data columns (total 2 columns):\n",
      "customerID       6361 non-null object\n",
      "MultipleLines    6361 non-null object\n",
      "dtypes: object(2)\n",
      "memory usage: 99.5+ KB\n",
      "None\n",
      " \n",
      "Количество пропущенных значений: 0\n",
      " \n",
      "Уникалье значения:\n",
      "customerID       6361\n",
      "MultipleLines       2\n",
      "dtype: int64\n",
      " \n",
      "Количество наблюдений: 6361 Количество признаков 2\n",
      " \n",
      "Количество дублированных строк: 0\n"
     ]
    }
   ],
   "source": [
    "df_inf(df_phone)"
   ]
  },
  {
   "cell_type": "markdown",
   "metadata": {},
   "source": [
    "**Вывод по текущему датафрейму:** Датафрейм содержит информацию об услугах телефонии. Абоненты не повторяются. Количество абонентов 6361. "
   ]
  },
  {
   "cell_type": "markdown",
   "metadata": {},
   "source": [
    "# Вывод: \n",
    "\n",
    "Количество наблюдений в **df_contract** и **df_personal** одинаковое 7043. Все пользователи имеют уникальный идентификатор без повторений, несколько договоров на одного пользователя не обнаружено. Предположим у каждого клиента один договор. \n",
    "\n",
    "Количество наблюдений в **df_internet** 5517 и **df_phone** 6361.\n",
    "\n",
    "Необходимо:\n",
    "- Привести к нужному типу данных следующие столбцы: **BeginDate, EndDate, TotalCharges** в **df_contract**;\n",
    "- Выделить целевой признак для последующего обучения из **EndDate** в **df_contract**;\n",
    "- Добавить новый признак время продолжительности договора в днях, на основании **BeginDate** в **df_contract**;\n",
    "- Объединить датафреймы в один;"
   ]
  },
  {
   "cell_type": "markdown",
   "metadata": {},
   "source": [
    "## Предобработка данных"
   ]
  },
  {
   "cell_type": "code",
   "execution_count": 12,
   "metadata": {},
   "outputs": [],
   "source": [
    "# Подготовка целевого признака\n",
    "#df_contract = df_contract.assign(lost=['No' if x == 'No' else 'Yes' for x in df_contract['EndDate']])\n",
    "df_contract = df_contract.assign(lost=[0 if x == 'No' else 1 for x in df_contract['EndDate']])\n",
    "\n",
    "# Замена No на 2020-02-01\n",
    "df_contract['EndDate'] = df_contract['EndDate'].str.replace('No','2020-02-01')\n",
    "\n",
    "# Замена ' ' на 0\n",
    "df_contract['TotalCharges'] = df_contract['TotalCharges'].str.replace(' ','0').astype(np.float64)\n",
    "\n",
    "\n",
    "# Изменим к нужному типу данных \n",
    "df_contract['EndDate'] = pd.to_datetime(df_contract['EndDate'], format=\"%Y-%m-%d\")\n",
    "df_contract['BeginDate'] = pd.to_datetime(df_contract['BeginDate'], format=\"%Y-%m-%d\")"
   ]
  },
  {
   "cell_type": "code",
   "execution_count": 13,
   "metadata": {},
   "outputs": [],
   "source": [
    "# Новый признак количество дней действия договора\n",
    "df_contract['count_day'] = (df_contract['EndDate'] - df_contract['BeginDate']).dt.days.astype('int64')"
   ]
  },
  {
   "cell_type": "code",
   "execution_count": 14,
   "metadata": {},
   "outputs": [
    {
     "data": {
      "text/plain": [
       "<matplotlib.axes._subplots.AxesSubplot at 0x7f29edcc2c90>"
      ]
     },
     "execution_count": 14,
     "metadata": {},
     "output_type": "execute_result"
    },
    {
     "data": {
      "image/png": "[encoded data removed]",
      "text/plain": [
       "<Figure size 1080x360 with 1 Axes>"
      ]
     },
     "metadata": {
      "needs_background": "light"
     },
     "output_type": "display_data"
    }
   ],
   "source": [
    "df_contract['count_day'].hist(bins=100,figsize=(15,5))"
   ]
  },
  {
   "cell_type": "code",
   "execution_count": 15,
   "metadata": {},
   "outputs": [
    {
     "data": {
      "text/plain": [
       "<matplotlib.axes._subplots.AxesSubplot at 0x7f29ed9a3650>"
      ]
     },
     "execution_count": 15,
     "metadata": {},
     "output_type": "execute_result"
    },
    {
     "data": {
      "image/png": "[encoded data removed]",
      "text/plain": [
       "<Figure size 1080x360 with 1 Axes>"
      ]
     },
     "metadata": {
      "needs_background": "light"
     },
     "output_type": "display_data"
    }
   ],
   "source": [
    "df_contract.MonthlyCharges.hist(bins=100, figsize=(15,5))"
   ]
  },
  {
   "cell_type": "code",
   "execution_count": 16,
   "metadata": {},
   "outputs": [
    {
     "data": {
      "text/plain": [
       "<matplotlib.axes._subplots.AxesSubplot at 0x7f29edcab210>"
      ]
     },
     "execution_count": 16,
     "metadata": {},
     "output_type": "execute_result"
    },
    {
     "data": {
      "image/png": "[encoded data removed]",
      "text/plain": [
       "<Figure size 1080x360 with 1 Axes>"
      ]
     },
     "metadata": {
      "needs_background": "light"
     },
     "output_type": "display_data"
    }
   ],
   "source": [
    "df_contract.TotalCharges.hist(bins=100, figsize=(15,5))"
   ]
  },
  {
   "cell_type": "code",
   "execution_count": 17,
   "metadata": {},
   "outputs": [
    {
     "data": {
      "text/html": [
       "<div>\n",
       "<style scoped>\n",
       "    .dataframe tbody tr th:only-of-type {\n",
       "        vertical-align: middle;\n",
       "    }\n",
       "\n",
       "    .dataframe tbody tr th {\n",
       "        vertical-align: top;\n",
       "    }\n",
       "\n",
       "    .dataframe thead th {\n",
       "        text-align: right;\n",
       "    }\n",
       "</style>\n",
       "<table border=\"1\" class=\"dataframe\">\n",
       "  <thead>\n",
       "    <tr style=\"text-align: right;\">\n",
       "      <th></th>\n",
       "      <th>customerID</th>\n",
       "      <th>BeginDate</th>\n",
       "      <th>EndDate</th>\n",
       "      <th>Type</th>\n",
       "      <th>PaperlessBilling</th>\n",
       "      <th>PaymentMethod</th>\n",
       "      <th>MonthlyCharges</th>\n",
       "      <th>TotalCharges</th>\n",
       "      <th>lost</th>\n",
       "      <th>count_day</th>\n",
       "    </tr>\n",
       "  </thead>\n",
       "  <tbody>\n",
       "    <tr>\n",
       "      <td>488</td>\n",
       "      <td>4472-LVYGI</td>\n",
       "      <td>2020-02-01</td>\n",
       "      <td>2020-02-01</td>\n",
       "      <td>Two year</td>\n",
       "      <td>Yes</td>\n",
       "      <td>Bank transfer (automatic)</td>\n",
       "      <td>52.55</td>\n",
       "      <td>0.0</td>\n",
       "      <td>0</td>\n",
       "      <td>0</td>\n",
       "    </tr>\n",
       "    <tr>\n",
       "      <td>753</td>\n",
       "      <td>3115-CZMZD</td>\n",
       "      <td>2020-02-01</td>\n",
       "      <td>2020-02-01</td>\n",
       "      <td>Two year</td>\n",
       "      <td>No</td>\n",
       "      <td>Mailed check</td>\n",
       "      <td>20.25</td>\n",
       "      <td>0.0</td>\n",
       "      <td>0</td>\n",
       "      <td>0</td>\n",
       "    </tr>\n",
       "    <tr>\n",
       "      <td>936</td>\n",
       "      <td>5709-LVOEQ</td>\n",
       "      <td>2020-02-01</td>\n",
       "      <td>2020-02-01</td>\n",
       "      <td>Two year</td>\n",
       "      <td>No</td>\n",
       "      <td>Mailed check</td>\n",
       "      <td>80.85</td>\n",
       "      <td>0.0</td>\n",
       "      <td>0</td>\n",
       "      <td>0</td>\n",
       "    </tr>\n",
       "    <tr>\n",
       "      <td>1082</td>\n",
       "      <td>4367-NUYAO</td>\n",
       "      <td>2020-02-01</td>\n",
       "      <td>2020-02-01</td>\n",
       "      <td>Two year</td>\n",
       "      <td>No</td>\n",
       "      <td>Mailed check</td>\n",
       "      <td>25.75</td>\n",
       "      <td>0.0</td>\n",
       "      <td>0</td>\n",
       "      <td>0</td>\n",
       "    </tr>\n",
       "    <tr>\n",
       "      <td>1340</td>\n",
       "      <td>1371-DWPAZ</td>\n",
       "      <td>2020-02-01</td>\n",
       "      <td>2020-02-01</td>\n",
       "      <td>Two year</td>\n",
       "      <td>No</td>\n",
       "      <td>Credit card (automatic)</td>\n",
       "      <td>56.05</td>\n",
       "      <td>0.0</td>\n",
       "      <td>0</td>\n",
       "      <td>0</td>\n",
       "    </tr>\n",
       "    <tr>\n",
       "      <td>3331</td>\n",
       "      <td>7644-OMVMY</td>\n",
       "      <td>2020-02-01</td>\n",
       "      <td>2020-02-01</td>\n",
       "      <td>Two year</td>\n",
       "      <td>No</td>\n",
       "      <td>Mailed check</td>\n",
       "      <td>19.85</td>\n",
       "      <td>0.0</td>\n",
       "      <td>0</td>\n",
       "      <td>0</td>\n",
       "    </tr>\n",
       "    <tr>\n",
       "      <td>3826</td>\n",
       "      <td>3213-VVOLG</td>\n",
       "      <td>2020-02-01</td>\n",
       "      <td>2020-02-01</td>\n",
       "      <td>Two year</td>\n",
       "      <td>No</td>\n",
       "      <td>Mailed check</td>\n",
       "      <td>25.35</td>\n",
       "      <td>0.0</td>\n",
       "      <td>0</td>\n",
       "      <td>0</td>\n",
       "    </tr>\n",
       "    <tr>\n",
       "      <td>4380</td>\n",
       "      <td>2520-SGTTA</td>\n",
       "      <td>2020-02-01</td>\n",
       "      <td>2020-02-01</td>\n",
       "      <td>Two year</td>\n",
       "      <td>No</td>\n",
       "      <td>Mailed check</td>\n",
       "      <td>20.00</td>\n",
       "      <td>0.0</td>\n",
       "      <td>0</td>\n",
       "      <td>0</td>\n",
       "    </tr>\n",
       "    <tr>\n",
       "      <td>5218</td>\n",
       "      <td>2923-ARZLG</td>\n",
       "      <td>2020-02-01</td>\n",
       "      <td>2020-02-01</td>\n",
       "      <td>One year</td>\n",
       "      <td>Yes</td>\n",
       "      <td>Mailed check</td>\n",
       "      <td>19.70</td>\n",
       "      <td>0.0</td>\n",
       "      <td>0</td>\n",
       "      <td>0</td>\n",
       "    </tr>\n",
       "    <tr>\n",
       "      <td>6670</td>\n",
       "      <td>4075-WKNIU</td>\n",
       "      <td>2020-02-01</td>\n",
       "      <td>2020-02-01</td>\n",
       "      <td>Two year</td>\n",
       "      <td>No</td>\n",
       "      <td>Mailed check</td>\n",
       "      <td>73.35</td>\n",
       "      <td>0.0</td>\n",
       "      <td>0</td>\n",
       "      <td>0</td>\n",
       "    </tr>\n",
       "    <tr>\n",
       "      <td>6754</td>\n",
       "      <td>2775-SEFEE</td>\n",
       "      <td>2020-02-01</td>\n",
       "      <td>2020-02-01</td>\n",
       "      <td>Two year</td>\n",
       "      <td>Yes</td>\n",
       "      <td>Bank transfer (automatic)</td>\n",
       "      <td>61.90</td>\n",
       "      <td>0.0</td>\n",
       "      <td>0</td>\n",
       "      <td>0</td>\n",
       "    </tr>\n",
       "  </tbody>\n",
       "</table>\n",
       "</div>"
      ],
      "text/plain": [
       "      customerID  BeginDate    EndDate      Type PaperlessBilling  \\\n",
       "488   4472-LVYGI 2020-02-01 2020-02-01  Two year              Yes   \n",
       "753   3115-CZMZD 2020-02-01 2020-02-01  Two year               No   \n",
       "936   5709-LVOEQ 2020-02-01 2020-02-01  Two year               No   \n",
       "1082  4367-NUYAO 2020-02-01 2020-02-01  Two year               No   \n",
       "1340  1371-DWPAZ 2020-02-01 2020-02-01  Two year               No   \n",
       "3331  7644-OMVMY 2020-02-01 2020-02-01  Two year               No   \n",
       "3826  3213-VVOLG 2020-02-01 2020-02-01  Two year               No   \n",
       "4380  2520-SGTTA 2020-02-01 2020-02-01  Two year               No   \n",
       "5218  2923-ARZLG 2020-02-01 2020-02-01  One year              Yes   \n",
       "6670  4075-WKNIU 2020-02-01 2020-02-01  Two year               No   \n",
       "6754  2775-SEFEE 2020-02-01 2020-02-01  Two year              Yes   \n",
       "\n",
       "                  PaymentMethod  MonthlyCharges  TotalCharges  lost  count_day  \n",
       "488   Bank transfer (automatic)           52.55           0.0     0          0  \n",
       "753                Mailed check           20.25           0.0     0          0  \n",
       "936                Mailed check           80.85           0.0     0          0  \n",
       "1082               Mailed check           25.75           0.0     0          0  \n",
       "1340    Credit card (automatic)           56.05           0.0     0          0  \n",
       "3331               Mailed check           19.85           0.0     0          0  \n",
       "3826               Mailed check           25.35           0.0     0          0  \n",
       "4380               Mailed check           20.00           0.0     0          0  \n",
       "5218               Mailed check           19.70           0.0     0          0  \n",
       "6670               Mailed check           73.35           0.0     0          0  \n",
       "6754  Bank transfer (automatic)           61.90           0.0     0          0  "
      ]
     },
     "execution_count": 17,
     "metadata": {},
     "output_type": "execute_result"
    }
   ],
   "source": [
    "df_contract[df_contract['BeginDate'] == '2020-02-01']"
   ]
  },
  {
   "cell_type": "code",
   "execution_count": 18,
   "metadata": {},
   "outputs": [],
   "source": [
    "# Делаем полное объединение df_contract и df_personal по id абонента\n",
    "df = df_contract.merge(df_personal, on=['customerID'], how='outer')"
   ]
  },
  {
   "cell_type": "code",
   "execution_count": 19,
   "metadata": {},
   "outputs": [],
   "source": [
    "# Объединим общую таблицу с df_internet и df_phone левым соединением\n",
    "df = df.merge(df_internet, on=['customerID'], how='left')\n",
    "df = df.merge(df_phone, on=['customerID'], how='left')"
   ]
  },
  {
   "cell_type": "code",
   "execution_count": 20,
   "metadata": {},
   "outputs": [
    {
     "data": {
      "text/plain": [
       "customerID             0\n",
       "BeginDate              0\n",
       "EndDate                0\n",
       "Type                   0\n",
       "PaperlessBilling       0\n",
       "PaymentMethod          0\n",
       "MonthlyCharges         0\n",
       "TotalCharges           0\n",
       "lost                   0\n",
       "count_day              0\n",
       "gender                 0\n",
       "SeniorCitizen          0\n",
       "Partner                0\n",
       "Dependents             0\n",
       "InternetService     1526\n",
       "OnlineSecurity      1526\n",
       "OnlineBackup        1526\n",
       "DeviceProtection    1526\n",
       "TechSupport         1526\n",
       "StreamingTV         1526\n",
       "StreamingMovies     1526\n",
       "MultipleLines        682\n",
       "dtype: int64"
      ]
     },
     "execution_count": 20,
     "metadata": {},
     "output_type": "execute_result"
    }
   ],
   "source": [
    "df.isna().sum()"
   ]
  },
  {
   "cell_type": "code",
   "execution_count": 21,
   "metadata": {
    "scrolled": true
   },
   "outputs": [
    {
     "data": {
      "text/html": [
       "<div>\n",
       "<style scoped>\n",
       "    .dataframe tbody tr th:only-of-type {\n",
       "        vertical-align: middle;\n",
       "    }\n",
       "\n",
       "    .dataframe tbody tr th {\n",
       "        vertical-align: top;\n",
       "    }\n",
       "\n",
       "    .dataframe thead th {\n",
       "        text-align: right;\n",
       "    }\n",
       "</style>\n",
       "<table border=\"1\" class=\"dataframe\">\n",
       "  <thead>\n",
       "    <tr style=\"text-align: right;\">\n",
       "      <th></th>\n",
       "      <th>customerID</th>\n",
       "      <th>BeginDate</th>\n",
       "      <th>EndDate</th>\n",
       "      <th>Type</th>\n",
       "      <th>PaperlessBilling</th>\n",
       "      <th>PaymentMethod</th>\n",
       "      <th>MonthlyCharges</th>\n",
       "      <th>TotalCharges</th>\n",
       "      <th>lost</th>\n",
       "      <th>count_day</th>\n",
       "      <th>...</th>\n",
       "      <th>Partner</th>\n",
       "      <th>Dependents</th>\n",
       "      <th>InternetService</th>\n",
       "      <th>OnlineSecurity</th>\n",
       "      <th>OnlineBackup</th>\n",
       "      <th>DeviceProtection</th>\n",
       "      <th>TechSupport</th>\n",
       "      <th>StreamingTV</th>\n",
       "      <th>StreamingMovies</th>\n",
       "      <th>MultipleLines</th>\n",
       "    </tr>\n",
       "  </thead>\n",
       "  <tbody>\n",
       "    <tr>\n",
       "      <td>0</td>\n",
       "      <td>7590-VHVEG</td>\n",
       "      <td>2020-01-01</td>\n",
       "      <td>2020-02-01</td>\n",
       "      <td>Month-to-month</td>\n",
       "      <td>Yes</td>\n",
       "      <td>Electronic check</td>\n",
       "      <td>29.85</td>\n",
       "      <td>29.85</td>\n",
       "      <td>0</td>\n",
       "      <td>31</td>\n",
       "      <td>...</td>\n",
       "      <td>Yes</td>\n",
       "      <td>No</td>\n",
       "      <td>DSL</td>\n",
       "      <td>No</td>\n",
       "      <td>Yes</td>\n",
       "      <td>No</td>\n",
       "      <td>No</td>\n",
       "      <td>No</td>\n",
       "      <td>No</td>\n",
       "      <td>NaN</td>\n",
       "    </tr>\n",
       "    <tr>\n",
       "      <td>1</td>\n",
       "      <td>5575-GNVDE</td>\n",
       "      <td>2017-04-01</td>\n",
       "      <td>2020-02-01</td>\n",
       "      <td>One year</td>\n",
       "      <td>No</td>\n",
       "      <td>Mailed check</td>\n",
       "      <td>56.95</td>\n",
       "      <td>1889.50</td>\n",
       "      <td>0</td>\n",
       "      <td>1036</td>\n",
       "      <td>...</td>\n",
       "      <td>No</td>\n",
       "      <td>No</td>\n",
       "      <td>DSL</td>\n",
       "      <td>Yes</td>\n",
       "      <td>No</td>\n",
       "      <td>Yes</td>\n",
       "      <td>No</td>\n",
       "      <td>No</td>\n",
       "      <td>No</td>\n",
       "      <td>No</td>\n",
       "    </tr>\n",
       "    <tr>\n",
       "      <td>2</td>\n",
       "      <td>3668-QPYBK</td>\n",
       "      <td>2019-10-01</td>\n",
       "      <td>2019-12-01</td>\n",
       "      <td>Month-to-month</td>\n",
       "      <td>Yes</td>\n",
       "      <td>Mailed check</td>\n",
       "      <td>53.85</td>\n",
       "      <td>108.15</td>\n",
       "      <td>1</td>\n",
       "      <td>61</td>\n",
       "      <td>...</td>\n",
       "      <td>No</td>\n",
       "      <td>No</td>\n",
       "      <td>DSL</td>\n",
       "      <td>Yes</td>\n",
       "      <td>Yes</td>\n",
       "      <td>No</td>\n",
       "      <td>No</td>\n",
       "      <td>No</td>\n",
       "      <td>No</td>\n",
       "      <td>No</td>\n",
       "    </tr>\n",
       "    <tr>\n",
       "      <td>3</td>\n",
       "      <td>7795-CFOCW</td>\n",
       "      <td>2016-05-01</td>\n",
       "      <td>2020-02-01</td>\n",
       "      <td>One year</td>\n",
       "      <td>No</td>\n",
       "      <td>Bank transfer (automatic)</td>\n",
       "      <td>42.30</td>\n",
       "      <td>1840.75</td>\n",
       "      <td>0</td>\n",
       "      <td>1371</td>\n",
       "      <td>...</td>\n",
       "      <td>No</td>\n",
       "      <td>No</td>\n",
       "      <td>DSL</td>\n",
       "      <td>Yes</td>\n",
       "      <td>No</td>\n",
       "      <td>Yes</td>\n",
       "      <td>Yes</td>\n",
       "      <td>No</td>\n",
       "      <td>No</td>\n",
       "      <td>NaN</td>\n",
       "    </tr>\n",
       "    <tr>\n",
       "      <td>4</td>\n",
       "      <td>9237-HQITU</td>\n",
       "      <td>2019-09-01</td>\n",
       "      <td>2019-11-01</td>\n",
       "      <td>Month-to-month</td>\n",
       "      <td>Yes</td>\n",
       "      <td>Electronic check</td>\n",
       "      <td>70.70</td>\n",
       "      <td>151.65</td>\n",
       "      <td>1</td>\n",
       "      <td>61</td>\n",
       "      <td>...</td>\n",
       "      <td>No</td>\n",
       "      <td>No</td>\n",
       "      <td>Fiber optic</td>\n",
       "      <td>No</td>\n",
       "      <td>No</td>\n",
       "      <td>No</td>\n",
       "      <td>No</td>\n",
       "      <td>No</td>\n",
       "      <td>No</td>\n",
       "      <td>No</td>\n",
       "    </tr>\n",
       "  </tbody>\n",
       "</table>\n",
       "<p>5 rows × 22 columns</p>\n",
       "</div>"
      ],
      "text/plain": [
       "   customerID  BeginDate    EndDate            Type PaperlessBilling  \\\n",
       "0  7590-VHVEG 2020-01-01 2020-02-01  Month-to-month              Yes   \n",
       "1  5575-GNVDE 2017-04-01 2020-02-01        One year               No   \n",
       "2  3668-QPYBK 2019-10-01 2019-12-01  Month-to-month              Yes   \n",
       "3  7795-CFOCW 2016-05-01 2020-02-01        One year               No   \n",
       "4  9237-HQITU 2019-09-01 2019-11-01  Month-to-month              Yes   \n",
       "\n",
       "               PaymentMethod  MonthlyCharges  TotalCharges  lost  count_day  \\\n",
       "0           Electronic check           29.85         29.85     0         31   \n",
       "1               Mailed check           56.95       1889.50     0       1036   \n",
       "2               Mailed check           53.85        108.15     1         61   \n",
       "3  Bank transfer (automatic)           42.30       1840.75     0       1371   \n",
       "4           Electronic check           70.70        151.65     1         61   \n",
       "\n",
       "   ... Partner  Dependents InternetService OnlineSecurity OnlineBackup  \\\n",
       "0  ...     Yes          No             DSL             No          Yes   \n",
       "1  ...      No          No             DSL            Yes           No   \n",
       "2  ...      No          No             DSL            Yes          Yes   \n",
       "3  ...      No          No             DSL            Yes           No   \n",
       "4  ...      No          No     Fiber optic             No           No   \n",
       "\n",
       "  DeviceProtection TechSupport StreamingTV StreamingMovies MultipleLines  \n",
       "0               No          No          No              No           NaN  \n",
       "1              Yes          No          No              No            No  \n",
       "2               No          No          No              No            No  \n",
       "3              Yes         Yes          No              No           NaN  \n",
       "4               No          No          No              No            No  \n",
       "\n",
       "[5 rows x 22 columns]"
      ]
     },
     "execution_count": 21,
     "metadata": {},
     "output_type": "execute_result"
    }
   ],
   "source": [
    "df.head()"
   ]
  },
  {
   "cell_type": "markdown",
   "metadata": {},
   "source": [
    "# Вывод:\n",
    "\n",
    "- Датасеты объединены в один.\n",
    "- Подготовлен целевой признак **lost**.\n",
    "- Добавлен новый признак **время продолжительности договора в днях (count_day)**, на основании BeginDate.\n",
    "- Признаки приведены к нужному типу данных.\n"
   ]
  },
  {
   "cell_type": "markdown",
   "metadata": {},
   "source": [
    "## Исследовательский анализ данных. Построение графиков"
   ]
  },
  {
   "cell_type": "code",
   "execution_count": 22,
   "metadata": {},
   "outputs": [
    {
     "data": {
      "image/png": "[encoded data removed]",
      "text/plain": [
       "<Figure size 1224x360 with 1 Axes>"
      ]
     },
     "metadata": {
      "needs_background": "light"
     },
     "output_type": "display_data"
    }
   ],
   "source": [
    "fig = plt.figure(figsize=(17, 5))\n",
    "sns.set_style('whitegrid')\n",
    "sns.barplot(x=[0, 1], y=df.lost.value_counts() / df.shape[0])\n",
    "plt.xticks(range(2), ['Текущие абоненты', 'Расторгли договор'])\n",
    "plt.title('Соотношение ушедших и оставшихся абонентов')\n",
    "plt.ylabel('Доля абонентов')\n",
    "plt.show()"
   ]
  },
  {
   "cell_type": "markdown",
   "metadata": {},
   "source": [
    "Около 25% абонетов ушло."
   ]
  },
  {
   "cell_type": "markdown",
   "metadata": {},
   "source": [
    "---"
   ]
  },
  {
   "cell_type": "markdown",
   "metadata": {},
   "source": [
    "Кол-во ушедших абонентов по месяцам."
   ]
  },
  {
   "cell_type": "code",
   "execution_count": 23,
   "metadata": {
    "scrolled": false
   },
   "outputs": [
    {
     "data": {
      "image/png": "[encoded data removed]",
      "text/plain": [
       "<Figure size 1224x432 with 1 Axes>"
      ]
     },
     "metadata": {},
     "output_type": "display_data"
    }
   ],
   "source": [
    "(\n",
    "    df[df['EndDate'] != '2020-02-01']\n",
    "    .pivot_table(index='EndDate', values='lost', aggfunc=('sum'))\n",
    "    .sort_values('EndDate')\n",
    "    .plot(grid=True,figsize=(17, 6)))\n",
    "\n",
    "plt.title('Общее количество расторгнутых договоров за период')\n",
    "plt.ylabel('Кол-во расторгнутых договоров')\n",
    "plt.xlabel('Дата расторжения договора')\n",
    "plt.show()"
   ]
  },
  {
   "cell_type": "markdown",
   "metadata": {},
   "source": [
    "Представлен маленький временной период, сложно говорить о сезонности. Необходимо больше данных, несколько лет. Мы получили срок действия договора, при обучении необходимо избавиться от данного признака."
   ]
  },
  {
   "cell_type": "markdown",
   "metadata": {},
   "source": [
    "---"
   ]
  },
  {
   "cell_type": "code",
   "execution_count": 24,
   "metadata": {},
   "outputs": [
    {
     "data": {
      "image/png": "[encoded data removed]",
      "text/plain": [
       "<Figure size 504x504 with 2 Axes>"
      ]
     },
     "metadata": {},
     "output_type": "display_data"
    },
    {
     "data": {
      "image/png": "[encoded data removed]",
      "text/plain": [
       "<Figure size 504x504 with 2 Axes>"
      ]
     },
     "metadata": {},
     "output_type": "display_data"
    },
    {
     "data": {
      "image/png": "[encoded data removed]",
      "text/plain": [
       "<Figure size 504x504 with 2 Axes>"
      ]
     },
     "metadata": {},
     "output_type": "display_data"
    }
   ],
   "source": [
    "for i in ['count_day','MonthlyCharges','TotalCharges']:\n",
    "    g=sns.pairplot(df, vars=[i], hue='lost')\n",
    "    g.fig.set_size_inches(7,7)\n",
    "plt.show()"
   ]
  },
  {
   "cell_type": "markdown",
   "metadata": {},
   "source": [
    "- Новые абоненты чаше всего отказываются.\n",
    "- Можно проследить тенденцию ушедших абонентов при небольшой суммы оплаты."
   ]
  },
  {
   "cell_type": "markdown",
   "metadata": {},
   "source": [
    "---"
   ]
  },
  {
   "cell_type": "markdown",
   "metadata": {},
   "source": [
    "Процент суммовых потерь от общего кол-ва оплат"
   ]
  },
  {
   "cell_type": "code",
   "execution_count": 25,
   "metadata": {},
   "outputs": [
    {
     "data": {
      "image/png": "[encoded data removed]",
      "text/plain": [
       "<Figure size 1224x360 with 1 Axes>"
      ]
     },
     "metadata": {},
     "output_type": "display_data"
    },
    {
     "data": {
      "image/png": "[encoded data removed]",
      "text/plain": [
       "<Figure size 1224x360 with 1 Axes>"
      ]
     },
     "metadata": {},
     "output_type": "display_data"
    }
   ],
   "source": [
    "for i in ['MonthlyCharges', 'TotalCharges']:\n",
    "    (\n",
    "        df.pivot_table(index = 'lost', values = [i], aggfunc = 'sum').\n",
    "        sort_values([i], ascending = False).\n",
    "        plot(y = [i], \n",
    "             wedgeprops=dict(width=0.7), \n",
    "             kind = 'pie', \n",
    "             label = [i], \n",
    "             autopct='%1.0f%%',\n",
    "             figsize=(17, 5)))\n",
    "\n",
    "\n",
    "    plt.show()"
   ]
  },
  {
   "cell_type": "markdown",
   "metadata": {},
   "source": [
    "18% доля ушедших от общего количества платежей и 31% ежемесячных платежей"
   ]
  },
  {
   "cell_type": "markdown",
   "metadata": {},
   "source": [
    "# Вывод\n",
    "\n",
    "Просматривается тенденция ушедших абонентов при небольшой суммы оплаты. Новые абоненты чаше всего отказываются от договора."
   ]
  },
  {
   "cell_type": "markdown",
   "metadata": {},
   "source": [
    "## Подготовить данные для обучения"
   ]
  },
  {
   "cell_type": "markdown",
   "metadata": {},
   "source": [
    "### Преобразование категориальных признаков"
   ]
  },
  {
   "cell_type": "code",
   "execution_count": 26,
   "metadata": {},
   "outputs": [],
   "source": [
    "# Заполним пустые признаки.\n",
    "df = df.fillna('No') "
   ]
  },
  {
   "cell_type": "code",
   "execution_count": 27,
   "metadata": {},
   "outputs": [
    {
     "name": "stdout",
     "output_type": "stream",
     "text": [
      "<class 'pandas.core.frame.DataFrame'>\n",
      "Int64Index: 7043 entries, 0 to 7042\n",
      "Data columns (total 22 columns):\n",
      "customerID          7043 non-null object\n",
      "BeginDate           7043 non-null datetime64[ns]\n",
      "EndDate             7043 non-null datetime64[ns]\n",
      "Type                7043 non-null object\n",
      "PaperlessBilling    7043 non-null object\n",
      "PaymentMethod       7043 non-null object\n",
      "MonthlyCharges      7043 non-null float64\n",
      "TotalCharges        7043 non-null float64\n",
      "lost                7043 non-null int64\n",
      "count_day           7043 non-null int64\n",
      "gender              7043 non-null object\n",
      "SeniorCitizen       7043 non-null int64\n",
      "Partner             7043 non-null object\n",
      "Dependents          7043 non-null object\n",
      "InternetService     7043 non-null object\n",
      "OnlineSecurity      7043 non-null object\n",
      "OnlineBackup        7043 non-null object\n",
      "DeviceProtection    7043 non-null object\n",
      "TechSupport         7043 non-null object\n",
      "StreamingTV         7043 non-null object\n",
      "StreamingMovies     7043 non-null object\n",
      "MultipleLines       7043 non-null object\n",
      "dtypes: datetime64[ns](2), float64(2), int64(3), object(15)\n",
      "memory usage: 1.5+ MB\n"
     ]
    }
   ],
   "source": [
    "df.info()"
   ]
  },
  {
   "cell_type": "code",
   "execution_count": 28,
   "metadata": {},
   "outputs": [],
   "source": [
    "# Удаляем даты и ID.\n",
    "data = df.drop(['BeginDate','EndDate', 'customerID'], axis=1)"
   ]
  },
  {
   "cell_type": "code",
   "execution_count": 29,
   "metadata": {},
   "outputs": [
    {
     "name": "stdout",
     "output_type": "stream",
     "text": [
      "<class 'pandas.core.frame.DataFrame'>\n",
      "Int64Index: 7043 entries, 0 to 7042\n",
      "Data columns (total 19 columns):\n",
      "Type                7043 non-null object\n",
      "PaperlessBilling    7043 non-null object\n",
      "PaymentMethod       7043 non-null object\n",
      "MonthlyCharges      7043 non-null float64\n",
      "TotalCharges        7043 non-null float64\n",
      "lost                7043 non-null int64\n",
      "count_day           7043 non-null int64\n",
      "gender              7043 non-null object\n",
      "SeniorCitizen       7043 non-null int64\n",
      "Partner             7043 non-null object\n",
      "Dependents          7043 non-null object\n",
      "InternetService     7043 non-null object\n",
      "OnlineSecurity      7043 non-null object\n",
      "OnlineBackup        7043 non-null object\n",
      "DeviceProtection    7043 non-null object\n",
      "TechSupport         7043 non-null object\n",
      "StreamingTV         7043 non-null object\n",
      "StreamingMovies     7043 non-null object\n",
      "MultipleLines       7043 non-null object\n",
      "dtypes: float64(2), int64(3), object(14)\n",
      "memory usage: 1.4+ MB\n"
     ]
    }
   ],
   "source": [
    "data.info()"
   ]
  },
  {
   "cell_type": "markdown",
   "metadata": {},
   "source": [
    "Выделим категориальные признаки для преобразования в численные, кроме (SeniorCitizen):"
   ]
  },
  {
   "cell_type": "code",
   "execution_count": 30,
   "metadata": {},
   "outputs": [],
   "source": [
    "categorical_columns = [c for c in data.columns if data[c].dtype.name == 'object']"
   ]
  },
  {
   "cell_type": "code",
   "execution_count": 31,
   "metadata": {},
   "outputs": [
    {
     "data": {
      "text/plain": [
       "['Type',\n",
       " 'PaperlessBilling',\n",
       " 'PaymentMethod',\n",
       " 'gender',\n",
       " 'Partner',\n",
       " 'Dependents',\n",
       " 'InternetService',\n",
       " 'OnlineSecurity',\n",
       " 'OnlineBackup',\n",
       " 'DeviceProtection',\n",
       " 'TechSupport',\n",
       " 'StreamingTV',\n",
       " 'StreamingMovies',\n",
       " 'MultipleLines']"
      ]
     },
     "execution_count": 31,
     "metadata": {},
     "output_type": "execute_result"
    }
   ],
   "source": [
    "categorical_columns"
   ]
  },
  {
   "cell_type": "markdown",
   "metadata": {},
   "source": [
    "Выделим бинарные и небинарные признаки:"
   ]
  },
  {
   "cell_type": "code",
   "execution_count": 32,
   "metadata": {},
   "outputs": [
    {
     "data": {
      "text/plain": [
       "(['PaperlessBilling',\n",
       "  'gender',\n",
       "  'Partner',\n",
       "  'Dependents',\n",
       "  'OnlineSecurity',\n",
       "  'OnlineBackup',\n",
       "  'DeviceProtection',\n",
       "  'TechSupport',\n",
       "  'StreamingTV',\n",
       "  'StreamingMovies',\n",
       "  'MultipleLines'],\n",
       " ['Type', 'PaymentMethod', 'InternetService'])"
      ]
     },
     "execution_count": 32,
     "metadata": {},
     "output_type": "execute_result"
    }
   ],
   "source": [
    "binary_columns    = [c for c in categorical_columns if len(data[c].unique()) == 2]\n",
    "nonbinary_columns = [c for c in categorical_columns if len(data[c].unique()) > 2]\n",
    "binary_columns, nonbinary_columns"
   ]
  },
  {
   "cell_type": "markdown",
   "metadata": {},
   "source": [
    "У бинарных признаков изменим значения на 1 и 0."
   ]
  },
  {
   "cell_type": "code",
   "execution_count": 33,
   "metadata": {},
   "outputs": [
    {
     "data": {
      "text/html": [
       "<div>\n",
       "<style scoped>\n",
       "    .dataframe tbody tr th:only-of-type {\n",
       "        vertical-align: middle;\n",
       "    }\n",
       "\n",
       "    .dataframe tbody tr th {\n",
       "        vertical-align: top;\n",
       "    }\n",
       "\n",
       "    .dataframe thead th {\n",
       "        text-align: right;\n",
       "    }\n",
       "</style>\n",
       "<table border=\"1\" class=\"dataframe\">\n",
       "  <thead>\n",
       "    <tr style=\"text-align: right;\">\n",
       "      <th></th>\n",
       "      <th>Type</th>\n",
       "      <th>PaperlessBilling</th>\n",
       "      <th>PaymentMethod</th>\n",
       "      <th>gender</th>\n",
       "      <th>Partner</th>\n",
       "      <th>Dependents</th>\n",
       "      <th>InternetService</th>\n",
       "      <th>OnlineSecurity</th>\n",
       "      <th>OnlineBackup</th>\n",
       "      <th>DeviceProtection</th>\n",
       "      <th>TechSupport</th>\n",
       "      <th>StreamingTV</th>\n",
       "      <th>StreamingMovies</th>\n",
       "      <th>MultipleLines</th>\n",
       "    </tr>\n",
       "  </thead>\n",
       "  <tbody>\n",
       "    <tr>\n",
       "      <td>count</td>\n",
       "      <td>7043</td>\n",
       "      <td>7043</td>\n",
       "      <td>7043</td>\n",
       "      <td>7043</td>\n",
       "      <td>7043</td>\n",
       "      <td>7043</td>\n",
       "      <td>7043</td>\n",
       "      <td>7043</td>\n",
       "      <td>7043</td>\n",
       "      <td>7043</td>\n",
       "      <td>7043</td>\n",
       "      <td>7043</td>\n",
       "      <td>7043</td>\n",
       "      <td>7043</td>\n",
       "    </tr>\n",
       "    <tr>\n",
       "      <td>unique</td>\n",
       "      <td>3</td>\n",
       "      <td>2</td>\n",
       "      <td>4</td>\n",
       "      <td>2</td>\n",
       "      <td>2</td>\n",
       "      <td>2</td>\n",
       "      <td>3</td>\n",
       "      <td>2</td>\n",
       "      <td>2</td>\n",
       "      <td>2</td>\n",
       "      <td>2</td>\n",
       "      <td>2</td>\n",
       "      <td>2</td>\n",
       "      <td>2</td>\n",
       "    </tr>\n",
       "    <tr>\n",
       "      <td>top</td>\n",
       "      <td>Month-to-month</td>\n",
       "      <td>Yes</td>\n",
       "      <td>Electronic check</td>\n",
       "      <td>Male</td>\n",
       "      <td>No</td>\n",
       "      <td>No</td>\n",
       "      <td>Fiber optic</td>\n",
       "      <td>No</td>\n",
       "      <td>No</td>\n",
       "      <td>No</td>\n",
       "      <td>No</td>\n",
       "      <td>No</td>\n",
       "      <td>No</td>\n",
       "      <td>No</td>\n",
       "    </tr>\n",
       "    <tr>\n",
       "      <td>freq</td>\n",
       "      <td>3875</td>\n",
       "      <td>4171</td>\n",
       "      <td>2365</td>\n",
       "      <td>3555</td>\n",
       "      <td>3641</td>\n",
       "      <td>4933</td>\n",
       "      <td>3096</td>\n",
       "      <td>5024</td>\n",
       "      <td>4614</td>\n",
       "      <td>4621</td>\n",
       "      <td>4999</td>\n",
       "      <td>4336</td>\n",
       "      <td>4311</td>\n",
       "      <td>4072</td>\n",
       "    </tr>\n",
       "  </tbody>\n",
       "</table>\n",
       "</div>"
      ],
      "text/plain": [
       "                  Type PaperlessBilling     PaymentMethod gender Partner  \\\n",
       "count             7043             7043              7043   7043    7043   \n",
       "unique               3                2                 4      2       2   \n",
       "top     Month-to-month              Yes  Electronic check   Male      No   \n",
       "freq              3875             4171              2365   3555    3641   \n",
       "\n",
       "       Dependents InternetService OnlineSecurity OnlineBackup  \\\n",
       "count        7043            7043           7043         7043   \n",
       "unique          2               3              2            2   \n",
       "top            No     Fiber optic             No           No   \n",
       "freq         4933            3096           5024         4614   \n",
       "\n",
       "       DeviceProtection TechSupport StreamingTV StreamingMovies MultipleLines  \n",
       "count              7043        7043        7043            7043          7043  \n",
       "unique                2           2           2               2             2  \n",
       "top                  No          No          No              No            No  \n",
       "freq               4621        4999        4336            4311          4072  "
      ]
     },
     "execution_count": 33,
     "metadata": {},
     "output_type": "execute_result"
    }
   ],
   "source": [
    "data_describe = data.describe(include=[object])\n",
    "data_describe"
   ]
  },
  {
   "cell_type": "code",
   "execution_count": 34,
   "metadata": {},
   "outputs": [
    {
     "data": {
      "text/plain": [
       "['PaperlessBilling',\n",
       " 'gender',\n",
       " 'Partner',\n",
       " 'Dependents',\n",
       " 'OnlineSecurity',\n",
       " 'OnlineBackup',\n",
       " 'DeviceProtection',\n",
       " 'TechSupport',\n",
       " 'StreamingTV',\n",
       " 'StreamingMovies',\n",
       " 'MultipleLines']"
      ]
     },
     "execution_count": 34,
     "metadata": {},
     "output_type": "execute_result"
    }
   ],
   "source": [
    "binary_columns"
   ]
  },
  {
   "cell_type": "code",
   "execution_count": 35,
   "metadata": {},
   "outputs": [],
   "source": [
    "for c in binary_columns[0:]:\n",
    "    top = data_describe[c]['top']\n",
    "    top_items = data[c] == top\n",
    "    data.loc[top_items, c] = 0\n",
    "    data.loc[np.logical_not(top_items), c] = 1"
   ]
  },
  {
   "cell_type": "code",
   "execution_count": 36,
   "metadata": {},
   "outputs": [
    {
     "data": {
      "text/html": [
       "<div>\n",
       "<style scoped>\n",
       "    .dataframe tbody tr th:only-of-type {\n",
       "        vertical-align: middle;\n",
       "    }\n",
       "\n",
       "    .dataframe tbody tr th {\n",
       "        vertical-align: top;\n",
       "    }\n",
       "\n",
       "    .dataframe thead th {\n",
       "        text-align: right;\n",
       "    }\n",
       "</style>\n",
       "<table border=\"1\" class=\"dataframe\">\n",
       "  <thead>\n",
       "    <tr style=\"text-align: right;\">\n",
       "      <th></th>\n",
       "      <th>PaperlessBilling</th>\n",
       "      <th>gender</th>\n",
       "      <th>Partner</th>\n",
       "      <th>Dependents</th>\n",
       "      <th>OnlineSecurity</th>\n",
       "      <th>OnlineBackup</th>\n",
       "      <th>DeviceProtection</th>\n",
       "      <th>TechSupport</th>\n",
       "      <th>StreamingTV</th>\n",
       "      <th>StreamingMovies</th>\n",
       "      <th>MultipleLines</th>\n",
       "    </tr>\n",
       "  </thead>\n",
       "  <tbody>\n",
       "    <tr>\n",
       "      <td>count</td>\n",
       "      <td>7043.000000</td>\n",
       "      <td>7043.000000</td>\n",
       "      <td>7043.000000</td>\n",
       "      <td>7043.000000</td>\n",
       "      <td>7043.000000</td>\n",
       "      <td>7043.000000</td>\n",
       "      <td>7043.000000</td>\n",
       "      <td>7043.000000</td>\n",
       "      <td>7043.000000</td>\n",
       "      <td>7043.000000</td>\n",
       "      <td>7043.000000</td>\n",
       "    </tr>\n",
       "    <tr>\n",
       "      <td>mean</td>\n",
       "      <td>0.407781</td>\n",
       "      <td>0.495244</td>\n",
       "      <td>0.483033</td>\n",
       "      <td>0.299588</td>\n",
       "      <td>0.286668</td>\n",
       "      <td>0.344881</td>\n",
       "      <td>0.343888</td>\n",
       "      <td>0.290217</td>\n",
       "      <td>0.384353</td>\n",
       "      <td>0.387903</td>\n",
       "      <td>0.421837</td>\n",
       "    </tr>\n",
       "    <tr>\n",
       "      <td>std</td>\n",
       "      <td>0.491457</td>\n",
       "      <td>0.500013</td>\n",
       "      <td>0.499748</td>\n",
       "      <td>0.458110</td>\n",
       "      <td>0.452237</td>\n",
       "      <td>0.475363</td>\n",
       "      <td>0.475038</td>\n",
       "      <td>0.453895</td>\n",
       "      <td>0.486477</td>\n",
       "      <td>0.487307</td>\n",
       "      <td>0.493888</td>\n",
       "    </tr>\n",
       "    <tr>\n",
       "      <td>min</td>\n",
       "      <td>0.000000</td>\n",
       "      <td>0.000000</td>\n",
       "      <td>0.000000</td>\n",
       "      <td>0.000000</td>\n",
       "      <td>0.000000</td>\n",
       "      <td>0.000000</td>\n",
       "      <td>0.000000</td>\n",
       "      <td>0.000000</td>\n",
       "      <td>0.000000</td>\n",
       "      <td>0.000000</td>\n",
       "      <td>0.000000</td>\n",
       "    </tr>\n",
       "    <tr>\n",
       "      <td>25%</td>\n",
       "      <td>0.000000</td>\n",
       "      <td>0.000000</td>\n",
       "      <td>0.000000</td>\n",
       "      <td>0.000000</td>\n",
       "      <td>0.000000</td>\n",
       "      <td>0.000000</td>\n",
       "      <td>0.000000</td>\n",
       "      <td>0.000000</td>\n",
       "      <td>0.000000</td>\n",
       "      <td>0.000000</td>\n",
       "      <td>0.000000</td>\n",
       "    </tr>\n",
       "    <tr>\n",
       "      <td>50%</td>\n",
       "      <td>0.000000</td>\n",
       "      <td>0.000000</td>\n",
       "      <td>0.000000</td>\n",
       "      <td>0.000000</td>\n",
       "      <td>0.000000</td>\n",
       "      <td>0.000000</td>\n",
       "      <td>0.000000</td>\n",
       "      <td>0.000000</td>\n",
       "      <td>0.000000</td>\n",
       "      <td>0.000000</td>\n",
       "      <td>0.000000</td>\n",
       "    </tr>\n",
       "    <tr>\n",
       "      <td>75%</td>\n",
       "      <td>1.000000</td>\n",
       "      <td>1.000000</td>\n",
       "      <td>1.000000</td>\n",
       "      <td>1.000000</td>\n",
       "      <td>1.000000</td>\n",
       "      <td>1.000000</td>\n",
       "      <td>1.000000</td>\n",
       "      <td>1.000000</td>\n",
       "      <td>1.000000</td>\n",
       "      <td>1.000000</td>\n",
       "      <td>1.000000</td>\n",
       "    </tr>\n",
       "    <tr>\n",
       "      <td>max</td>\n",
       "      <td>1.000000</td>\n",
       "      <td>1.000000</td>\n",
       "      <td>1.000000</td>\n",
       "      <td>1.000000</td>\n",
       "      <td>1.000000</td>\n",
       "      <td>1.000000</td>\n",
       "      <td>1.000000</td>\n",
       "      <td>1.000000</td>\n",
       "      <td>1.000000</td>\n",
       "      <td>1.000000</td>\n",
       "      <td>1.000000</td>\n",
       "    </tr>\n",
       "  </tbody>\n",
       "</table>\n",
       "</div>"
      ],
      "text/plain": [
       "       PaperlessBilling       gender      Partner   Dependents  \\\n",
       "count       7043.000000  7043.000000  7043.000000  7043.000000   \n",
       "mean           0.407781     0.495244     0.483033     0.299588   \n",
       "std            0.491457     0.500013     0.499748     0.458110   \n",
       "min            0.000000     0.000000     0.000000     0.000000   \n",
       "25%            0.000000     0.000000     0.000000     0.000000   \n",
       "50%            0.000000     0.000000     0.000000     0.000000   \n",
       "75%            1.000000     1.000000     1.000000     1.000000   \n",
       "max            1.000000     1.000000     1.000000     1.000000   \n",
       "\n",
       "       OnlineSecurity  OnlineBackup  DeviceProtection  TechSupport  \\\n",
       "count     7043.000000   7043.000000       7043.000000  7043.000000   \n",
       "mean         0.286668      0.344881          0.343888     0.290217   \n",
       "std          0.452237      0.475363          0.475038     0.453895   \n",
       "min          0.000000      0.000000          0.000000     0.000000   \n",
       "25%          0.000000      0.000000          0.000000     0.000000   \n",
       "50%          0.000000      0.000000          0.000000     0.000000   \n",
       "75%          1.000000      1.000000          1.000000     1.000000   \n",
       "max          1.000000      1.000000          1.000000     1.000000   \n",
       "\n",
       "       StreamingTV  StreamingMovies  MultipleLines  \n",
       "count  7043.000000      7043.000000    7043.000000  \n",
       "mean      0.384353         0.387903       0.421837  \n",
       "std       0.486477         0.487307       0.493888  \n",
       "min       0.000000         0.000000       0.000000  \n",
       "25%       0.000000         0.000000       0.000000  \n",
       "50%       0.000000         0.000000       0.000000  \n",
       "75%       1.000000         1.000000       1.000000  \n",
       "max       1.000000         1.000000       1.000000  "
      ]
     },
     "execution_count": 36,
     "metadata": {},
     "output_type": "execute_result"
    }
   ],
   "source": [
    "data[binary_columns].describe()"
   ]
  },
  {
   "cell_type": "markdown",
   "metadata": {},
   "source": [
    "К небинарными признакам применим метод векторизации"
   ]
  },
  {
   "cell_type": "code",
   "execution_count": 37,
   "metadata": {},
   "outputs": [],
   "source": [
    "data = pd.get_dummies(data,drop_first=True)"
   ]
  },
  {
   "cell_type": "code",
   "execution_count": 38,
   "metadata": {},
   "outputs": [
    {
     "data": {
      "text/html": [
       "<div>\n",
       "<style scoped>\n",
       "    .dataframe tbody tr th:only-of-type {\n",
       "        vertical-align: middle;\n",
       "    }\n",
       "\n",
       "    .dataframe tbody tr th {\n",
       "        vertical-align: top;\n",
       "    }\n",
       "\n",
       "    .dataframe thead th {\n",
       "        text-align: right;\n",
       "    }\n",
       "</style>\n",
       "<table border=\"1\" class=\"dataframe\">\n",
       "  <thead>\n",
       "    <tr style=\"text-align: right;\">\n",
       "      <th></th>\n",
       "      <th>PaperlessBilling</th>\n",
       "      <th>MonthlyCharges</th>\n",
       "      <th>TotalCharges</th>\n",
       "      <th>lost</th>\n",
       "      <th>count_day</th>\n",
       "      <th>gender</th>\n",
       "      <th>SeniorCitizen</th>\n",
       "      <th>Partner</th>\n",
       "      <th>Dependents</th>\n",
       "      <th>OnlineSecurity</th>\n",
       "      <th>...</th>\n",
       "      <th>StreamingTV</th>\n",
       "      <th>StreamingMovies</th>\n",
       "      <th>MultipleLines</th>\n",
       "      <th>Type_One year</th>\n",
       "      <th>Type_Two year</th>\n",
       "      <th>PaymentMethod_Credit card (automatic)</th>\n",
       "      <th>PaymentMethod_Electronic check</th>\n",
       "      <th>PaymentMethod_Mailed check</th>\n",
       "      <th>InternetService_Fiber optic</th>\n",
       "      <th>InternetService_No</th>\n",
       "    </tr>\n",
       "  </thead>\n",
       "  <tbody>\n",
       "    <tr>\n",
       "      <td>0</td>\n",
       "      <td>0</td>\n",
       "      <td>29.85</td>\n",
       "      <td>29.85</td>\n",
       "      <td>0</td>\n",
       "      <td>31</td>\n",
       "      <td>1</td>\n",
       "      <td>0</td>\n",
       "      <td>1</td>\n",
       "      <td>0</td>\n",
       "      <td>0</td>\n",
       "      <td>...</td>\n",
       "      <td>0</td>\n",
       "      <td>0</td>\n",
       "      <td>0</td>\n",
       "      <td>0</td>\n",
       "      <td>0</td>\n",
       "      <td>0</td>\n",
       "      <td>1</td>\n",
       "      <td>0</td>\n",
       "      <td>0</td>\n",
       "      <td>0</td>\n",
       "    </tr>\n",
       "    <tr>\n",
       "      <td>1</td>\n",
       "      <td>1</td>\n",
       "      <td>56.95</td>\n",
       "      <td>1889.50</td>\n",
       "      <td>0</td>\n",
       "      <td>1036</td>\n",
       "      <td>0</td>\n",
       "      <td>0</td>\n",
       "      <td>0</td>\n",
       "      <td>0</td>\n",
       "      <td>1</td>\n",
       "      <td>...</td>\n",
       "      <td>0</td>\n",
       "      <td>0</td>\n",
       "      <td>0</td>\n",
       "      <td>1</td>\n",
       "      <td>0</td>\n",
       "      <td>0</td>\n",
       "      <td>0</td>\n",
       "      <td>1</td>\n",
       "      <td>0</td>\n",
       "      <td>0</td>\n",
       "    </tr>\n",
       "    <tr>\n",
       "      <td>2</td>\n",
       "      <td>0</td>\n",
       "      <td>53.85</td>\n",
       "      <td>108.15</td>\n",
       "      <td>1</td>\n",
       "      <td>61</td>\n",
       "      <td>0</td>\n",
       "      <td>0</td>\n",
       "      <td>0</td>\n",
       "      <td>0</td>\n",
       "      <td>1</td>\n",
       "      <td>...</td>\n",
       "      <td>0</td>\n",
       "      <td>0</td>\n",
       "      <td>0</td>\n",
       "      <td>0</td>\n",
       "      <td>0</td>\n",
       "      <td>0</td>\n",
       "      <td>0</td>\n",
       "      <td>1</td>\n",
       "      <td>0</td>\n",
       "      <td>0</td>\n",
       "    </tr>\n",
       "    <tr>\n",
       "      <td>3</td>\n",
       "      <td>1</td>\n",
       "      <td>42.30</td>\n",
       "      <td>1840.75</td>\n",
       "      <td>0</td>\n",
       "      <td>1371</td>\n",
       "      <td>0</td>\n",
       "      <td>0</td>\n",
       "      <td>0</td>\n",
       "      <td>0</td>\n",
       "      <td>1</td>\n",
       "      <td>...</td>\n",
       "      <td>0</td>\n",
       "      <td>0</td>\n",
       "      <td>0</td>\n",
       "      <td>1</td>\n",
       "      <td>0</td>\n",
       "      <td>0</td>\n",
       "      <td>0</td>\n",
       "      <td>0</td>\n",
       "      <td>0</td>\n",
       "      <td>0</td>\n",
       "    </tr>\n",
       "    <tr>\n",
       "      <td>4</td>\n",
       "      <td>0</td>\n",
       "      <td>70.70</td>\n",
       "      <td>151.65</td>\n",
       "      <td>1</td>\n",
       "      <td>61</td>\n",
       "      <td>1</td>\n",
       "      <td>0</td>\n",
       "      <td>0</td>\n",
       "      <td>0</td>\n",
       "      <td>0</td>\n",
       "      <td>...</td>\n",
       "      <td>0</td>\n",
       "      <td>0</td>\n",
       "      <td>0</td>\n",
       "      <td>0</td>\n",
       "      <td>0</td>\n",
       "      <td>0</td>\n",
       "      <td>1</td>\n",
       "      <td>0</td>\n",
       "      <td>1</td>\n",
       "      <td>0</td>\n",
       "    </tr>\n",
       "  </tbody>\n",
       "</table>\n",
       "<p>5 rows × 23 columns</p>\n",
       "</div>"
      ],
      "text/plain": [
       "   PaperlessBilling  MonthlyCharges  TotalCharges  lost  count_day  gender  \\\n",
       "0                 0           29.85         29.85     0         31       1   \n",
       "1                 1           56.95       1889.50     0       1036       0   \n",
       "2                 0           53.85        108.15     1         61       0   \n",
       "3                 1           42.30       1840.75     0       1371       0   \n",
       "4                 0           70.70        151.65     1         61       1   \n",
       "\n",
       "   SeniorCitizen  Partner  Dependents  OnlineSecurity  ...  StreamingTV  \\\n",
       "0              0        1           0               0  ...            0   \n",
       "1              0        0           0               1  ...            0   \n",
       "2              0        0           0               1  ...            0   \n",
       "3              0        0           0               1  ...            0   \n",
       "4              0        0           0               0  ...            0   \n",
       "\n",
       "   StreamingMovies  MultipleLines  Type_One year  Type_Two year  \\\n",
       "0                0              0              0              0   \n",
       "1                0              0              1              0   \n",
       "2                0              0              0              0   \n",
       "3                0              0              1              0   \n",
       "4                0              0              0              0   \n",
       "\n",
       "   PaymentMethod_Credit card (automatic)  PaymentMethod_Electronic check  \\\n",
       "0                                      0                               1   \n",
       "1                                      0                               0   \n",
       "2                                      0                               0   \n",
       "3                                      0                               0   \n",
       "4                                      0                               1   \n",
       "\n",
       "   PaymentMethod_Mailed check  InternetService_Fiber optic  InternetService_No  \n",
       "0                           0                            0                   0  \n",
       "1                           1                            0                   0  \n",
       "2                           1                            0                   0  \n",
       "3                           0                            0                   0  \n",
       "4                           0                            1                   0  \n",
       "\n",
       "[5 rows x 23 columns]"
      ]
     },
     "execution_count": 38,
     "metadata": {},
     "output_type": "execute_result"
    }
   ],
   "source": [
    "data.head(5)"
   ]
  },
  {
   "cell_type": "code",
   "execution_count": 39,
   "metadata": {},
   "outputs": [
    {
     "name": "stdout",
     "output_type": "stream",
     "text": [
      "<class 'pandas.core.frame.DataFrame'>\n",
      "Int64Index: 7043 entries, 0 to 7042\n",
      "Data columns (total 23 columns):\n",
      "PaperlessBilling                         7043 non-null int64\n",
      "MonthlyCharges                           7043 non-null float64\n",
      "TotalCharges                             7043 non-null float64\n",
      "lost                                     7043 non-null int64\n",
      "count_day                                7043 non-null int64\n",
      "gender                                   7043 non-null int64\n",
      "SeniorCitizen                            7043 non-null int64\n",
      "Partner                                  7043 non-null int64\n",
      "Dependents                               7043 non-null int64\n",
      "OnlineSecurity                           7043 non-null int64\n",
      "OnlineBackup                             7043 non-null int64\n",
      "DeviceProtection                         7043 non-null int64\n",
      "TechSupport                              7043 non-null int64\n",
      "StreamingTV                              7043 non-null int64\n",
      "StreamingMovies                          7043 non-null int64\n",
      "MultipleLines                            7043 non-null int64\n",
      "Type_One year                            7043 non-null uint8\n",
      "Type_Two year                            7043 non-null uint8\n",
      "PaymentMethod_Credit card (automatic)    7043 non-null uint8\n",
      "PaymentMethod_Electronic check           7043 non-null uint8\n",
      "PaymentMethod_Mailed check               7043 non-null uint8\n",
      "InternetService_Fiber optic              7043 non-null uint8\n",
      "InternetService_No                       7043 non-null uint8\n",
      "dtypes: float64(2), int64(14), uint8(7)\n",
      "memory usage: 1.3 MB\n"
     ]
    }
   ],
   "source": [
    "data.info()"
   ]
  },
  {
   "cell_type": "markdown",
   "metadata": {},
   "source": [
    "### Разбеение данных на выборки."
   ]
  },
  {
   "cell_type": "code",
   "execution_count": 40,
   "metadata": {},
   "outputs": [],
   "source": [
    "target = data['lost']\n",
    "features = data.drop(['lost'],axis=1)"
   ]
  },
  {
   "cell_type": "code",
   "execution_count": 41,
   "metadata": {},
   "outputs": [],
   "source": [
    "# Разделение на валидационную выборку\n",
    "features_train, features_valid, target_train, target_valid = train_test_split(features, \n",
    "                                                                              target,\n",
    "                                                                              stratify=target,\n",
    "                                                                              test_size=0.20, \n",
    "                                                                              random_state=12345)"
   ]
  },
  {
   "cell_type": "code",
   "execution_count": 42,
   "metadata": {},
   "outputs": [],
   "source": [
    "# Разделение на обучающую и тестовую выборки\n",
    "features_train, features_test, target_train, target_test = train_test_split(features_train, \n",
    "                                                                            target_train,\n",
    "                                                                            stratify=target_train,\n",
    "                                                                            test_size=0.25, \n",
    "                                                                            random_state=12345)"
   ]
  },
  {
   "cell_type": "code",
   "execution_count": 43,
   "metadata": {},
   "outputs": [],
   "source": [
    "# Проверка доли целевого признака\n",
    "def chek_stratify(data, namedata):\n",
    "    print(\"Доля ушедших клиентов для\",namedata,\"выборки: {:.2%}\".format(data.sum()/len(data)))"
   ]
  },
  {
   "cell_type": "code",
   "execution_count": 44,
   "metadata": {},
   "outputs": [
    {
     "name": "stdout",
     "output_type": "stream",
     "text": [
      "Доля ушедших клиентов для обучающей выборки: 26.53%\n",
      "Доля ушедших клиентов для валидационной выборки: 26.54%\n",
      "Доля ушедших клиентов для тестовой выборки: 26.54%\n"
     ]
    }
   ],
   "source": [
    "chek_stratify(target_train,\"обучающей\")\n",
    "chek_stratify(target_valid,\"валидационной\")\n",
    "chek_stratify(target_test,\"тестовой\")"
   ]
  },
  {
   "cell_type": "code",
   "execution_count": 45,
   "metadata": {},
   "outputs": [
    {
     "name": "stdout",
     "output_type": "stream",
     "text": [
      "(4225,) (1409,) (1409,)\n"
     ]
    }
   ],
   "source": [
    "print(target_train.shape, target_valid.shape, target_test.shape)"
   ]
  },
  {
   "cell_type": "code",
   "execution_count": 46,
   "metadata": {},
   "outputs": [],
   "source": [
    "x_col = ['PaperlessBilling', 'MonthlyCharges', 'TotalCharges', 'count_day',\n",
    "       'gender', 'SeniorCitizen', 'Partner', 'Dependents', 'OnlineSecurity',\n",
    "       'OnlineBackup', 'DeviceProtection', 'TechSupport', 'StreamingTV',\n",
    "       'StreamingMovies', 'MultipleLines', 'Type_One year', 'Type_Two year',\n",
    "       'PaymentMethod_Credit card (automatic)',\n",
    "       'PaymentMethod_Electronic check', 'PaymentMethod_Mailed check',\n",
    "       'InternetService_Fiber optic', 'InternetService_No']\n",
    "\n",
    "cat_features = ['PaperlessBilling', 'gender', 'Partner', \n",
    "                'Dependents', 'OnlineSecurity', 'OnlineBackup', 'DeviceProtection',\n",
    "                'TechSupport', 'StreamingTV', 'StreamingMovies', 'MultipleLines',\n",
    "                'Type_One year', 'Type_Two year', 'PaymentMethod_Credit card (automatic)',\n",
    "                'PaymentMethod_Electronic check', 'PaymentMethod_Mailed check',\n",
    "                'InternetService_Fiber optic', 'InternetService_No', 'SeniorCitizen']\n",
    "\n",
    "y_col = ['lost']"
   ]
  },
  {
   "cell_type": "markdown",
   "metadata": {},
   "source": [
    "Увеличим обучающую выборку.\n",
    "\n",
    "Преобразование проходит в несколько этапов:\n",
    " * Разделить обучающую выборку на отрицательные и положительные объекты;\n",
    " * Скопировать несколько раз положительные объекты;\n",
    " * С учётом полученных данных создать новую обучающую выборку;\n",
    " * Перемешать данные: идущие друг за другом"
   ]
  },
  {
   "cell_type": "code",
   "execution_count": 47,
   "metadata": {},
   "outputs": [],
   "source": [
    "def upsample(features, target, repeat):\n",
    "    features_zeros = features[target == 0]\n",
    "    features_ones = features[target == 1]\n",
    "    target_zeros = target[target == 0]\n",
    "    target_ones = target[target == 1]\n",
    "\n",
    "    features_upsampled = pd.concat([features_zeros] + [features_ones] * repeat)\n",
    "    target_upsampled = pd.concat([target_zeros] + [target_ones] * repeat)\n",
    "    \n",
    "    features_upsampled, target_upsampled = shuffle(\n",
    "        features_upsampled, target_upsampled, random_state=12345)\n",
    "    \n",
    "    return features_upsampled, target_upsampled\n",
    "\n",
    "#features_upsampled, target_upsampled = upsample(features_train, target_train, 3)\n",
    "features_train, target_train = upsample(features_train, target_train, 3)"
   ]
  },
  {
   "cell_type": "code",
   "execution_count": 48,
   "metadata": {},
   "outputs": [
    {
     "data": {
      "text/plain": [
       "6467"
      ]
     },
     "execution_count": 48,
     "metadata": {},
     "output_type": "execute_result"
    }
   ],
   "source": [
    "features_train.shape[0]"
   ]
  },
  {
   "cell_type": "markdown",
   "metadata": {},
   "source": [
    "# Вывод\n",
    "\n",
    "- Бинарные признаки заменены на 1 и 0. К остальным не бинарными признакам применен метод векторизации;\n",
    "- Разделены данные на 3 выборки: обучающую, вариационную и тестовую;\n",
    "- Увеличена обучающая выборка, для борьбы с дисбалансом;"
   ]
  },
  {
   "cell_type": "markdown",
   "metadata": {},
   "source": [
    "## Модель"
   ]
  },
  {
   "cell_type": "code",
   "execution_count": 49,
   "metadata": {},
   "outputs": [],
   "source": [
    "general_table = {}\n",
    "\n",
    "def base_fit(model, name: str):\n",
    "\n",
    "    model.fit(features_train, target_train)\n",
    "    \n",
    "    probabilities_valid = model.predict_proba(features_valid)\n",
    "    probabilities_one_valid = probabilities_valid[:, 1]    \n",
    "    roc_auc = roc_auc_score(target_valid, probabilities_one_valid)\n",
    "    accuracy = accuracy_score(model.predict(features_valid), target_valid)\n",
    "    matrix = confusion_matrix(model.predict(features_valid), target_valid)\n",
    "    classification = classification_report(model.predict(features_valid), target_valid) \n",
    "    \n",
    "    print(classification)\n",
    "    print(\" \")\n",
    "    print('Confusion Metrix:')\n",
    "    print(matrix)\n",
    "    print(\" \")\n",
    "    print('roc_auc', roc_auc)\n",
    "    print(\" \")\n",
    "    print('accuracy', accuracy)\n",
    "\n",
    "    general_table.update({name:roc_auc})"
   ]
  },
  {
   "cell_type": "markdown",
   "metadata": {},
   "source": [
    "### DecisionTreeClassifier"
   ]
  },
  {
   "cell_type": "code",
   "execution_count": 50,
   "metadata": {},
   "outputs": [],
   "source": [
    "model_DecisionTreeClassifier = GridSearchCV(DecisionTreeClassifier(random_state=12345),\n",
    "                                            param_grid={'max_features': ['auto', 'sqrt', 'log2'],\n",
    "                                                        'max_depth': [10,50,100,500]},\n",
    "                                                        #'class_weight': ['balanced']},\n",
    "                                            cv=5, \n",
    "                                            scoring='roc_auc')"
   ]
  },
  {
   "cell_type": "code",
   "execution_count": 51,
   "metadata": {},
   "outputs": [
    {
     "name": "stdout",
     "output_type": "stream",
     "text": [
      "              precision    recall  f1-score   support\n",
      "\n",
      "           0       0.84      0.83      0.83      1049\n",
      "           1       0.51      0.53      0.52       360\n",
      "\n",
      "    accuracy                           0.75      1409\n",
      "   macro avg       0.68      0.68      0.68      1409\n",
      "weighted avg       0.75      0.75      0.75      1409\n",
      "\n",
      " \n",
      "Confusion Metrix:\n",
      "[[867 182]\n",
      " [168 192]]\n",
      " \n",
      "roc_auc 0.6771409749670619\n",
      " \n",
      "accuracy 0.751596877217885\n"
     ]
    }
   ],
   "source": [
    "base_fit(model_DecisionTreeClassifier,'DecisionTreeClassifier')"
   ]
  },
  {
   "cell_type": "markdown",
   "metadata": {},
   "source": [
    "### RandomForestClassifier"
   ]
  },
  {
   "cell_type": "code",
   "execution_count": 52,
   "metadata": {},
   "outputs": [],
   "source": [
    "model_RandomForestClassifier = GridSearchCV(RandomForestClassifier(random_state=12345), \n",
    "                                            param_grid={'max_features': ['auto', 'sqrt', 'log2'],\n",
    "                                                        'max_depth': [10,50,100,500],\n",
    "                                                        'n_estimators': [10,50,100,]},\n",
    "                                                        #'class_weight': ['balanced']}, \n",
    "                                            cv=5, \n",
    "                                            scoring='roc_auc')"
   ]
  },
  {
   "cell_type": "code",
   "execution_count": 53,
   "metadata": {},
   "outputs": [
    {
     "name": "stdout",
     "output_type": "stream",
     "text": [
      "              precision    recall  f1-score   support\n",
      "\n",
      "           0       0.86      0.86      0.86      1030\n",
      "           1       0.63      0.62      0.62       379\n",
      "\n",
      "    accuracy                           0.80      1409\n",
      "   macro avg       0.74      0.74      0.74      1409\n",
      "weighted avg       0.80      0.80      0.80      1409\n",
      "\n",
      " \n",
      "Confusion Metrix:\n",
      "[[890 140]\n",
      " [145 234]]\n",
      " \n",
      "roc_auc 0.8372316515539022\n",
      " \n",
      "accuracy 0.7977288857345636\n"
     ]
    }
   ],
   "source": [
    "base_fit(model_RandomForestClassifier, 'RandomForestClassifier')"
   ]
  },
  {
   "cell_type": "markdown",
   "metadata": {},
   "source": [
    "### XGBClassifier"
   ]
  },
  {
   "cell_type": "code",
   "execution_count": 54,
   "metadata": {},
   "outputs": [],
   "source": [
    "model_XGBClassifier = GridSearchCV(XGBClassifier(random_state=12345), \n",
    "                  param_grid={'max_depth': range(5, 11),\n",
    "                              'learning_rate': np.arange(.4, 1.4, .1)},\n",
    "                  cv=5, \n",
    "                  scoring='roc_auc')"
   ]
  },
  {
   "cell_type": "code",
   "execution_count": 55,
   "metadata": {},
   "outputs": [
    {
     "name": "stdout",
     "output_type": "stream",
     "text": [
      "              precision    recall  f1-score   support\n",
      "\n",
      "           0       0.90      0.88      0.89      1064\n",
      "           1       0.65      0.70      0.67       345\n",
      "\n",
      "    accuracy                           0.83      1409\n",
      "   macro avg       0.77      0.79      0.78      1409\n",
      "weighted avg       0.84      0.83      0.84      1409\n",
      "\n",
      " \n",
      "Confusion Metrix:\n",
      "[[932 132]\n",
      " [103 242]]\n",
      " \n",
      "roc_auc 0.8752008576816761\n",
      " \n",
      "accuracy 0.8332150461320085\n"
     ]
    }
   ],
   "source": [
    "base_fit(model_XGBClassifier,'XGBClassifier')"
   ]
  },
  {
   "cell_type": "code",
   "execution_count": 56,
   "metadata": {},
   "outputs": [
    {
     "name": "stdout",
     "output_type": "stream",
     "text": [
      "Accuracy 0.8410220014194464\n",
      "Roc_auc 0.8844467694851327\n",
      "F1 0.6948228882833788\n"
     ]
    }
   ],
   "source": [
    "probabilities_test = model_XGBClassifier.predict_proba(features_test) \n",
    "probabilities_one_test = probabilities_test[:, 1] \n",
    "\n",
    "print('Accuracy',accuracy_score(model_XGBClassifier.predict(features_test), target_test))\n",
    "print('Roc_auc',roc_auc_score(target_test,probabilities_one_test))\n",
    "print('F1', f1_score(model_XGBClassifier.predict(features_test), target_test))"
   ]
  },
  {
   "cell_type": "code",
   "execution_count": 70,
   "metadata": {},
   "outputs": [
    {
     "data": {
      "text/plain": [
       "array([[930, 119],\n",
       "       [105, 255]])"
      ]
     },
     "execution_count": 70,
     "metadata": {},
     "output_type": "execute_result"
    }
   ],
   "source": [
    "confusion_matrix(model_XGBClassifier.predict(features_test), target_test)"
   ]
  },
  {
   "cell_type": "markdown",
   "metadata": {},
   "source": [
    "Хороший результат. Но дальше CatBoost"
   ]
  },
  {
   "cell_type": "markdown",
   "metadata": {},
   "source": [
    "### CatBoostClassifier"
   ]
  },
  {
   "cell_type": "code",
   "execution_count": 57,
   "metadata": {},
   "outputs": [],
   "source": [
    "model_CatBoostClassifier = CatBoostClassifier(random_state=12345, \n",
    "                                              iterations=200,\n",
    "                                              learning_rate=0.3,\n",
    "                                              eval_metric='AUC',\n",
    "                                              cat_features=cat_features,\n",
    "                                              depth = 5,\n",
    "                                              early_stopping_rounds= 50,\n",
    "                                              verbose = 0)"
   ]
  },
  {
   "cell_type": "code",
   "execution_count": 58,
   "metadata": {},
   "outputs": [
    {
     "name": "stdout",
     "output_type": "stream",
     "text": [
      "              precision    recall  f1-score   support\n",
      "\n",
      "         0.0       0.88      0.91      0.89       998\n",
      "         1.0       0.75      0.69      0.72       411\n",
      "\n",
      "    accuracy                           0.84      1409\n",
      "   macro avg       0.81      0.80      0.80      1409\n",
      "weighted avg       0.84      0.84      0.84      1409\n",
      "\n",
      " \n",
      "Confusion Metrix:\n",
      "[[906  92]\n",
      " [129 282]]\n",
      " \n",
      "roc_auc 0.8948539099434241\n",
      " \n",
      "accuracy 0.8431511710432931\n"
     ]
    }
   ],
   "source": [
    "base_fit(model_CatBoostClassifier,'CatBoostClassifier')"
   ]
  },
  {
   "cell_type": "markdown",
   "metadata": {},
   "source": [
    "Посмотрим посмотрим лучшее значения метрики."
   ]
  },
  {
   "cell_type": "code",
   "execution_count": 59,
   "metadata": {},
   "outputs": [
    {
     "data": {
      "image/png": "[encoded data removed]",
      "text/plain": [
       "<Figure size 1224x432 with 1 Axes>"
      ]
     },
     "metadata": {},
     "output_type": "display_data"
    }
   ],
   "source": [
    "pd.Series(general_table).plot(grid=True,figsize=(17, 6),kind='bar',label = 'модель')\n",
    "plt.axhline(0.75, xmin=0, xmax=1, linestyle = '--',label = 'минимальное допустимое значение метрики по условию')\n",
    "plt.title('Качество предсказаний моделей (Метрика roc_auc)')\n",
    "plt.ylabel('Метрика')\n",
    "plt.legend()\n",
    "plt.show()"
   ]
  },
  {
   "cell_type": "markdown",
   "metadata": {},
   "source": [
    "Лучше всех себя показала CatBoostClassifier,показал лучший результат ROC_AUC  0.88764. Попробуем ещё немного улучшить качество модели используя eval_set."
   ]
  },
  {
   "cell_type": "code",
   "execution_count": 60,
   "metadata": {
    "scrolled": false
   },
   "outputs": [
    {
     "data": {
      "text/plain": [
       "<catboost.core.CatBoostClassifier at 0x7f29e4cf8f90>"
      ]
     },
     "execution_count": 60,
     "metadata": {},
     "output_type": "execute_result"
    }
   ],
   "source": [
    "model_CatBoostClassifier.fit(features_train, target_train, eval_set = (features_valid, target_valid))"
   ]
  },
  {
   "cell_type": "code",
   "execution_count": 61,
   "metadata": {
    "scrolled": false
   },
   "outputs": [
    {
     "data": {
      "text/plain": [
       "0.8957038414838926"
      ]
     },
     "execution_count": 61,
     "metadata": {},
     "output_type": "execute_result"
    }
   ],
   "source": [
    "probabilities_valid = model_CatBoostClassifier.predict_proba(features_valid) \n",
    "probabilities_one_valid = probabilities_valid[:, 1] \n",
    "roc_auc_score(target_valid,probabilities_one_valid)"
   ]
  },
  {
   "cell_type": "code",
   "execution_count": 62,
   "metadata": {},
   "outputs": [
    {
     "data": {
      "text/plain": [
       "array([[901,  89],\n",
       "       [134, 285]])"
      ]
     },
     "execution_count": 62,
     "metadata": {},
     "output_type": "execute_result"
    }
   ],
   "source": [
    "confusion_matrix(model_CatBoostClassifier.predict(features_valid), target_valid)"
   ]
  },
  {
   "cell_type": "markdown",
   "metadata": {},
   "source": [
    "Достигнутое значение ROC_AUC 0.8957."
   ]
  },
  {
   "cell_type": "code",
   "execution_count": 63,
   "metadata": {},
   "outputs": [],
   "source": [
    "fi = pd.DataFrame({'w':model_CatBoostClassifier.feature_importances_, 'name':features_train.columns})"
   ]
  },
  {
   "cell_type": "code",
   "execution_count": 64,
   "metadata": {
    "scrolled": false
   },
   "outputs": [
    {
     "data": {
      "text/html": [
       "<div>\n",
       "<style scoped>\n",
       "    .dataframe tbody tr th:only-of-type {\n",
       "        vertical-align: middle;\n",
       "    }\n",
       "\n",
       "    .dataframe tbody tr th {\n",
       "        vertical-align: top;\n",
       "    }\n",
       "\n",
       "    .dataframe thead th {\n",
       "        text-align: right;\n",
       "    }\n",
       "</style>\n",
       "<table border=\"1\" class=\"dataframe\">\n",
       "  <thead>\n",
       "    <tr style=\"text-align: right;\">\n",
       "      <th></th>\n",
       "      <th>w</th>\n",
       "      <th>name</th>\n",
       "    </tr>\n",
       "  </thead>\n",
       "  <tbody>\n",
       "    <tr>\n",
       "      <td>3</td>\n",
       "      <td>48.651053</td>\n",
       "      <td>count_day</td>\n",
       "    </tr>\n",
       "    <tr>\n",
       "      <td>2</td>\n",
       "      <td>12.455354</td>\n",
       "      <td>TotalCharges</td>\n",
       "    </tr>\n",
       "    <tr>\n",
       "      <td>1</td>\n",
       "      <td>11.921195</td>\n",
       "      <td>MonthlyCharges</td>\n",
       "    </tr>\n",
       "    <tr>\n",
       "      <td>16</td>\n",
       "      <td>2.920670</td>\n",
       "      <td>Type_Two year</td>\n",
       "    </tr>\n",
       "    <tr>\n",
       "      <td>20</td>\n",
       "      <td>2.784760</td>\n",
       "      <td>InternetService_Fiber optic</td>\n",
       "    </tr>\n",
       "    <tr>\n",
       "      <td>15</td>\n",
       "      <td>2.045418</td>\n",
       "      <td>Type_One year</td>\n",
       "    </tr>\n",
       "    <tr>\n",
       "      <td>4</td>\n",
       "      <td>2.019897</td>\n",
       "      <td>gender</td>\n",
       "    </tr>\n",
       "    <tr>\n",
       "      <td>14</td>\n",
       "      <td>1.782545</td>\n",
       "      <td>MultipleLines</td>\n",
       "    </tr>\n",
       "    <tr>\n",
       "      <td>18</td>\n",
       "      <td>1.722652</td>\n",
       "      <td>PaymentMethod_Electronic check</td>\n",
       "    </tr>\n",
       "    <tr>\n",
       "      <td>0</td>\n",
       "      <td>1.499837</td>\n",
       "      <td>PaperlessBilling</td>\n",
       "    </tr>\n",
       "    <tr>\n",
       "      <td>8</td>\n",
       "      <td>1.459477</td>\n",
       "      <td>OnlineSecurity</td>\n",
       "    </tr>\n",
       "    <tr>\n",
       "      <td>7</td>\n",
       "      <td>1.214602</td>\n",
       "      <td>Dependents</td>\n",
       "    </tr>\n",
       "    <tr>\n",
       "      <td>11</td>\n",
       "      <td>1.203519</td>\n",
       "      <td>TechSupport</td>\n",
       "    </tr>\n",
       "    <tr>\n",
       "      <td>19</td>\n",
       "      <td>1.169834</td>\n",
       "      <td>PaymentMethod_Mailed check</td>\n",
       "    </tr>\n",
       "    <tr>\n",
       "      <td>12</td>\n",
       "      <td>0.982927</td>\n",
       "      <td>StreamingTV</td>\n",
       "    </tr>\n",
       "    <tr>\n",
       "      <td>9</td>\n",
       "      <td>0.977100</td>\n",
       "      <td>OnlineBackup</td>\n",
       "    </tr>\n",
       "    <tr>\n",
       "      <td>10</td>\n",
       "      <td>0.962784</td>\n",
       "      <td>DeviceProtection</td>\n",
       "    </tr>\n",
       "    <tr>\n",
       "      <td>17</td>\n",
       "      <td>0.901213</td>\n",
       "      <td>PaymentMethod_Credit card (automatic)</td>\n",
       "    </tr>\n",
       "    <tr>\n",
       "      <td>21</td>\n",
       "      <td>0.887850</td>\n",
       "      <td>InternetService_No</td>\n",
       "    </tr>\n",
       "    <tr>\n",
       "      <td>5</td>\n",
       "      <td>0.885732</td>\n",
       "      <td>SeniorCitizen</td>\n",
       "    </tr>\n",
       "    <tr>\n",
       "      <td>6</td>\n",
       "      <td>0.853904</td>\n",
       "      <td>Partner</td>\n",
       "    </tr>\n",
       "    <tr>\n",
       "      <td>13</td>\n",
       "      <td>0.697676</td>\n",
       "      <td>StreamingMovies</td>\n",
       "    </tr>\n",
       "  </tbody>\n",
       "</table>\n",
       "</div>"
      ],
      "text/plain": [
       "            w                                   name\n",
       "3   48.651053                              count_day\n",
       "2   12.455354                           TotalCharges\n",
       "1   11.921195                         MonthlyCharges\n",
       "16   2.920670                          Type_Two year\n",
       "20   2.784760            InternetService_Fiber optic\n",
       "15   2.045418                          Type_One year\n",
       "4    2.019897                                 gender\n",
       "14   1.782545                          MultipleLines\n",
       "18   1.722652         PaymentMethod_Electronic check\n",
       "0    1.499837                       PaperlessBilling\n",
       "8    1.459477                         OnlineSecurity\n",
       "7    1.214602                             Dependents\n",
       "11   1.203519                            TechSupport\n",
       "19   1.169834             PaymentMethod_Mailed check\n",
       "12   0.982927                            StreamingTV\n",
       "9    0.977100                           OnlineBackup\n",
       "10   0.962784                       DeviceProtection\n",
       "17   0.901213  PaymentMethod_Credit card (automatic)\n",
       "21   0.887850                     InternetService_No\n",
       "5    0.885732                          SeniorCitizen\n",
       "6    0.853904                                Partner\n",
       "13   0.697676                        StreamingMovies"
      ]
     },
     "execution_count": 64,
     "metadata": {},
     "output_type": "execute_result"
    }
   ],
   "source": [
    "fi.sort_values('w', ascending=False)"
   ]
  },
  {
   "cell_type": "code",
   "execution_count": 65,
   "metadata": {},
   "outputs": [
    {
     "data": {
      "image/png": "[encoded data removed]",
      "text/plain": [
       "<Figure size 576x576 with 1 Axes>"
      ]
     },
     "metadata": {},
     "output_type": "display_data"
    }
   ],
   "source": [
    "plt.figure(figsize=(8, 8))\n",
    "plt.title(\"Feature importances\")\n",
    "plt.bar(np.array(features_train.columns), model_CatBoostClassifier.feature_importances_, align='center')\n",
    "plt.xticks(np.array(features_train.columns), rotation=90)\n",
    "plt.xlim();"
   ]
  },
  {
   "cell_type": "markdown",
   "metadata": {},
   "source": [
    "## Тестирование модели и вывод"
   ]
  },
  {
   "cell_type": "markdown",
   "metadata": {},
   "source": [
    "Тестируем нашу модель на тестовой выборке"
   ]
  },
  {
   "cell_type": "code",
   "execution_count": 66,
   "metadata": {},
   "outputs": [
    {
     "name": "stdout",
     "output_type": "stream",
     "text": [
      "Accuracy 0.8516678495386799\n",
      "Roc_auc 0.9150649719703428\n",
      "F1 0.7317073170731707\n"
     ]
    }
   ],
   "source": [
    "probabilities_test = model_CatBoostClassifier.predict_proba(features_test) \n",
    "probabilities_one_test = probabilities_test[:, 1] \n",
    "\n",
    "print('Accuracy',accuracy_score(model_CatBoostClassifier.predict(features_test), target_test))\n",
    "print('Roc_auc',roc_auc_score(target_test,probabilities_one_test))\n",
    "print('F1', f1_score(model_CatBoostClassifier.predict(features_test), target_test))"
   ]
  },
  {
   "cell_type": "code",
   "execution_count": 67,
   "metadata": {
    "scrolled": true
   },
   "outputs": [
    {
     "data": {
      "text/plain": [
       "array([[915,  89],\n",
       "       [120, 285]])"
      ]
     },
     "execution_count": 67,
     "metadata": {},
     "output_type": "execute_result"
    }
   ],
   "source": [
    "confusion_matrix(model_CatBoostClassifier.predict(features_test), target_test)"
   ]
  },
  {
   "cell_type": "code",
   "execution_count": 68,
   "metadata": {},
   "outputs": [
    {
     "name": "stdout",
     "output_type": "stream",
     "text": [
      " 11.59%\n",
      " 76.20%\n"
     ]
    }
   ],
   "source": [
    "q = confusion_matrix(model_CatBoostClassifier.predict(features_test), target_test)\n",
    "print(\" {:.2%}\".format((q[1][0]) /  (q[0][0] + q[1][0])))\n",
    "print(\" {:.2%}\".format((q[1][1]) / (q[1][1] + q[0][1])))"
   ]
  },
  {
   "cell_type": "code",
   "execution_count": 69,
   "metadata": {},
   "outputs": [
    {
     "name": "stdout",
     "output_type": "stream",
     "text": [
      "              precision    recall  f1-score   support\n",
      "\n",
      "         0.0       0.88      0.91      0.90      1004\n",
      "         1.0       0.76      0.70      0.73       405\n",
      "\n",
      "    accuracy                           0.85      1409\n",
      "   macro avg       0.82      0.81      0.81      1409\n",
      "weighted avg       0.85      0.85      0.85      1409\n",
      "\n"
     ]
    }
   ],
   "source": [
    "print(classification_report(model_CatBoostClassifier.predict(features_test), target_test))"
   ]
  },
  {
   "cell_type": "markdown",
   "metadata": {},
   "source": [
    "Вывод:\n",
    "\n",
    "Как показывает Accuracy на тестовой выборке с 85% существует вероятность, что модель правильно классифицирует пользователя. По условию задачи, метрику Roc_auc необходимо было получить больше 0,75, у нас 0.91."
   ]
  },
  {
   "cell_type": "markdown",
   "metadata": {},
   "source": [
    "## Отчет"
   ]
  },
  {
   "cell_type": "markdown",
   "metadata": {},
   "source": [
    "# Какие пункты плана были выполнены, а какие — нет (поясните почему)?\n",
    "\n",
    "Все пункты плана были выполнены.\n",
    "\n",
    "# Какие трудности возникли и как вы их преодолели?\n",
    "Проблемы были с построениями графиков в исследовательском анализе. Не знал, как лучше построить графики для хорошей визуализации. Путем многократного построения различных графиков вывел для себя графики с наилучшей визуализацией. \n",
    "\n",
    "\n",
    "# Какие ключевые шаги в решении задачи выделили?\n",
    "- Анализ данных;\n",
    "- Создание нового признака;\n",
    "- Предобработка данных\n",
    " - Объеденение датасетов\n",
    " - Подготовка целевого признака из EndDate\n",
    " - Добавлен новый признак время продолжительности договора в днях.\n",
    " - Изменён тип данных у BeginDate, EndDate, TotalCharges в df_contract.\n",
    "- Преобразование категориальных признаков\n",
    "- Баланс классов\n",
    "- Подбор гиперпараметров модели с помощью GridSearchCV.\n",
    "\n",
    "В обучении модели не участвовали следующие признаки: 'BeginDate','EndDate', 'customerID'.\n",
    "Основные признаки при обучении: count_day, TotalCharges, MonthlyCharges, Type_Two year, InternetService_Fiber optic, Type_One year\n",
    "\n",
    "\n",
    "\n",
    "\n",
    "# Какая ваша итоговая модель и какое у неё качество?\n",
    "CatBoost показал Roc_auc 0.91. XGBClassifier тоже показывает хороший Roc_auc. На тестовой выборке 0.8844. \n",
    "Предпочтение отдам XGBClassifier, т.к. данная модель лидер по истине положительным ответам, что является основным фактом при постановке задачи.\n"
   ]
  },
  {
   "cell_type": "markdown",
   "metadata": {},
   "source": [
    "###### Комментарий от тимлида\n",
    "\n",
    "Привет! Все отлично."
   ]
  }
 ],
 "metadata": {
  "kernelspec": {
   "display_name": "Python 3",
   "language": "python",
   "name": "python3"
  },
  "language_info": {
   "codemirror_mode": {
    "name": "ipython",
    "version": 3
   },
   "file_extension": ".py",
   "mimetype": "text/x-python",
   "name": "python",
   "nbconvert_exporter": "python",
   "pygments_lexer": "ipython3",
   "version": "3.7.8"
  },
  "toc": {
   "base_numbering": 1,
   "nav_menu": {},
   "number_sections": true,
   "sideBar": true,
   "skip_h1_title": true,
   "title_cell": "Table of Contents",
   "title_sidebar": "Contents",
   "toc_cell": false,
   "toc_position": {},
   "toc_section_display": true,
   "toc_window_display": false
  }
 },
 "nbformat": 4,
 "nbformat_minor": 2
}
